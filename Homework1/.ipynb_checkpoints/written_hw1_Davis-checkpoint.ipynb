{
 "cells": [
  {
   "cell_type": "markdown",
   "id": "349325cc",
   "metadata": {},
   "source": [
    "# Problem Set One: Kelcey Davis"
   ]
  },
  {
   "cell_type": "code",
   "execution_count": 1,
   "id": "4298f017",
   "metadata": {},
   "outputs": [],
   "source": [
    "import astropy.units as u\n",
    "import astropy.constants as c\n",
    "from astropy.coordinates import SkyCoord\n",
    "from astropy.time import Time\n",
    "import numpy as np\n",
    "import matplotlib.pyplot as plt\n",
    "import pandas as pd\n",
    "import glob\n",
    "%matplotlib inline"
   ]
  },
  {
   "cell_type": "code",
   "execution_count": 2,
   "id": "d2f9672d",
   "metadata": {},
   "outputs": [],
   "source": [
    "plt.rcParams['figure.figsize'] = (10, 10)\n",
    "plt.rc('axes', labelsize=14)\n",
    "plt.rc('axes', labelweight='bold')\n",
    "plt.rc('axes', titlesize=16)\n",
    "plt.rc('axes', titleweight='bold')\n",
    "plt.rc('font', family='sans-serif')"
   ]
  },
  {
   "cell_type": "markdown",
   "id": "a2e1e4f7",
   "metadata": {},
   "source": [
    "# Problem One"
   ]
  },
  {
   "cell_type": "markdown",
   "id": "e15b6f4b",
   "metadata": {},
   "source": [
    "**Angular Size**. A second of arc (or arcsecond) is 1/60 of a minute of arc (or arcminute),\n",
    "which in turn is 1/60 of a degree of arc on the sky. So an arcsecond is 1/3600 of a degree. A radian,\n",
    "as youll hopefully all remember, is the angle subtended at the center of a circle by a portion of the\n",
    "circle equal in length to the circles radius. A steradian is a measure of area on the sky in units of\n",
    "square radians.\n",
    "\n",
    "(a) From these definitions, write and evaluate an expression for the number of arcseconds in a\n",
    "radian. Give it to the nearest arcsecond.\n",
    "\n",
    "(b) The Hubble Space Telescope can detect 30,000 galaxies brighter than m=32 in a 10 arcmin x\n",
    "10 arcmin region of sky. If we surveyed the entire sky (not just one hemisphere), how many\n",
    "galaxies would Hubble detect?"
   ]
  },
  {
   "cell_type": "markdown",
   "id": "50c45535",
   "metadata": {},
   "source": [
    "\n",
    "## 1. a\n",
    "\n",
    "Definitions we know:\n",
    "\n",
    "1 arcsec = $\\frac{1}{60}$ arcmin\n",
    "\n",
    "1 arcmin = $\\frac{1}{60}$ deg\n",
    "\n",
    "1 arcsec = $\\frac{1}{3600}$ deg \n",
    "\n",
    "$\\pi$ rad =180 deg\n",
    "\n",
    "1 arcsec = ?? rad"
   ]
  },
  {
   "cell_type": "markdown",
   "id": "6bddcde4",
   "metadata": {},
   "source": [
    "We can just switch around our radians to degrees formula to get:\n",
    "\n",
    "180 deg = $\\pi$ rad\n",
    "\n",
    "and\n",
    "\n",
    "1 arcsec = $\\frac{1}{3600}$ deg \n",
    "\n",
    "becomes \n",
    "\n",
    "1 arcsec = $\\frac{1}{3600}$ $\\frac{\\pi}{180}$ rad \n",
    "\n",
    "$\\therefore$ \n",
    "\n",
    "1 arcsec = $\\frac{\\pi}{648000}$ rad \n",
    "\n",
    "and \n",
    "\n",
    "1 rad = $\\frac{648000}{\\pi}$ arcsec\n",
    "\n",
    "or \n",
    "\n",
    "1 rad = 206264.80624709636 arcsec\n",
    "\n",
    "rounding:\n",
    "\n",
    "**1 rad = 206265 arcsec**"
   ]
  },
  {
   "cell_type": "markdown",
   "id": "ec214644",
   "metadata": {},
   "source": [
    "## 1.b\n"
   ]
  },
  {
   "cell_type": "markdown",
   "id": "b0885e14",
   "metadata": {},
   "source": [
    "First we need to know how many total arcseconds there are in the sky."
   ]
  }
 ],
 "metadata": {
  "kernelspec": {
   "display_name": "Python 3",
   "language": "python",
   "name": "python3"
  },
  "language_info": {
   "codemirror_mode": {
    "name": "ipython",
    "version": 3
   },
   "file_extension": ".py",
   "mimetype": "text/x-python",
   "name": "python",
   "nbconvert_exporter": "python",
   "pygments_lexer": "ipython3",
   "version": "3.9.6"
  }
 },
 "nbformat": 4,
 "nbformat_minor": 5
}
