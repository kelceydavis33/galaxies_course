{
 "cells": [
  {
   "cell_type": "markdown",
   "id": "a854630f",
   "metadata": {},
   "source": [
    "# Problem Set One: Kelcey Davis"
   ]
  },
  {
   "cell_type": "code",
   "execution_count": 6,
   "id": "4298f017",
   "metadata": {},
   "outputs": [],
   "source": [
    "import astropy.units as u\n",
    "import astropy.constants as c\n",
    "from astropy.coordinates import SkyCoord\n",
    "from astropy.time import Time\n",
    "import numpy as np\n",
    "import matplotlib.pyplot as plt\n",
    "import pandas as pd\n",
    "import glob\n",
    "%matplotlib inline"
   ]
  },
  {
   "cell_type": "code",
   "execution_count": 7,
   "id": "d2f9672d",
   "metadata": {},
   "outputs": [],
   "source": [
    "plt.rcParams['figure.figsize'] = (10, 10)\n",
    "plt.rc('axes', labelsize=14)\n",
    "plt.rc('axes', labelweight='bold')\n",
    "plt.rc('axes', titlesize=16)\n",
    "plt.rc('axes', titleweight='bold')\n",
    "plt.rc('font', family='sans-serif')"
   ]
  },
  {
   "cell_type": "markdown",
   "id": "8eb5cc59",
   "metadata": {},
   "source": [
    "# Problem One"
   ]
  },
  {
   "cell_type": "markdown",
   "id": "6f8cf12c",
   "metadata": {},
   "source": [
    "**Angular Size**. A second of arc (or arcsecond) is 1/60 of a minute of arc (or arcminute),\n",
    "which in turn is 1/60 of a degree of arc on the sky. So an arcsecond is 1/3600 of a degree. A radian,\n",
    "as youll hopefully all remember, is the angle subtended at the center of a circle by a portion of the\n",
    "circle equal in length to the circles radius. A steradian is a measure of area on the sky in units of\n",
    "square radians.\n",
    "\n",
    "---\n",
    "\n",
    "(a) From these definitions, write and evaluate an expression for the number of arcseconds in a\n",
    "radian. Give it to the nearest arcsecond.\n",
    "\n",
    "(b) The Hubble Space Telescope can detect 30,000 galaxies brighter than m=32 in a 10 arcmin x\n",
    "10 arcmin region of sky. If we surveyed the entire sky (not just one hemisphere), how many\n",
    "galaxies would Hubble detect?"
   ]
  },
  {
   "cell_type": "markdown",
   "id": "3ed0ab4b",
   "metadata": {},
   "source": [
    "\n",
    "## 1. a\n",
    "\n",
    "Definitions we know:\n",
    "\n",
    "1 arcsec = $\\frac{1}{60}$ arcmin\n",
    "\n",
    "1 arcmin = $\\frac{1}{60}$ deg\n",
    "\n",
    "1 arcsec = $\\frac{1}{3600}$ deg \n",
    "\n",
    "$\\pi$ rad =180 deg\n",
    "\n",
    "1 arcsec = ?? rad"
   ]
  },
  {
   "cell_type": "markdown",
   "id": "e59e48db",
   "metadata": {},
   "source": [
    "We can just switch around our radians to degrees formula to get:\n",
    "\n",
    "180 deg = $\\pi$ rad\n",
    "\n",
    "and\n",
    "\n",
    "1 arcsec = $\\frac{1}{3600}$ deg \n",
    "\n",
    "becomes \n",
    "\n",
    "1 arcsec = $\\frac{1}{3600}$ $\\frac{\\pi}{180}$ rad \n",
    "\n",
    "$\\therefore$ \n",
    "\n",
    "1 arcsec = $\\frac{\\pi}{648000}$ rad \n",
    "\n",
    "and \n",
    "\n",
    "1 rad = $\\frac{648000}{\\pi}$ arcsec\n",
    "\n",
    "or \n",
    "\n",
    "1 rad = 206264.80624709636 arcsec\n",
    "\n",
    "rounding:\n",
    "\n",
    "**1 rad = 206265 arcsec**"
   ]
  },
  {
   "cell_type": "markdown",
   "id": "2218804b",
   "metadata": {},
   "source": [
    "## 1.b\n"
   ]
  },
  {
   "cell_type": "markdown",
   "id": "e5458f41",
   "metadata": {},
   "source": [
    "First we need to know how many total arcseconds there are in the sky.\n",
    "\n",
    "We know the sky has 360 degrees in one dimension."
   ]
  },
  {
   "cell_type": "code",
   "execution_count": 15,
   "id": "aad7b16f",
   "metadata": {},
   "outputs": [
    {
     "name": "stdout",
     "output_type": "stream",
     "text": [
      "There are 129600 square degrees on the sky.\n"
     ]
    }
   ],
   "source": [
    "print(f'There are {360*360} square degrees on the sky.')"
   ]
  },
  {
   "cell_type": "markdown",
   "id": "26cef633",
   "metadata": {},
   "source": [
    "There are 30,000 galaxies in 100 square arcminutes. 100 square arcminutes is:\n",
    "\n",
    "$\\frac{10 arcmin}{1}*\\frac{deg}{60 arcmin}$\n",
    "\n",
    "$10 arcmin = 0.166 deg$\n",
    "\n",
    "$100 arcmin^2 = 0.0277 deg^2$"
   ]
  },
  {
   "cell_type": "markdown",
   "id": "5461a05d",
   "metadata": {},
   "source": [
    "By proportionality,\n",
    "\n",
    "$\\frac{30,000 galaxies}{0.0277 deg^2} = \\frac{x galaxies}{129600 deg^2}$"
   ]
  },
  {
   "cell_type": "code",
   "execution_count": 23,
   "id": "f11d8b5b",
   "metadata": {},
   "outputs": [
    {
     "name": "stdout",
     "output_type": "stream",
     "text": [
      "This is roughly 1.4e+11 galaxies across the entire sky.\n"
     ]
    }
   ],
   "source": [
    "galaxies = 30000*(360*360)/0.02777\n",
    "print(f'This is roughly {galaxies:.1e} galaxies across the entire sky.')"
   ]
  },
  {
   "cell_type": "markdown",
   "id": "197f00f4",
   "metadata": {},
   "source": [
    "# Problem 2"
   ]
  },
  {
   "cell_type": "markdown",
   "id": "49b10b23",
   "metadata": {},
   "source": [
    "**Black Holes**. The observation that all galaxies have supermassive black holes in their\n",
    "centers begs the question: how were they created? The easiest theory is that small black holes were\n",
    "created in the early universe by the first stars (known as Population III stars)when they exploded\n",
    "as supernovae. These black holes would have masses of 10 Md. These could then grow over time,\n",
    "to reach millions, or even billions, of Solar masses by today.\n",
    "However, we have observed galaxies at redshifts greater than six, only one billion years after the Big\n",
    "Bang, which have black holes with masses in excess of 109 Md. Conventional methods of black hole\n",
    "growth would prevent a Population III black hole seed from growing so fast. Due to this difficulty,\n",
    "a number of theorists are now studying so-called ‘direct-collapse black holes,’ which is when a large\n",
    "cloud of gas, with M„ 105Md collapses directly into a black hole. Calculate the radius of the event\n",
    "horizon in these two cases (Pop III ‘seeds’ and direct-collapse), and discuss one object (for each\n",
    "case) in the physical world which is of a similar size.\n",
    "\n",
    "---"
   ]
  },
  {
   "cell_type": "markdown",
   "id": "ec7d88cb",
   "metadata": {},
   "source": [
    "For pop II seeds:\n",
    "\n",
    "M = 10 Msun\n",
    "\n",
    "For direct collapse:\n",
    "\n",
    "M = $10^5$ Msun\n",
    "\n",
    "The event horizon or schwartzchild radius is given by:\n",
    "\n",
    "$R = \\frac{2GM}{c^2}$"
   ]
  },
  {
   "cell_type": "code",
   "execution_count": 10,
   "id": "b45d1796",
   "metadata": {},
   "outputs": [
    {
     "name": "stdout",
     "output_type": "stream",
     "text": [
      "The mass of the sun in kg is 1.988409870698051e+30.\n"
     ]
    }
   ],
   "source": [
    "msun_kg = u.M_sun.to(u.kg)\n",
    "print(f'The mass of the sun in kg is {msun_kg}.')"
   ]
  },
  {
   "cell_type": "code",
   "execution_count": 21,
   "id": "4599d672",
   "metadata": {},
   "outputs": [
    {
     "name": "stdout",
     "output_type": "stream",
     "text": [
      "The gravitational constant G is given by 6.6743e-11 m3 / (kg s2).\n"
     ]
    }
   ],
   "source": [
    "print(f'The gravitational constant G is given by {c.G.decompose()}.')"
   ]
  },
  {
   "cell_type": "code",
   "execution_count": 22,
   "id": "cc66b51d",
   "metadata": {},
   "outputs": [
    {
     "name": "stdout",
     "output_type": "stream",
     "text": [
      "The speed of light c is given by 299792458.0 m / s.\n"
     ]
    }
   ],
   "source": [
    "print(f'The speed of light c is given by {c.c.decompose()}.')"
   ]
  },
  {
   "cell_type": "markdown",
   "id": "32e18287",
   "metadata": {},
   "source": [
    "For our pop III seeds, a typical event horizon would be:\n",
    "\n",
    "$R = \\frac{2 * 6.6743e-11 [\\frac{m^3}{kg s^2}] * 10 * 1.988e30 [kg]}{3e8 [\\frac{m^2}{s^2}] }$\n",
    "\n",
    "the units clearly cancel down to meters and we get:"
   ]
  },
  {
   "cell_type": "code",
   "execution_count": 30,
   "id": "72dbc623",
   "metadata": {},
   "outputs": [
    {
     "name": "stdout",
     "output_type": "stream",
     "text": [
      "This is an event horizon radius of 3.0e+04 m.\n"
     ]
    }
   ],
   "source": [
    "r = (2*6.6743e-11*10*1.988e30)/(299792458**2)\n",
    "print(f'This is an event horizon radius of {r:.1e} m.')"
   ]
  },
  {
   "cell_type": "markdown",
   "id": "8b05d97d",
   "metadata": {},
   "source": [
    "Now for the direct collapse, we have a radius of:\n",
    "\n",
    "$R = \\frac{2 * 6.6743e-11 [\\frac{m^3}{kg s^2}] * 10^5 * 1.988e30 [kg]}{3e8 [\\frac{m^2}{s^2}] }$\n",
    "\n",
    "the units clearly cancel down to meters and we get:\n"
   ]
  },
  {
   "cell_type": "code",
   "execution_count": 31,
   "id": "04da1827",
   "metadata": {},
   "outputs": [
    {
     "name": "stdout",
     "output_type": "stream",
     "text": [
      "This is an event horizon radius of 3.0e+08 m.\n"
     ]
    }
   ],
   "source": [
    "r = (2*6.6743e-11*1e5*1.988e30)/(299792458**2)\n",
    "print(f'This is an event horizon radius of {r:.1e} m.')"
   ]
  },
  {
   "cell_type": "markdown",
   "id": "824a242a",
   "metadata": {},
   "source": [
    "What objects are of similar size?\n",
    "\n",
    "for the pop III stars, $3x10^{4}$ meters is 30 km.\n",
    "\n",
    "Mt.Everest is about 10km from sea level, so this would be about the size of three Mt.Everests stacked on top of each other."
   ]
  },
  {
   "cell_type": "markdown",
   "id": "a925d199",
   "metadata": {},
   "source": [
    "For a direct collapse black hole, we have a radius of $3x10^8$ m or  $3x10^6$ km. 3 million km. JWST orbits us at about 1.5 million km, so this is about twice the distance between us and JWST."
   ]
  },
  {
   "cell_type": "markdown",
   "id": "67fd54d7",
   "metadata": {},
   "source": [
    "# Problem 3\n",
    "\n",
    "---\n",
    "\n",
    "**Galaxy Rotation.** One piece of evidence against the extragalactic nature of ‘spiral nebulae’\n",
    "came came from Adriaan van Maanen, who in 1916 claimed to see the galaxy M101 rotating. The\n",
    "angular rotation rate he reported was 0.02 arcsec/year. The assumed diameter of M101 was 100\n",
    "kpc."
   ]
  },
  {
   "cell_type": "markdown",
   "id": "236b424d",
   "metadata": {},
   "source": [
    "**a.** Using van Maanens (flawed) observation and the assumed diameter of M101, estimate the\n",
    "speed of a point at the edge of the galaxy and compare it to the characteristic rotation speed\n",
    "of the Milky Way, 220 km/s."
   ]
  },
  {
   "cell_type": "code",
   "execution_count": 1,
   "id": "eb3a31a2",
   "metadata": {},
   "outputs": [],
   "source": [
    "rot_reported = 0.02#arcsec/year\n",
    "d_m101 = 100#kpc"
   ]
  },
  {
   "cell_type": "markdown",
   "id": "865a124f",
   "metadata": {},
   "source": [
    "$v_{rot} = r * angular speed$\n",
    "\n",
    "1 rad = 206265 arcsec\n",
    "\n",
    "$0.02 arcsec * \\frac{1 rad}{206265 arcsec}$ = 9.6963e-08 rad"
   ]
  },
  {
   "cell_type": "code",
   "execution_count": 41,
   "id": "86a41477",
   "metadata": {},
   "outputs": [
    {
     "name": "stdout",
     "output_type": "stream",
     "text": [
      "The rotational velocity would be 4.8e-06[kpc/year].\n"
     ]
    }
   ],
   "source": [
    "v_rot = 9.696264514095945e-08*(d_m101/2)\n",
    "print(f'The rotational velocity would be {v_rot:.1e}[kpc/year].')"
   ]
  },
  {
   "cell_type": "markdown",
   "id": "0ab28dcc",
   "metadata": {},
   "source": [
    "**b.** The diameter of M101 is actually 45.4 kpc. Assuming it rotates at the same velocity as the\n",
    "Milky Way, estimate the angular rotation rate of stars at the edge of the galaxy."
   ]
  },
  {
   "cell_type": "markdown",
   "id": "88544fff",
   "metadata": {},
   "source": [
    "$\\omega = \\frac{v}{r}$"
   ]
  },
  {
   "cell_type": "markdown",
   "id": "a14b5bd7",
   "metadata": {},
   "source": [
    "$\\frac{km}{1} * \\frac{3.2407x10^{-17} kpc}{km}$"
   ]
  },
  {
   "cell_type": "code",
   "execution_count": 70,
   "id": "bbf984dd",
   "metadata": {},
   "outputs": [
    {
     "name": "stdout",
     "output_type": "stream",
     "text": [
      "The angular rotation rate is approximately 3.0e-16[rad/s]\n"
     ]
    }
   ],
   "source": [
    "d = 45.4 #kpc\n",
    "v_mw = 210 * 3.2407e-17 #kpc/s\n",
    "\n",
    "omega = v_mw/(0.5*d)\n",
    "print(f'The angular rotation rate is approximately {omega:.1e}[rad/s]')"
   ]
  },
  {
   "cell_type": "markdown",
   "id": "99798288",
   "metadata": {},
   "source": [
    "How long\n",
    "would it take for the galaxy to rotate through 1 arcsec? "
   ]
  },
  {
   "cell_type": "markdown",
   "id": "d32a8c50",
   "metadata": {},
   "source": [
    "$\\frac{rad}{1} * \\frac{ 206265 arcsec}{rad}$"
   ]
  },
  {
   "cell_type": "markdown",
   "id": "0a9ef3bb",
   "metadata": {},
   "source": [
    "$\\frac{s}{1} * \\frac{m}{60 s} *  \\frac{h}{60 m} *  \\frac{d}{24 h} *  \\frac{y}{365.25 d}$"
   ]
  },
  {
   "cell_type": "code",
   "execution_count": 78,
   "id": "c6cb6a6c",
   "metadata": {},
   "outputs": [
    {
     "name": "stdout",
     "output_type": "stream",
     "text": [
      "The rotation rate is 6.2e-11 [arcsec/s].\n",
      "This corresponds to the galaxy rotating through an arcsecond in 700.0 years.\n"
     ]
    }
   ],
   "source": [
    "omega_arcsec = omega*206265\n",
    "print(f'The rotation rate is {omega_arcsec:.1e} [arcsec/s].')\n",
    "conv = 1/(60*60*24*265.25)\n",
    "t = (1/6.2e-11)*conv\n",
    "print(f'This corresponds to the galaxy rotating through an arcsecond in {round(t, -1)} years.')"
   ]
  },
  {
   "cell_type": "markdown",
   "id": "1cd00817",
   "metadata": {},
   "source": [
    "The maximum resolution observable\n",
    "from the ground today is roughly 0.5 arcsec. Could astronomers in the 1920s have detected\n",
    "the rotation of M101?"
   ]
  },
  {
   "cell_type": "markdown",
   "id": "8678a410",
   "metadata": {},
   "source": [
    "Sadly no this would not be observable. They would need to observe for 350 years just for the rotation to match the available resolution."
   ]
  },
  {
   "cell_type": "markdown",
   "id": "c1f68661",
   "metadata": {},
   "source": [
    "# Problem 4\n",
    "\n",
    "**When galaxies collide.** Two galaxies collide, each of which has an apparent magnitude\n",
    "of mgal = 12. Assuming flux is conserved, what is the final magnitude of the merger product?\n",
    "\n",
    "---"
   ]
  },
  {
   "cell_type": "markdown",
   "id": "f4dbf21f",
   "metadata": {},
   "source": [
    "Aparent magnitudes:\n",
    "\n",
    "$m_{\\lambda} = -2.5 log_{10}(F_{\\lambda})$\n",
    "\n"
   ]
  },
  {
   "cell_type": "markdown",
   "id": "8889fa08",
   "metadata": {},
   "source": [
    "$\\frac{-m}{2.5} = log_{10}(F)$"
   ]
  },
  {
   "cell_type": "markdown",
   "id": "7c299d09",
   "metadata": {},
   "source": [
    "$F = 10^{\\frac{-m}{2.5}}$\n",
    "\n",
    "$F + F = 10^{\\frac{-12}{2.5}} + 10^{\\frac{-12}{2.5}}$"
   ]
  },
  {
   "cell_type": "code",
   "execution_count": 45,
   "id": "ddef3df0",
   "metadata": {},
   "outputs": [
    {
     "name": "stdout",
     "output_type": "stream",
     "text": [
      "The comnined flux is 3.2e-05.\n"
     ]
    }
   ],
   "source": [
    "f = 2*10**(-12/2.5)\n",
    "print(f'The comnined flux is {f:.1e}.')"
   ]
  },
  {
   "cell_type": "markdown",
   "id": "0c396b03",
   "metadata": {},
   "source": [
    "$m_{sum} = -2.5log_{10}(3.2e-5)$"
   ]
  },
  {
   "cell_type": "code",
   "execution_count": 48,
   "id": "db4f50bc",
   "metadata": {},
   "outputs": [
    {
     "name": "stdout",
     "output_type": "stream",
     "text": [
      "The resulting combined magnitude will be 11.0 magnitudes.\n"
     ]
    }
   ],
   "source": [
    "m = -2.5*np.log10(f)\n",
    "print(f'The resulting combined magnitude will be {round(m,0)} magnitudes.')"
   ]
  },
  {
   "cell_type": "markdown",
   "id": "cdb6a960",
   "metadata": {},
   "source": [
    "# Problem 5\n",
    "\n",
    "**Like the stars in the sky**. The Andromeda galaxy has a distance of 0.9 Mpc and\n",
    "an apparent magnitude mgal = 3.5. Assuming each star has the same intrinsic brightness of the\n",
    "Sun (absolute magnitude of Msun = 4.74 (was written as 5.48)), estimate how many stars are in\n",
    "Andromeda\n",
    "\n",
    "---\n"
   ]
  },
  {
   "cell_type": "code",
   "execution_count": 4,
   "id": "c966d6ce",
   "metadata": {},
   "outputs": [],
   "source": [
    "d = 0.9# Mpc\n",
    "m_apar = 3.5 #andomeda\n",
    "m_abs = 4.74 #sun"
   ]
  },
  {
   "cell_type": "markdown",
   "id": "4a5fb4b3",
   "metadata": {},
   "source": [
    "Absolute magnitude:\n",
    "\n",
    "$M = m -5 log_{10}(\\frac{d}{10pc})$\n",
    "\n",
    "$M_{andromeda} = 3.5 -5 log_{10}(\\frac{0.9x10^6 pc}{10pc})$"
   ]
  },
  {
   "cell_type": "code",
   "execution_count": 51,
   "id": "6c5b3e83",
   "metadata": {},
   "outputs": [
    {
     "name": "stdout",
     "output_type": "stream",
     "text": [
      "The Absolute Magnitude of Anfromeda is -21.271.\n"
     ]
    }
   ],
   "source": [
    "M_and = 3.5-5*(np.log10(0.9e6/10))\n",
    "print(f'The Absolute Magnitude of Anfromeda is {round(M_and, 3)}.')"
   ]
  },
  {
   "cell_type": "code",
   "execution_count": 53,
   "id": "4f5edca0",
   "metadata": {},
   "outputs": [],
   "source": [
    "Msun = 4.74"
   ]
  },
  {
   "cell_type": "markdown",
   "id": "d5e1bdf6",
   "metadata": {},
   "source": [
    "$M_1 = M_2 - 2.5 log_{10}\\frac{l_1}{l_2}$\n",
    "\n",
    "$\\frac{l_1}{l_2} = 10^\\frac{(M_1 - M_2)}{-2.5}$\n",
    "\n",
    "let $M_1$ be the andromeda galaxy and $M_2$ be the a single star."
   ]
  },
  {
   "cell_type": "code",
   "execution_count": 58,
   "id": "1f70ec4b",
   "metadata": {},
   "outputs": [
    {
     "name": "stdout",
     "output_type": "stream",
     "text": [
      "The luminosity ratio is 2.5e+10.\n"
     ]
    }
   ],
   "source": [
    "l_ratio = 10**((M_and-Msun)/(-2.5))\n",
    "print(f'The luminosity ratio is {l_ratio:.1e}.')"
   ]
  },
  {
   "cell_type": "markdown",
   "id": "7b2b5cc5",
   "metadata": {},
   "source": [
    "We can consider this ratio to be proportional to the number of stars that make up the galaxy. We can then conclude that:"
   ]
  },
  {
   "cell_type": "code",
   "execution_count": 59,
   "id": "28bc1cb4",
   "metadata": {},
   "outputs": [
    {
     "name": "stdout",
     "output_type": "stream",
     "text": [
      "The number of stars in the Andromeda galaxy is approximately 2.5e+10.\n"
     ]
    }
   ],
   "source": [
    "print(f'The number of stars in the Andromeda galaxy is approximately {l_ratio:.1e}.')"
   ]
  },
  {
   "cell_type": "markdown",
   "id": "b84bcee5",
   "metadata": {},
   "source": [
    "# Problem 6\n",
    "\n",
    "**Gravity.** Show that the total, gravitational potential energy of a uniform density sphere is\n",
    "\n",
    "$U = - \\frac{3}{5} \\frac{GM^2}{R}$4\n",
    "\n",
    "where M is the total mass of the sphere and R is its radius. Hint: The equation for the gravitational\n",
    "potential energy of a point mass, dmi at radius r, with Menc mass enclosed within that shell:\n",
    "\n",
    "$dU = -G\\frac{M_{enc} dm_i}{r}$"
   ]
  },
  {
   "cell_type": "markdown",
   "id": "8e31c0f5",
   "metadata": {},
   "source": [
    "---\n",
    "$dU = -G\\frac{M_{enc} dm_i}{r}$\n",
    "\n",
    "$ \\int_  \\,dU \\ =  \\int_ {}{-G\\frac{M_{enc}}{r}}\\ dm_i \\$"
   ]
  },
  {
   "cell_type": "markdown",
   "id": "ab31bc7f",
   "metadata": {},
   "source": [
    "$dm_i = 4 \\pi \\rho r^2 dr$\n",
    "\n",
    "density is unifrom so $\\rho $ has no r dependence.\n",
    "\n",
    "$\\rho = \\frac{M_{encl}}{V}$\n",
    "\n",
    "$V = \\frac{4}{3} \\pi r^3$\n",
    "\n",
    "$M_{encl} = \\frac{4}{3} \\pi r^3 \\rho$"
   ]
  },
  {
   "cell_type": "markdown",
   "id": "f47bdd5a",
   "metadata": {},
   "source": [
    "$ \\int_  \\,dU \\ =  \\int_ {}{-G \\frac{4}{3} \\pi r^3 \\rho \\frac{1}{r}}\\ dm_i \\$"
   ]
  },
  {
   "cell_type": "markdown",
   "id": "dc560fc2",
   "metadata": {},
   "source": [
    "$ \\int_  \\,dU \\ =  \\int_ {}{-G \\frac{4}{3} \\pi r^2 \\rho} \\ dm_i \\$"
   ]
  },
  {
   "cell_type": "markdown",
   "id": "bb79ecef",
   "metadata": {},
   "source": [
    "$ \\int_  \\,dU \\ =  {-G \\frac{4}{3} \\pi} \\int_ {} {r^2 \\rho} \\ dm_i \\$"
   ]
  },
  {
   "cell_type": "markdown",
   "id": "f0c99205",
   "metadata": {},
   "source": [
    "$dm_i = 4 \\pi r^2 \\rho dr$"
   ]
  },
  {
   "cell_type": "markdown",
   "id": "08b53709",
   "metadata": {},
   "source": [
    "$ \\int_  \\,dU \\ =  {-G \\frac{4}{3} \\pi} \\int_ {} {r^2 \\rho} \\ 4 \\pi r^2 \\rho dr \\$"
   ]
  },
  {
   "cell_type": "markdown",
   "id": "9ea9c7a8",
   "metadata": {},
   "source": [
    "$ \\int_  \\,dU \\ =  {-G \\frac{4}{3} \\pi^2 4} \\int_ {} { \\rho^2} \\  r^4  dr \\$"
   ]
  },
  {
   "cell_type": "markdown",
   "id": "2f5ef4d6",
   "metadata": {},
   "source": [
    "$U = -G \\pi^2 \\frac{4 * 4}{3} \\rho^2 \\frac{r^5}{5}$"
   ]
  },
  {
   "cell_type": "markdown",
   "id": "1cd466bd",
   "metadata": {},
   "source": [
    "uniform density:\n",
    "\n",
    "$\\rho = \\frac{3}{4} \\frac{M_{encl}}{\\pi r^3} $"
   ]
  },
  {
   "cell_type": "markdown",
   "id": "122e7898",
   "metadata": {},
   "source": [
    "$U = -G \\pi^2 \\frac{4*4}{3*5}r^5 [\\frac{3}{4} \\frac{M_{encl}}{\\pi r^3}]^2$"
   ]
  },
  {
   "cell_type": "markdown",
   "id": "4c333fba",
   "metadata": {},
   "source": [
    "$U = -G r^5 \\frac{1}{5} \\frac{3 M_{encl}^2}{r^6}$"
   ]
  },
  {
   "cell_type": "markdown",
   "id": "7073564a",
   "metadata": {},
   "source": [
    "$U = -\\frac{3}{5}G\\frac{M_{encl}^2}{r}$"
   ]
  },
  {
   "cell_type": "markdown",
   "id": "1f4384bd",
   "metadata": {},
   "source": [
    "# Problem 7\n",
    "\n",
    "**All together now.** You observe a virialized globular cluster of stars that contains 20,000\n",
    "stars each with M = 0.5 Md on average and an average velocity dispersion of xvy = 10 km s ́1. The\n",
    "observed angular diameter of the star cluster is 31, across.\n"
   ]
  },
  {
   "cell_type": "markdown",
   "id": "c9954f89",
   "metadata": {},
   "source": [
    "**a.** What is the total mass of the cluster in units of $M_{o}$?"
   ]
  },
  {
   "cell_type": "code",
   "execution_count": 26,
   "id": "935563ea",
   "metadata": {},
   "outputs": [],
   "source": [
    "nstars = 20000\n",
    "Mstar = 0.5#msol\n",
    "vel_disp = 10 #km/s\n",
    "d = 31#arcsec"
   ]
  },
  {
   "cell_type": "code",
   "execution_count": 29,
   "id": "0e78b82b",
   "metadata": {},
   "outputs": [
    {
     "name": "stdout",
     "output_type": "stream",
     "text": [
      "The mass of the cluster is 1.0e+04 solar masses.\n"
     ]
    }
   ],
   "source": [
    "Mclust = nstars*Mstar\n",
    "print(f'The mass of the cluster is {Mclust:.1e} solar masses.')"
   ]
  },
  {
   "cell_type": "markdown",
   "id": "40d9fc57",
   "metadata": {},
   "source": [
    "**b.** What are the expressions for the total kinetic (K) and potential (U) energies of the cluster?"
   ]
  },
  {
   "cell_type": "markdown",
   "id": "9d3f9c9a",
   "metadata": {},
   "source": [
    "$K = \\frac{3}{2} m v^2$ (in three dimmensions)"
   ]
  },
  {
   "cell_type": "markdown",
   "id": "3ac69060",
   "metadata": {},
   "source": [
    "$K = \\frac{3}{2} (1e4 M_{*}) (10 \\frac{km}{s})^2$"
   ]
  },
  {
   "cell_type": "markdown",
   "id": "794c435a",
   "metadata": {},
   "source": [
    "$U = - \\frac{3}{5} \\frac{GM^2}{R}$"
   ]
  },
  {
   "cell_type": "markdown",
   "id": "2f31b76a",
   "metadata": {},
   "source": [
    "$U = - \\frac{3}{5} \\frac{G(1e4M_{*})^2}{R}$"
   ]
  },
  {
   "cell_type": "markdown",
   "id": "8e5bd556",
   "metadata": {},
   "source": [
    "$U = - \\frac{3}{5} \\frac{G(1e4M_{*})^2}{R}$"
   ]
  },
  {
   "cell_type": "markdown",
   "id": "166c9d65",
   "metadata": {},
   "source": [
    "**c.** What is the physical size of the cluster (hint: use the virial theorem)? Give your answer in pc"
   ]
  },
  {
   "cell_type": "markdown",
   "id": "92c9d28f",
   "metadata": {},
   "source": [
    "$KE = -\\frac{1}{2}U$\n",
    "\n",
    "$\\frac{3}{2} (1e4 M_{*}) (10 \\frac{km}{s})^2 = \\frac{1}{2} \\frac{3}{5} \\frac{G(1e4M_{*})^2}{R}$"
   ]
  },
  {
   "cell_type": "markdown",
   "id": "8a291e9e",
   "metadata": {},
   "source": [
    "$  (10 \\frac{km}{s})^2 =  \\frac{1}{5} \\frac{G(1e4M_{*})}{R}$"
   ]
  },
  {
   "cell_type": "markdown",
   "id": "56d53179",
   "metadata": {},
   "source": [
    "$  (10 \\frac{km}{s})^2 \\frac{5}{G(1e4M_{*})} =  \\frac{1}{R}$"
   ]
  },
  {
   "cell_type": "markdown",
   "id": "d119f154",
   "metadata": {},
   "source": [
    "$R = \\frac{G(1e4M_{*})}{500}$"
   ]
  },
  {
   "cell_type": "markdown",
   "id": "6befce5d",
   "metadata": {},
   "source": [
    "**d.** How far away is the cluster (Hint: 31is still considered a small angle)? Give your answer in\n",
    "kpc (kilo-parsec, 1 kpc = 1,000 pc)."
   ]
  },
  {
   "cell_type": "markdown",
   "id": "19207fc8",
   "metadata": {},
   "source": [
    "for small angles,\n",
    "\n",
    "$tan\\theta = \\frac{D}{d}$\n",
    "\n",
    "$tan\\theta \\approx \\theta$\n",
    "\n",
    "$\\theta \\approx \\frac{D}{d}$\n",
    "\n",
    "in degrees,\n",
    "\n",
    "$\\theta \\approx  \\frac{360}{2 \\pi}\\frac{D}{d}$"
   ]
  },
  {
   "cell_type": "code",
   "execution_count": null,
   "id": "080cc167",
   "metadata": {},
   "outputs": [],
   "source": [
    "D = 31/(60*60) # diameter in deg\n",
    "theta = "
   ]
  },
  {
   "cell_type": "code",
   "execution_count": null,
   "id": "a92a5740",
   "metadata": {},
   "outputs": [],
   "source": []
  }
 ],
 "metadata": {
  "kernelspec": {
   "display_name": "Python 3",
   "language": "python",
   "name": "python3"
  },
  "language_info": {
   "codemirror_mode": {
    "name": "ipython",
    "version": 3
   },
   "file_extension": ".py",
   "mimetype": "text/x-python",
   "name": "python",
   "nbconvert_exporter": "python",
   "pygments_lexer": "ipython3",
   "version": "3.9.6"
  }
 },
 "nbformat": 4,
 "nbformat_minor": 5
}
