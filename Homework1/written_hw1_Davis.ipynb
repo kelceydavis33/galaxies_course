{
 "cells": [
  {
   "cell_type": "markdown",
   "id": "a854630f",
   "metadata": {},
   "source": [
    "# Problem Set One: Kelcey Davis"
   ]
  },
  {
   "cell_type": "code",
   "execution_count": 1,
   "id": "4298f017",
   "metadata": {},
   "outputs": [],
   "source": [
    "import astropy.units as u\n",
    "import astropy.constants as c\n",
    "from astropy.coordinates import SkyCoord\n",
    "from astropy.time import Time\n",
    "import numpy as np\n",
    "import matplotlib.pyplot as plt\n",
    "import pandas as pd\n",
    "import glob\n",
    "%matplotlib inline"
   ]
  },
  {
   "cell_type": "code",
   "execution_count": 2,
   "id": "d2f9672d",
   "metadata": {},
   "outputs": [],
   "source": [
    "plt.rcParams['figure.figsize'] = (10, 10)\n",
    "plt.rc('axes', labelsize=14)\n",
    "plt.rc('axes', labelweight='bold')\n",
    "plt.rc('axes', titlesize=16)\n",
    "plt.rc('axes', titleweight='bold')\n",
    "plt.rc('font', family='sans-serif')"
   ]
  },
  {
   "cell_type": "markdown",
   "id": "8eb5cc59",
   "metadata": {},
   "source": [
    "# Problem One"
   ]
  },
  {
   "cell_type": "markdown",
   "id": "6f8cf12c",
   "metadata": {},
   "source": [
    "**Angular Size**. A second of arc (or arcsecond) is 1/60 of a minute of arc (or arcminute),\n",
    "which in turn is 1/60 of a degree of arc on the sky. So an arcsecond is 1/3600 of a degree. A radian,\n",
    "as youll hopefully all remember, is the angle subtended at the center of a circle by a portion of the\n",
    "circle equal in length to the circles radius. A steradian is a measure of area on the sky in units of\n",
    "square radians.\n",
    "\n",
    "(a) From these definitions, write and evaluate an expression for the number of arcseconds in a\n",
    "radian. Give it to the nearest arcsecond.\n",
    "\n",
    "(b) The Hubble Space Telescope can detect 30,000 galaxies brighter than m=32 in a 10 arcmin x\n",
    "10 arcmin region of sky. If we surveyed the entire sky (not just one hemisphere), how many\n",
    "galaxies would Hubble detect?"
   ]
  },
  {
   "cell_type": "markdown",
   "id": "3ed0ab4b",
   "metadata": {},
   "source": [
    "\n",
    "## 1. a\n",
    "\n",
    "Definitions we know:\n",
    "\n",
    "1 arcsec = $\\frac{1}{60}$ arcmin\n",
    "\n",
    "1 arcmin = $\\frac{1}{60}$ deg\n",
    "\n",
    "1 arcsec = $\\frac{1}{3600}$ deg \n",
    "\n",
    "$\\pi$ rad =180 deg\n",
    "\n",
    "1 arcsec = ?? rad"
   ]
  },
  {
   "cell_type": "markdown",
   "id": "e59e48db",
   "metadata": {},
   "source": [
    "We can just switch around our radians to degrees formula to get:\n",
    "\n",
    "180 deg = $\\pi$ rad\n",
    "\n",
    "and\n",
    "\n",
    "1 arcsec = $\\frac{1}{3600}$ deg \n",
    "\n",
    "becomes \n",
    "\n",
    "1 arcsec = $\\frac{1}{3600}$ $\\frac{\\pi}{180}$ rad \n",
    "\n",
    "$\\therefore$ \n",
    "\n",
    "1 arcsec = $\\frac{\\pi}{648000}$ rad \n",
    "\n",
    "and \n",
    "\n",
    "1 rad = $\\frac{648000}{\\pi}$ arcsec\n",
    "\n",
    "or \n",
    "\n",
    "1 rad = 206264.80624709636 arcsec\n",
    "\n",
    "rounding:\n",
    "\n",
    "**1 rad = 206265 arcsec**"
   ]
  },
  {
   "cell_type": "markdown",
   "id": "2218804b",
   "metadata": {},
   "source": [
    "## 1.b\n"
   ]
  },
  {
   "cell_type": "markdown",
   "id": "e5458f41",
   "metadata": {},
   "source": [
    "First we need to know how many total arcseconds there are in the sky. The surface area of a sphere is:\n",
    "\n",
    "$SA = 4 \\pi r^2$\n",
    "\n",
    "where r is the radius.\n",
    "\n",
    "We know the sky has 360 degrees in one dimension."
   ]
  },
  {
   "cell_type": "code",
   "execution_count": null,
   "id": "aad7b16f",
   "metadata": {},
   "outputs": [],
   "source": []
  },
  {
   "cell_type": "markdown",
   "id": "197f00f4",
   "metadata": {},
   "source": [
    "# Problem 2"
   ]
  },
  {
   "cell_type": "markdown",
   "id": "49b10b23",
   "metadata": {},
   "source": [
    "**Black Holes**. The observation that all galaxies have supermassive black holes in their\n",
    "centers begs the question: how were they created? The easiest theory is that small black holes were\n",
    "created in the early universe by the first stars (known as Population III stars)when they exploded\n",
    "as supernovae. These black holes would have masses of 10 Md. These could then grow over time,\n",
    "to reach millions, or even billions, of Solar masses by today.\n",
    "However, we have observed galaxies at redshifts greater than six, only one billion years after the Big\n",
    "Bang, which have black holes with masses in excess of 109 Md. Conventional methods of black hole\n",
    "growth would prevent a Population III black hole seed from growing so fast. Due to this difficulty,\n",
    "a number of theorists are now studying so-called ‘direct-collapse black holes,’ which is when a large\n",
    "cloud of gas, with M„ 105Md collapses directly into a black hole. Calculate the radius of the event\n",
    "horizon in these two cases (Pop III ‘seeds’ and direct-collapse), and discuss one object (for each\n",
    "case) in the physical world which is of a similar size."
   ]
  },
  {
   "cell_type": "markdown",
   "id": "ec7d88cb",
   "metadata": {},
   "source": [
    "For pop II seeds:\n",
    "\n",
    "M = 10 Msun\n",
    "\n",
    "For direct collapse:\n",
    "\n",
    "M = $10^5$ Msun\n",
    "\n",
    "The event horizon or schwartzchild radius is given by:\n",
    "\n",
    "$R = \\frac{2GM}{c^2}$"
   ]
  },
  {
   "cell_type": "code",
   "execution_count": 10,
   "id": "b45d1796",
   "metadata": {},
   "outputs": [
    {
     "name": "stdout",
     "output_type": "stream",
     "text": [
      "The mass of the sun in kg is 1.988409870698051e+30.\n"
     ]
    }
   ],
   "source": [
    "msun_kg = u.M_sun.to(u.kg)\n",
    "print(f'The mass of the sun in kg is {msun_kg}.')"
   ]
  },
  {
   "cell_type": "code",
   "execution_count": 21,
   "id": "4599d672",
   "metadata": {},
   "outputs": [
    {
     "name": "stdout",
     "output_type": "stream",
     "text": [
      "The gravitational constant G is given by 6.6743e-11 m3 / (kg s2).\n"
     ]
    }
   ],
   "source": [
    "print(f'The gravitational constant G is given by {c.G.decompose()}.')"
   ]
  },
  {
   "cell_type": "code",
   "execution_count": 22,
   "id": "cc66b51d",
   "metadata": {},
   "outputs": [
    {
     "name": "stdout",
     "output_type": "stream",
     "text": [
      "The speed of light c is given by 299792458.0 m / s.\n"
     ]
    }
   ],
   "source": [
    "print(f'The speed of light c is given by {c.c.decompose()}.')"
   ]
  },
  {
   "cell_type": "markdown",
   "id": "32e18287",
   "metadata": {},
   "source": [
    "For our pop III seeds, a typical event horizon would be:\n",
    "\n",
    "$R = \\frac{2 * 6.6743e-11 [\\frac{m^3}{kg s^2}] * 10 * 1.988e30 [kg]}{3e8 [\\frac{m^2}{s^2}] }$\n",
    "\n",
    "the units clearly cancel down to meters and we get:"
   ]
  },
  {
   "cell_type": "code",
   "execution_count": 30,
   "id": "72dbc623",
   "metadata": {},
   "outputs": [
    {
     "name": "stdout",
     "output_type": "stream",
     "text": [
      "This is an event horizon radius of 3.0e+04 m.\n"
     ]
    }
   ],
   "source": [
    "r = (2*6.6743e-11*10*1.988e30)/(299792458**2)\n",
    "print(f'This is an event horizon radius of {r:.1e} m.')"
   ]
  },
  {
   "cell_type": "markdown",
   "id": "8b05d97d",
   "metadata": {},
   "source": [
    "Now for the direct collapse, we have a radius of:\n",
    "\n",
    "$R = \\frac{2 * 6.6743e-11 [\\frac{m^3}{kg s^2}] * 10^5 * 1.988e30 [kg]}{3e8 [\\frac{m^2}{s^2}] }$\n",
    "\n",
    "the units clearly cancel down to meters and we get:\n"
   ]
  },
  {
   "cell_type": "code",
   "execution_count": 31,
   "id": "04da1827",
   "metadata": {},
   "outputs": [
    {
     "name": "stdout",
     "output_type": "stream",
     "text": [
      "This is an event horizon radius of 3.0e+08 m.\n"
     ]
    }
   ],
   "source": [
    "r = (2*6.6743e-11*1e5*1.988e30)/(299792458**2)\n",
    "print(f'This is an event horizon radius of {r:.1e} m.')"
   ]
  },
  {
   "cell_type": "markdown",
   "id": "824a242a",
   "metadata": {},
   "source": [
    "What objects are of similar size?\n",
    "\n",
    "for the pop III stars, $3x10^{4}$ meters is "
   ]
  },
  {
   "cell_type": "code",
   "execution_count": 33,
   "id": "566f8205",
   "metadata": {},
   "outputs": [
    {
     "data": {
      "text/plain": [
       "30000.0"
      ]
     },
     "execution_count": 33,
     "metadata": {},
     "output_type": "execute_result"
    }
   ],
   "source": [
    "3e4"
   ]
  },
  {
   "cell_type": "code",
   "execution_count": null,
   "id": "58b41a8d",
   "metadata": {},
   "outputs": [],
   "source": []
  }
 ],
 "metadata": {
  "kernelspec": {
   "display_name": "Python 3",
   "language": "python",
   "name": "python3"
  },
  "language_info": {
   "codemirror_mode": {
    "name": "ipython",
    "version": 3
   },
   "file_extension": ".py",
   "mimetype": "text/x-python",
   "name": "python",
   "nbconvert_exporter": "python",
   "pygments_lexer": "ipython3",
   "version": "3.9.6"
  }
 },
 "nbformat": 4,
 "nbformat_minor": 5
}
