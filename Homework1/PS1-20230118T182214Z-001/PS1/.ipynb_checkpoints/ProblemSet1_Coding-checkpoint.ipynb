{
 "cells": [
  {
   "cell_type": "markdown",
   "metadata": {
    "collapsed": true,
    "id": "fKYqPZ0uPRpb"
   },
   "source": [
    "<h1><center>$\\text{Problem Set 1: An Introduction to Programming for scientists}$</center></h1>"
   ]
  },
  {
   "cell_type": "markdown",
   "metadata": {
    "id": "6RjBH8F3Vz35"
   },
   "source": [
    "Developed by Prof. Cara Battersby for the University of Connecticut PHYS4720/6720 Galaxies and the ISM Course. Most of the introductory material is borrowed with permission from Carl Ferkinhoff at Winona State University. \n"
   ]
  },
  {
   "cell_type": "markdown",
   "metadata": {
    "id": "liqhye13nVx9"
   },
   "source": [
    "---\n",
    "##Instructions:"
   ]
  },
  {
   "cell_type": "markdown",
   "metadata": {
    "id": "JIxrIoy5UtMi"
   },
   "source": [
    "\n",
    "**BEFORE YOU BEGIN:**\n",
    "\n",
    "1.   Navigate to \"File\" --> \"Save a Copy in Drive\"\n",
    "2.   Rename file \"LastName_PS1.ipynb\" and put it somewhere you can find it again.\n",
    "\n",
    "***Important Note:*** It is *not* enough to just rename the filename at the top, please follow the instructions above."
   ]
  },
  {
   "cell_type": "code",
   "execution_count": null,
   "metadata": {
    "id": "2JpcICnm-0vv"
   },
   "outputs": [],
   "source": []
  },
  {
   "cell_type": "markdown",
   "metadata": {
    "id": "94Argv-CPRpg"
   },
   "source": [
    "\n",
    "1. **First, please save a copy of this notebook as instructed above.**\n",
    "\n",
    "2. For Problem Set 1 please look at and use the \"Welcome to Colaboratory_PS1\" notebook as a reference, but you do not need to submit anything for it. \n",
    "\n",
    "3. For this \"ProblemSet1_Coding\" notebook, please read and run every cell and complete original work below as described in the cells labeled \"Problem 1,\" \"Problem 2,\" etc.\n",
    "\n",
    "4. To submit this assignment once you have completed all cells and original input, go to File -> Print and save as a PDF. You will combine this PDF with the PDF of your written problem set and label it \"LastName_PS1.pdf\" I will send around a link to submit your compiled PDF at the beginning of class on Monday January 30 at 12:30pm.\n",
    "\n",
    "(I am new to Google colab and still figuring out the best logistics for these assignments. I welcome your input and feedback!)\n",
    "\n",
    "\n"
   ]
  },
  {
   "cell_type": "code",
   "execution_count": null,
   "metadata": {
    "cellView": "form",
    "id": "yCzO78HpZY5G"
   },
   "outputs": [],
   "source": [
    "Your_Name = \"\" #@param {type:\"string\"}"
   ]
  },
  {
   "cell_type": "markdown",
   "metadata": {
    "id": "3RTfK6UIQC4-"
   },
   "source": [
    "# Introduction\n",
    "\n",
    "This is software called **Google Colab**, which is based on Jupyter Notebook. It lets us combine, text, graphics, stuff from the web, code and the results from the code all into one document. Google Colab allows you to start with the same notebook, make your own copy, then make changes. It is a really powerful tool. When we run code in jupyter, we use a programming language called \"Python\". Python is used all over the place, in fact it is the primary language behind most of Google's applications on the internet. You can even run your notebooks as a slide show like power point. \n",
    "\n",
    "Other good intro to coding in python tutorials that have been recommended to me are (please let me know of others you'd recommend!):\n",
    "* Code Academy Tutorial: https://www.codecademy.com/learn/learn-python\n",
    "* Beginner Python Excercises: https://www.practicepython.org/ \n",
    "* Python [Tutorial](https://docs.python.org/3/tutorial/ )\n",
    "* Numpy [Getting Started](https://docs.scipy.org/doc/numpy/user/index.html)\n",
    "* Scipy [Reference & Tutorials](https://docs.scipy.org/doc/scipy/reference/)\n",
    "* matplotlib [Tutorials](https://matplotlib.org/tutorials/index.html) and \n",
    "[Examples](https://matplotlib.org/gallery/index.html)\n",
    "\n",
    "The best help when working on coding questions is google, stackexchange, and the python documentation. I am particularly fond of the astropy and matplotlib software and related documentation.\n"
   ]
  },
  {
   "cell_type": "markdown",
   "metadata": {
    "id": "Goik-MTMPRph"
   },
   "source": [
    "## Section 1 - Jupyter Notebook Basics"
   ]
  },
  {
   "cell_type": "markdown",
   "metadata": {
    "id": "o6bUA9jAPRpi"
   },
   "source": [
    "Jupyter Notebook has two main types of \"cells\". You change a cells type by using the drop down menu in the tool bar which either says \"Markdown\" or \"code\". The first type of cell is a \"Markdown\" cell that is used for typing text. This is a markdown cell. It basically works exactly like a wiki-page. The other type of cell is a \"code\""
   ]
  },
  {
   "cell_type": "code",
   "execution_count": null,
   "metadata": {
    "collapsed": true,
    "id": "y7srTkeqPRpi"
   },
   "outputs": [],
   "source": [
    "#This is a code cell, I know it is a code cell because of the \"In [ ]\" (or play button) to the left. Once a code cell is run a number will appear in it.\n",
    "#The number is the order in which the cells where run, not necessarily the order on the page. Typically a code cell contains\n",
    "#code the will run, aka. that will do something. You can however add text that won't run by putting \"#\" in front of any line\n",
    "#you don't want to run. This makes it a comment."
   ]
  },
  {
   "cell_type": "markdown",
   "metadata": {
    "collapsed": true,
    "id": "fKAcy1U1PRpi"
   },
   "source": [
    "While not true in this notebook, I recommend the code cell below always be your first code cell as it load important tools you might need. What is this cell doing?   \n",
    "\n",
    "    %matplotlib inline                #This tells Jupyter to embed and plots you make in your notebook\n",
    "    import numpy as np                #This loads the tool called Numpy, that lets you do things with numbers and arrays of numbers\n",
    "    import scipy as sp                #This loads Scipy that include powerful scientific tools like the ability \n",
    "                                      #to fit functions and perform statistics\n",
    "    import matplotlib.pyplot as plt   #This loads tools to let you make graphs\n",
    "    from astropy.io import ascii      #This loads tools to let you import CSV files that you create in Exel\n",
    "    from astropy.io import fits       #Tools to work with Fits files (astronomy default)\n",
    "    from astropy.wcs import WCS       #If you're working with images, WCS will help you to manage the complex world coordinate systems.\n",
    "    from astropy import units as u    #To keep track of and easily work with units\n",
    "    from google.colab import files    #Very useful for importing and exporting files in google colab\n",
    "    plt.style.use('default')          #This loads the default plotting style\n",
    "   \n"
   ]
  },
  {
   "cell_type": "code",
   "execution_count": null,
   "metadata": {
    "collapsed": true,
    "id": "4DvfrG8CPRpj"
   },
   "outputs": [],
   "source": [
    "%matplotlib inline\n",
    "import numpy as np \n",
    "import scipy as sp\n",
    "import matplotlib.pyplot as plt\n",
    "from astropy.io import ascii\n",
    "from astropy.io import fits\n",
    "from astropy.wcs import WCS\n",
    "from astropy import units as u\n",
    "from google.colab import files\n",
    "plt.style.use('default')"
   ]
  },
  {
   "cell_type": "markdown",
   "metadata": {
    "id": "IL_9vzKGPRpj"
   },
   "source": [
    "## Creating and Editing Markdown Cells\n",
    "\n",
    "To creat a text cell like this one, click on \"+ Text\" at the top of Colab. To create a new code cell, click on \"+Code\" instead.\n",
    "\n",
    "**To edit a cell**, click in the cell, or press \"enter.\" In a text Cell you can do lots of different things like make headers\n",
    "\n",
    "**To run or render a cell** press \"shift+enter\" to render the text in a markdown cell or run a code cell. You can also press the \"play\" button on the left. Pressing just \"enter\" will always add a new line in the current cell.\n",
    "\n"
   ]
  },
  {
   "cell_type": "markdown",
   "metadata": {
    "id": "MzgUXZ7EPRpj"
   },
   "source": [
    "# Header 1\n",
    "## Header 2\n",
    "### Header 3"
   ]
  },
  {
   "cell_type": "markdown",
   "metadata": {
    "id": "f801zrmNPRpk"
   },
   "source": [
    "*Italics* **bold** and ***bolditalics***\n",
    "\n"
   ]
  },
  {
   "cell_type": "markdown",
   "metadata": {
    "id": "b4FXDWKAPRpk"
   },
   "source": [
    "Bulleted lists\n",
    "- one\n",
    "- two\n",
    "  - one\n",
    "  - two\n",
    "  - three\n",
    "- three"
   ]
  },
  {
   "cell_type": "markdown",
   "metadata": {
    "id": "_7ol14AnPRpk"
   },
   "source": [
    "numbered lists   \n",
    "1. one\n",
    "   - one\n",
    "   - two\n",
    "   - three\n",
    "2. two\n",
    "  1. one\n",
    "  2. two\n",
    "  3. three\n",
    "3. three"
   ]
  },
  {
   "cell_type": "markdown",
   "metadata": {
    "id": "axFPdschPRpk"
   },
   "source": [
    "add links to [pictures of cats in space](https://images.app.goo.gl/2W3rEpKxPevTuqkt7)\n",
    "or embed them directly ![picture](https://i.pinimg.com/originals/a8/77/d8/a877d8881cbfee402c202c104022ab32.jpg)\n"
   ]
  },
  {
   "cell_type": "markdown",
   "metadata": {
    "id": "MOAwPE1kPRpk"
   },
   "source": [
    "You can even make pretty equations, for example:\n",
    "\n",
    "$E=mc^2$\n",
    "\n",
    "$c = \\sqrt{a^2 + b^2}$\n",
    "\n",
    "$P = \\frac{NkT}{V} $\n",
    "\n",
    "$\\frac{opp}{hyp} = \\sin \\theta$\n",
    "\n",
    "Equations in markdown cell use the LaTex format. For [references](https://en.wikibooks.org/wiki/LaTeX/Mathematics)  to other math character"
   ]
  },
  {
   "cell_type": "code",
   "execution_count": null,
   "metadata": {
    "colab": {
     "base_uri": "https://localhost:8080/",
     "height": 336
    },
    "executionInfo": {
     "elapsed": 1387,
     "status": "ok",
     "timestamp": 1611350619193,
     "user": {
      "displayName": "Cara Battersby",
      "photoUrl": "https://lh3.googleusercontent.com/a-/AOh14GjjbFXKCTXUgyh6J36IR0jiDmfim2-z8o6uzZli=s64",
      "userId": "16674567149460871520"
     },
     "user_tz": 300
    },
    "id": "r4IkYILZPRpk",
    "outputId": "289a5786-94bc-4440-f3b7-91bc33a2921c"
   },
   "outputs": [
    {
     "data": {
      "text/html": [
       "\n",
       "        <iframe\n",
       "            width=\"560\"\n",
       "            height=\"315\"\n",
       "            src=\"https://www.youtube.com/embed/cbP2N1BQdYc\"\n",
       "            frameborder=\"0\"\n",
       "            allowfullscreen\n",
       "        ></iframe>\n",
       "        "
      ],
      "text/plain": [
       "<IPython.lib.display.IFrame at 0x7fe37643fdd8>"
      ]
     },
     "execution_count": 4,
     "metadata": {
      "tags": []
     },
     "output_type": "execute_result"
    }
   ],
   "source": [
    "#You can even embed video with \n",
    "from IPython.display import IFrame\n",
    "#copy and past the \"embed\" code from a google video between quotes '<iframe goes here>'\n",
    "IFrame(src=\"https://www.youtube.com/embed/cbP2N1BQdYc\", width=\"560\", height=\"315\")\n",
    "#now we tell jupyter to treat the iframe like HTML"
   ]
  },
  {
   "cell_type": "markdown",
   "metadata": {
    "id": "eDyN5EIqa0bQ"
   },
   "source": [
    "---\n",
    "# **Problem 1 (2 pts)**: \n",
    "###Create a new text cell directly below this one that:\n",
    "1. describes whether you prefer dogs or cats in the header,\n",
    "2. includes a bulleted list describing the reasoning for your preference, with key words bolded or italicized. \n",
    "3. Embeds a picture (from the internet, not locally or it won't work) of your preferred pet type. And \n",
    "4. also typset your favorite physics equation!\n",
    "---"
   ]
  },
  {
   "cell_type": "markdown",
   "metadata": {
    "id": "WlY7sDSVwXXO"
   },
   "source": [
    "##**Problem 1 Answer:**\n",
    "\n",
    "###Your Text here.\n",
    "---"
   ]
  },
  {
   "cell_type": "markdown",
   "metadata": {
    "id": "I4KkitA81jiL"
   },
   "source": [
    "##Problem 1 Feedback for You!\n",
    "\n",
    "Please leave this space blank for Prof. Battersby to append feedback .\n",
    "\n",
    "'\n",
    "\n",
    "'\n",
    "\n",
    "'\n",
    "\n",
    "'\n",
    "\n",
    "\n",
    "End."
   ]
  },
  {
   "cell_type": "markdown",
   "metadata": {
    "id": "qimoAR2EPRpm"
   },
   "source": [
    "#Section 2 - Math\n",
    "## What can you do in a code cell?\n",
    "\n",
    "First a code cell will always have a \"In [x]:\" to the right of it, where, \"x\" will either be:\n",
    "- a number if the cell has been execute, \n",
    "- blank if it hasn't executed or, a \n",
    "- \"$*$\" if it is in the process of being executed\n",
    "\n",
    "Let do some code now. Actually, the video thing and your \"first cell\" up above are already code!"
   ]
  },
  {
   "cell_type": "code",
   "execution_count": null,
   "metadata": {
    "colab": {
     "base_uri": "https://localhost:8080/"
    },
    "executionInfo": {
     "elapsed": 1379,
     "status": "ok",
     "timestamp": 1611350619194,
     "user": {
      "displayName": "Cara Battersby",
      "photoUrl": "https://lh3.googleusercontent.com/a-/AOh14GjjbFXKCTXUgyh6J36IR0jiDmfim2-z8o6uzZli=s64",
      "userId": "16674567149460871520"
     },
     "user_tz": 300
    },
    "id": "NhFkEDqbPRpm",
    "outputId": "2336658b-d778-499c-89a1-dc22eda56e1f"
   },
   "outputs": [
    {
     "name": "stdout",
     "output_type": "stream",
     "text": [
      "Hello World\n"
     ]
    }
   ],
   "source": [
    "# In a code cell if you want to write words, the won't run as a program, \n",
    "# you need to have a \"#\" at the start of each line.\n",
    "# This is called a comment. And comments will look \"grey\"\n",
    "\n",
    "#Are you ready for your first program? Type the following and then press \"shift+enter\" to \n",
    "\n",
    "print(\"Hello World\")"
   ]
  },
  {
   "cell_type": "markdown",
   "metadata": {
    "id": "oHpCTon4PRpm"
   },
   "source": [
    "When you run cells that are code, jupyter evaluates the code in the cell and ignores the comments. In the cell above, the code is \"print(\"Hello World\")\" which just prints the text \"Hello World\". The output from the excuted cell always shows up below the cell. Lets do some other things"
   ]
  },
  {
   "cell_type": "markdown",
   "metadata": {
    "id": "oSWmSdR4PRpn"
   },
   "source": [
    "----\n",
    "## Simple math?"
   ]
  },
  {
   "cell_type": "code",
   "execution_count": null,
   "metadata": {
    "colab": {
     "base_uri": "https://localhost:8080/"
    },
    "executionInfo": {
     "elapsed": 1373,
     "status": "ok",
     "timestamp": 1611350619196,
     "user": {
      "displayName": "Cara Battersby",
      "photoUrl": "https://lh3.googleusercontent.com/a-/AOh14GjjbFXKCTXUgyh6J36IR0jiDmfim2-z8o6uzZli=s64",
      "userId": "16674567149460871520"
     },
     "user_tz": 300
    },
    "id": "4JELFIqpPRpn",
    "outputId": "cf1d474e-280b-446b-d85b-739c85af4d0d"
   },
   "outputs": [
    {
     "data": {
      "text/plain": [
       "15.0"
      ]
     },
     "execution_count": 6,
     "metadata": {
      "tags": []
     },
     "output_type": "execute_result"
    }
   ],
   "source": [
    "#we can add\n",
    "12.0+3.0"
   ]
  },
  {
   "cell_type": "code",
   "execution_count": null,
   "metadata": {
    "colab": {
     "base_uri": "https://localhost:8080/"
    },
    "executionInfo": {
     "elapsed": 1656,
     "status": "ok",
     "timestamp": 1611350619486,
     "user": {
      "displayName": "Cara Battersby",
      "photoUrl": "https://lh3.googleusercontent.com/a-/AOh14GjjbFXKCTXUgyh6J36IR0jiDmfim2-z8o6uzZli=s64",
      "userId": "16674567149460871520"
     },
     "user_tz": 300
    },
    "id": "7gri3yTSPRpn",
    "outputId": "5bedb4e4-8ad9-40f3-8d78-a92045fa2290"
   },
   "outputs": [
    {
     "data": {
      "text/plain": [
       "36.0"
      ]
     },
     "execution_count": 7,
     "metadata": {
      "tags": []
     },
     "output_type": "execute_result"
    }
   ],
   "source": [
    "#multiply\n",
    "12.0*3.0"
   ]
  },
  {
   "cell_type": "code",
   "execution_count": null,
   "metadata": {
    "colab": {
     "base_uri": "https://localhost:8080/"
    },
    "executionInfo": {
     "elapsed": 1648,
     "status": "ok",
     "timestamp": 1611350619487,
     "user": {
      "displayName": "Cara Battersby",
      "photoUrl": "https://lh3.googleusercontent.com/a-/AOh14GjjbFXKCTXUgyh6J36IR0jiDmfim2-z8o6uzZli=s64",
      "userId": "16674567149460871520"
     },
     "user_tz": 300
    },
    "id": "FCP9GhaRPRpn",
    "outputId": "dbdbc478-6b8f-4ca9-bcfd-b77fa5a16a2e"
   },
   "outputs": [
    {
     "data": {
      "text/plain": [
       "1728.0"
      ]
     },
     "execution_count": 8,
     "metadata": {
      "tags": []
     },
     "output_type": "execute_result"
    }
   ],
   "source": [
    "#powers, you use two astriks **\n",
    "12.0**(3.0)"
   ]
  },
  {
   "cell_type": "code",
   "execution_count": null,
   "metadata": {
    "colab": {
     "base_uri": "https://localhost:8080/"
    },
    "executionInfo": {
     "elapsed": 1641,
     "status": "ok",
     "timestamp": 1611350619487,
     "user": {
      "displayName": "Cara Battersby",
      "photoUrl": "https://lh3.googleusercontent.com/a-/AOh14GjjbFXKCTXUgyh6J36IR0jiDmfim2-z8o6uzZli=s64",
      "userId": "16674567149460871520"
     },
     "user_tz": 300
    },
    "id": "hYlrb_yyPRpo",
    "outputId": "10a50ff4-e204-4f1c-ad42-7d97d442e378"
   },
   "outputs": [
    {
     "data": {
      "text/plain": [
       "91125.0"
      ]
     },
     "execution_count": 9,
     "metadata": {
      "tags": []
     },
     "output_type": "execute_result"
    }
   ],
   "source": [
    "#all together\n",
    "((12.0+3.0)*3.0)**3.0"
   ]
  },
  {
   "cell_type": "code",
   "execution_count": null,
   "metadata": {
    "colab": {
     "base_uri": "https://localhost:8080/"
    },
    "executionInfo": {
     "elapsed": 1634,
     "status": "ok",
     "timestamp": 1611350619488,
     "user": {
      "displayName": "Cara Battersby",
      "photoUrl": "https://lh3.googleusercontent.com/a-/AOh14GjjbFXKCTXUgyh6J36IR0jiDmfim2-z8o6uzZli=s64",
      "userId": "16674567149460871520"
     },
     "user_tz": 300
    },
    "id": "Zdk4iUYfPRpo",
    "outputId": "ca9167b1-28b5-4558-ca65-27a05a4416d9"
   },
   "outputs": [
    {
     "data": {
      "text/plain": [
       "11.0"
      ]
     },
     "execution_count": 10,
     "metadata": {
      "tags": []
     },
     "output_type": "execute_result"
    }
   ],
   "source": [
    "# how about algebra\n",
    "x=7.0\n",
    "y=4.0\n",
    "x+y"
   ]
  },
  {
   "cell_type": "code",
   "execution_count": null,
   "metadata": {
    "colab": {
     "base_uri": "https://localhost:8080/"
    },
    "executionInfo": {
     "elapsed": 1626,
     "status": "ok",
     "timestamp": 1611350619488,
     "user": {
      "displayName": "Cara Battersby",
      "photoUrl": "https://lh3.googleusercontent.com/a-/AOh14GjjbFXKCTXUgyh6J36IR0jiDmfim2-z8o6uzZli=s64",
      "userId": "16674567149460871520"
     },
     "user_tz": 300
    },
    "id": "W2DIJiuxPRpo",
    "outputId": "34ba0ed0-c85d-43b1-e9cb-a72c05dc0590"
   },
   "outputs": [
    {
     "data": {
      "text/plain": [
       "0.7071067811865475"
      ]
     },
     "execution_count": 11,
     "metadata": {
      "tags": []
     },
     "output_type": "execute_result"
    }
   ],
   "source": [
    "#trig functions. Sine 'np.sin()', cosine 'np.cos()', tangent 'np.tan()' and inverse functions 'np.arcsin()', 'np.arccos()', \n",
    "np.sin(np.pi/4)"
   ]
  },
  {
   "cell_type": "code",
   "execution_count": null,
   "metadata": {
    "colab": {
     "base_uri": "https://localhost:8080/"
    },
    "executionInfo": {
     "elapsed": 1619,
     "status": "ok",
     "timestamp": 1611350619489,
     "user": {
      "displayName": "Cara Battersby",
      "photoUrl": "https://lh3.googleusercontent.com/a-/AOh14GjjbFXKCTXUgyh6J36IR0jiDmfim2-z8o6uzZli=s64",
      "userId": "16674567149460871520"
     },
     "user_tz": 300
    },
    "id": "UvbwliAsPRpo",
    "outputId": "622b02c3-485f-4ae9-ef57-a1c0aa786516"
   },
   "outputs": [
    {
     "data": {
      "text/plain": [
       "44.991348337162016"
      ]
     },
     "execution_count": 12,
     "metadata": {
      "tags": []
     },
     "output_type": "execute_result"
    }
   ],
   "source": [
    "#be careful though, python assumes your angles are in radians, to get something degrees you have to multiply by 180.0/np.pi\n",
    "np.arcsin(0.707)*180/np.pi"
   ]
  },
  {
   "cell_type": "code",
   "execution_count": null,
   "metadata": {
    "colab": {
     "base_uri": "https://localhost:8080/"
    },
    "executionInfo": {
     "elapsed": 1612,
     "status": "ok",
     "timestamp": 1611350619490,
     "user": {
      "displayName": "Cara Battersby",
      "photoUrl": "https://lh3.googleusercontent.com/a-/AOh14GjjbFXKCTXUgyh6J36IR0jiDmfim2-z8o6uzZli=s64",
      "userId": "16674567149460871520"
     },
     "user_tz": 300
    },
    "id": "nJPzXYwXPRpp",
    "outputId": "547ac78a-a0da-4385-bc50-95fa29b404ca"
   },
   "outputs": [
    {
     "data": {
      "text/plain": [
       "0.1"
      ]
     },
     "execution_count": 13,
     "metadata": {
      "tags": []
     },
     "output_type": "execute_result"
    }
   ],
   "source": [
    "#A couple of points, there are different types of data in python\n",
    "\n",
    "0.1 \n",
    "# anything with a decimal point in it is a \"float\" and this is what you want to use for \n",
    "#\"real\" data or if you want to calcuate something."
   ]
  },
  {
   "cell_type": "code",
   "execution_count": null,
   "metadata": {
    "colab": {
     "base_uri": "https://localhost:8080/"
    },
    "executionInfo": {
     "elapsed": 1754,
     "status": "ok",
     "timestamp": 1611350619639,
     "user": {
      "displayName": "Cara Battersby",
      "photoUrl": "https://lh3.googleusercontent.com/a-/AOh14GjjbFXKCTXUgyh6J36IR0jiDmfim2-z8o6uzZli=s64",
      "userId": "16674567149460871520"
     },
     "user_tz": 300
    },
    "id": "RBbwtOfEPRpp",
    "outputId": "b7a842f9-5314-4ea9-a242-6df1ba2bd98e"
   },
   "outputs": [
    {
     "data": {
      "text/plain": [
       "44"
      ]
     },
     "execution_count": 14,
     "metadata": {
      "tags": []
     },
     "output_type": "execute_result"
    }
   ],
   "source": [
    "44 #any number that DOES NOT have a decimal number, is an intiger. Use this for counting"
   ]
  },
  {
   "cell_type": "code",
   "execution_count": null,
   "metadata": {
    "colab": {
     "base_uri": "https://localhost:8080/",
     "height": 35
    },
    "executionInfo": {
     "elapsed": 1747,
     "status": "ok",
     "timestamp": 1611350619640,
     "user": {
      "displayName": "Cara Battersby",
      "photoUrl": "https://lh3.googleusercontent.com/a-/AOh14GjjbFXKCTXUgyh6J36IR0jiDmfim2-z8o6uzZli=s64",
      "userId": "16674567149460871520"
     },
     "user_tz": 300
    },
    "id": "eSmHKOKEPRpp",
    "outputId": "dbfa31c1-075d-4a31-c44d-a808b83c9af8"
   },
   "outputs": [
    {
     "data": {
      "application/vnd.google.colaboratory.intrinsic+json": {
       "type": "string"
      },
      "text/plain": [
       "'things between quotes are called strings'"
      ]
     },
     "execution_count": 15,
     "metadata": {
      "tags": []
     },
     "output_type": "execute_result"
    }
   ],
   "source": [
    "'things between quotes are called strings' #this is for anything that is text like"
   ]
  },
  {
   "cell_type": "code",
   "execution_count": null,
   "metadata": {
    "colab": {
     "base_uri": "https://localhost:8080/",
     "height": 35
    },
    "executionInfo": {
     "elapsed": 1741,
     "status": "ok",
     "timestamp": 1611350619641,
     "user": {
      "displayName": "Cara Battersby",
      "photoUrl": "https://lh3.googleusercontent.com/a-/AOh14GjjbFXKCTXUgyh6J36IR0jiDmfim2-z8o6uzZli=s64",
      "userId": "16674567149460871520"
     },
     "user_tz": 300
    },
    "id": "IygagTABPRpp",
    "outputId": "979e6ca7-cd92-49ac-c21a-fb7e797137c9"
   },
   "outputs": [
    {
     "data": {
      "application/vnd.google.colaboratory.intrinsic+json": {
       "type": "string"
      },
      "text/plain": [
       "'awesome'"
      ]
     },
     "execution_count": 16,
     "metadata": {
      "tags": []
     },
     "output_type": "execute_result"
    }
   ],
   "source": [
    "# We can also assign any type of data to variables and do math on them, even strings! \n",
    "# We use the = to define a variable. for instance\n",
    "\n",
    "w = \"awe\"\n",
    "s = \"so\"\n",
    "u = \"me\"\n",
    "\n",
    "w+s+u"
   ]
  },
  {
   "cell_type": "code",
   "execution_count": null,
   "metadata": {
    "collapsed": true,
    "id": "fhgAoC0rPRpq"
   },
   "outputs": [],
   "source": [
    "#last likely we can make lists of things using brackets and set them to a variable\n",
    "\n",
    "x = np.array([0.0,1.0,2.0,3.0])\n",
    "y = np.array([1.0,3.0,4.0,5.0])\n"
   ]
  },
  {
   "cell_type": "code",
   "execution_count": null,
   "metadata": {
    "colab": {
     "base_uri": "https://localhost:8080/"
    },
    "executionInfo": {
     "elapsed": 1733,
     "status": "ok",
     "timestamp": 1611350619643,
     "user": {
      "displayName": "Cara Battersby",
      "photoUrl": "https://lh3.googleusercontent.com/a-/AOh14GjjbFXKCTXUgyh6J36IR0jiDmfim2-z8o6uzZli=s64",
      "userId": "16674567149460871520"
     },
     "user_tz": 300
    },
    "id": "okNZDXYIPRpq",
    "outputId": "60e12012-b3fb-43ef-e69b-29c3b727cde9"
   },
   "outputs": [
    {
     "data": {
      "text/plain": [
       "array([0., 1., 2., 3.])"
      ]
     },
     "execution_count": 18,
     "metadata": {
      "tags": []
     },
     "output_type": "execute_result"
    }
   ],
   "source": [
    "x"
   ]
  },
  {
   "cell_type": "code",
   "execution_count": null,
   "metadata": {
    "colab": {
     "base_uri": "https://localhost:8080/"
    },
    "executionInfo": {
     "elapsed": 1725,
     "status": "ok",
     "timestamp": 1611350619644,
     "user": {
      "displayName": "Cara Battersby",
      "photoUrl": "https://lh3.googleusercontent.com/a-/AOh14GjjbFXKCTXUgyh6J36IR0jiDmfim2-z8o6uzZli=s64",
      "userId": "16674567149460871520"
     },
     "user_tz": 300
    },
    "id": "Ootvw4EMPRpq",
    "outputId": "c0309887-c058-45a0-c4cc-4ae2d83114a7"
   },
   "outputs": [
    {
     "data": {
      "text/plain": [
       "array([1., 3., 4., 5.])"
      ]
     },
     "execution_count": 19,
     "metadata": {
      "tags": []
     },
     "output_type": "execute_result"
    }
   ],
   "source": [
    "y"
   ]
  },
  {
   "cell_type": "code",
   "execution_count": null,
   "metadata": {
    "colab": {
     "base_uri": "https://localhost:8080/"
    },
    "executionInfo": {
     "elapsed": 1718,
     "status": "ok",
     "timestamp": 1611350619645,
     "user": {
      "displayName": "Cara Battersby",
      "photoUrl": "https://lh3.googleusercontent.com/a-/AOh14GjjbFXKCTXUgyh6J36IR0jiDmfim2-z8o6uzZli=s64",
      "userId": "16674567149460871520"
     },
     "user_tz": 300
    },
    "id": "thw1Lg3cPRpq",
    "outputId": "5fc063a9-4881-40b0-f67f-3dc1ace8148b"
   },
   "outputs": [
    {
     "data": {
      "text/plain": [
       "1.5"
      ]
     },
     "execution_count": 20,
     "metadata": {
      "tags": []
     },
     "output_type": "execute_result"
    }
   ],
   "source": [
    "#average of x \n",
    "np.mean(x)"
   ]
  },
  {
   "cell_type": "code",
   "execution_count": null,
   "metadata": {
    "colab": {
     "base_uri": "https://localhost:8080/"
    },
    "executionInfo": {
     "elapsed": 1712,
     "status": "ok",
     "timestamp": 1611350619646,
     "user": {
      "displayName": "Cara Battersby",
      "photoUrl": "https://lh3.googleusercontent.com/a-/AOh14GjjbFXKCTXUgyh6J36IR0jiDmfim2-z8o6uzZli=s64",
      "userId": "16674567149460871520"
     },
     "user_tz": 300
    },
    "id": "HHkhivLQPRpq",
    "outputId": "750b03d4-f613-4c89-9e94-848eb36b0f34"
   },
   "outputs": [
    {
     "data": {
      "text/plain": [
       "1.118033988749895"
      ]
     },
     "execution_count": 21,
     "metadata": {
      "tags": []
     },
     "output_type": "execute_result"
    }
   ],
   "source": [
    "#standard deviation x\n",
    "\n",
    "np.std(x)"
   ]
  },
  {
   "cell_type": "markdown",
   "metadata": {
    "id": "ZlraVO8pbj0a"
   },
   "source": [
    "---\n",
    "# **Problem 2 (4 pts):** \n",
    "\n",
    "### The Moon subtends an angle of about 1/2$^{\\circ}$ on the sky. The Andromeda galaxy subtends an angle about 10 times larger.\n",
    "<img src=https://apod.nasa.gov/apod/image/1308/m31abtpmoon900.jpg width=\"300\">\n",
    "\n",
    "\n",
    "\n",
    "1. If the Andromeda galaxy were at the far-side outer edge of the Milky Way's disk, approximately **how large would it be in parsecs (one significant figure)**?\n",
    "2. If the Andromeda galaxy's size is about the same size as our Milky Way, **how far away would it be, in parsecs (one significant figure)**?\n",
    "\n",
    "Add 1-2 code boxes below to solve these questions, and enter your final answers in the text box below that.\n",
    "---\n",
    "\n",
    "\n"
   ]
  },
  {
   "cell_type": "code",
   "execution_count": null,
   "metadata": {
    "id": "SJooj20sv9U7"
   },
   "outputs": [],
   "source": [
    "# Your code here\n"
   ]
  },
  {
   "cell_type": "code",
   "execution_count": null,
   "metadata": {
    "id": "bm-6dbAGv_lW"
   },
   "outputs": [],
   "source": [
    "# Your code here"
   ]
  },
  {
   "cell_type": "markdown",
   "metadata": {
    "id": "KQhx_W76wC5p"
   },
   "source": [
    "##**Problem 2 Answers:**\n",
    "\n",
    "\n",
    "**2.1 Answer:** If Andromeda were at the far-side outer edge of the Milky Way's disk, it would be approximately ___ pc large.\n",
    "\n",
    "**2.2 Answer:** If the Andromeda galaxy's size is about the same as the Milky Way, it would be ___ pc away.\n",
    "\n",
    "---"
   ]
  },
  {
   "cell_type": "markdown",
   "metadata": {
    "id": "r791rT8p1vV9"
   },
   "source": [
    "##Problem 2 Feedback for You!\n",
    "\n",
    "Please leave this space blank for Prof. Battersby to append feedback .\n",
    "\n",
    "'\n",
    "\n",
    "'\n",
    "\n",
    "'\n",
    "\n",
    "'\n",
    "\n",
    "\n",
    "End."
   ]
  },
  {
   "cell_type": "markdown",
   "metadata": {
    "id": "2iItOSHdPRpr"
   },
   "source": [
    "\n",
    "# Section 3 - Plotting\n",
    "\n",
    "So you have those to list of numbers, what if those were measurements? And you want to make a plot"
   ]
  },
  {
   "cell_type": "code",
   "execution_count": null,
   "metadata": {
    "colab": {
     "base_uri": "https://localhost:8080/",
     "height": 447
    },
    "executionInfo": {
     "elapsed": 1908,
     "status": "ok",
     "timestamp": 1611350619855,
     "user": {
      "displayName": "Cara Battersby",
      "photoUrl": "https://lh3.googleusercontent.com/a-/AOh14GjjbFXKCTXUgyh6J36IR0jiDmfim2-z8o6uzZli=s64",
      "userId": "16674567149460871520"
     },
     "user_tz": 300
    },
    "id": "sMYVpKwCPRpr",
    "outputId": "fc2993e9-d697-4685-c3d1-d32b7e154f32"
   },
   "outputs": [
    {
     "data": {
      "text/plain": [
       "[<matplotlib.lines.Line2D at 0x7fe3726d4588>]"
      ]
     },
     "execution_count": 24,
     "metadata": {
      "tags": []
     },
     "output_type": "execute_result"
    },
    {
     "data": {
      "image/png": "[encoded data removed]",
      "text/plain": [
       "<Figure size 640x480 with 1 Axes>"
      ]
     },
     "metadata": {
      "tags": []
     },
     "output_type": "display_data"
    }
   ],
   "source": [
    "#Now lets plot this list\n",
    "plt.plot(x,y)"
   ]
  },
  {
   "cell_type": "code",
   "execution_count": null,
   "metadata": {
    "colab": {
     "base_uri": "https://localhost:8080/",
     "height": 472
    },
    "executionInfo": {
     "elapsed": 2194,
     "status": "ok",
     "timestamp": 1611350620149,
     "user": {
      "displayName": "Cara Battersby",
      "photoUrl": "https://lh3.googleusercontent.com/a-/AOh14GjjbFXKCTXUgyh6J36IR0jiDmfim2-z8o6uzZli=s64",
      "userId": "16674567149460871520"
     },
     "user_tz": 300
    },
    "id": "RaCLs4FuPRpr",
    "outputId": "09976774-b979-47e7-d9c6-d0041636060f"
   },
   "outputs": [
    {
     "data": {
      "image/png": "[encoded data removed]",
      "text/plain": [
       "<Figure size 640x480 with 1 Axes>"
      ]
     },
     "metadata": {
      "tags": []
     },
     "output_type": "display_data"
    }
   ],
   "source": [
    "#What if want to plot dots, in magenta, label the axis and title, and gridlines\n",
    "\n",
    "plt.plot(x,y,color='magenta',marker='o',linestyle='None')\n",
    "plt.xlabel('x')\n",
    "plt.ylabel('y')\n",
    "plt.title('y verus x')\n",
    "plt.grid()"
   ]
  },
  {
   "cell_type": "markdown",
   "metadata": {
    "id": "pujm0sLwPRpr"
   },
   "source": [
    "### To save you figure. Right click on the image and select \"save image as . . .\"\n",
    "or you can use the plt.savefig() function that will save the file in google colab. \n",
    "\n",
    "Click on the \"folder\" icon to your left to see and work with your google colab files. Or use \"from google.colab import files\" to work with files directly from your code block."
   ]
  },
  {
   "cell_type": "code",
   "execution_count": null,
   "metadata": {
    "colab": {
     "base_uri": "https://localhost:8080/",
     "height": 472
    },
    "executionInfo": {
     "elapsed": 3125,
     "status": "ok",
     "timestamp": 1611350621088,
     "user": {
      "displayName": "Cara Battersby",
      "photoUrl": "https://lh3.googleusercontent.com/a-/AOh14GjjbFXKCTXUgyh6J36IR0jiDmfim2-z8o6uzZli=s64",
      "userId": "16674567149460871520"
     },
     "user_tz": 300
    },
    "id": "TuBWyXjPPRps",
    "outputId": "39fc6347-c664-4346-8b20-5862704d0eef"
   },
   "outputs": [
    {
     "data": {
      "application/javascript": [
       "\n",
       "    async function download(id, filename, size) {\n",
       "      if (!google.colab.kernel.accessAllowed) {\n",
       "        return;\n",
       "      }\n",
       "      const div = document.createElement('div');\n",
       "      const label = document.createElement('label');\n",
       "      label.textContent = `Downloading \"${filename}\": `;\n",
       "      div.appendChild(label);\n",
       "      const progress = document.createElement('progress');\n",
       "      progress.max = size;\n",
       "      div.appendChild(progress);\n",
       "      document.body.appendChild(div);\n",
       "\n",
       "      const buffers = [];\n",
       "      let downloaded = 0;\n",
       "\n",
       "      const channel = await google.colab.kernel.comms.open(id);\n",
       "      // Send a message to notify the kernel that we're ready.\n",
       "      channel.send({})\n",
       "\n",
       "      for await (const message of channel.messages) {\n",
       "        // Send a message to notify the kernel that we're ready.\n",
       "        channel.send({})\n",
       "        if (message.buffers) {\n",
       "          for (const buffer of message.buffers) {\n",
       "            buffers.push(buffer);\n",
       "            downloaded += buffer.byteLength;\n",
       "            progress.value = downloaded;\n",
       "          }\n",
       "        }\n",
       "      }\n",
       "      const blob = new Blob(buffers, {type: 'application/binary'});\n",
       "      const a = document.createElement('a');\n",
       "      a.href = window.URL.createObjectURL(blob);\n",
       "      a.download = filename;\n",
       "      div.appendChild(a);\n",
       "      a.click();\n",
       "      div.remove();\n",
       "    }\n",
       "  "
      ],
      "text/plain": [
       "<IPython.core.display.Javascript object>"
      ]
     },
     "metadata": {
      "tags": []
     },
     "output_type": "display_data"
    },
    {
     "data": {
      "application/javascript": [
       "download(\"download_a849daae-67e9-463e-9d74-ae2a42de02d4\", \"my_awesome_plot.png\", 30284)"
      ],
      "text/plain": [
       "<IPython.core.display.Javascript object>"
      ]
     },
     "metadata": {
      "tags": []
     },
     "output_type": "display_data"
    },
    {
     "data": {
      "image/png": "[encoded data removed]",
      "text/plain": [
       "<Figure size 640x480 with 1 Axes>"
      ]
     },
     "metadata": {
      "tags": []
     },
     "output_type": "display_data"
    }
   ],
   "source": [
    "#What if want to plot dots, in magenta, label the axis and title, and gridlines\n",
    "\n",
    "plt.plot(x,y,color='magenta',marker='o',linestyle='None')\n",
    "plt.xlabel('x')\n",
    "plt.ylabel('y')\n",
    "plt.title('y verus x')\n",
    "plt.grid()\n",
    "plt.savefig('my_awesome_plot.png',dpi=200)\n",
    "\n",
    "# This extra step is required using google colab\n",
    "# It should prompt you where you'd like to download or send it directly\n",
    "#  to your downloads folder.\n",
    "files.download(\"my_awesome_plot.png\") "
   ]
  },
  {
   "cell_type": "markdown",
   "metadata": {
    "id": "2m5fUHpsPRps"
   },
   "source": [
    "## What if you have two sets of data?\n",
    "\n",
    "Then just make two sets of variables and use plt.plot() twice!"
   ]
  },
  {
   "cell_type": "code",
   "execution_count": null,
   "metadata": {
    "colab": {
     "base_uri": "https://localhost:8080/",
     "height": 472
    },
    "executionInfo": {
     "elapsed": 3117,
     "status": "ok",
     "timestamp": 1611350621089,
     "user": {
      "displayName": "Cara Battersby",
      "photoUrl": "https://lh3.googleusercontent.com/a-/AOh14GjjbFXKCTXUgyh6J36IR0jiDmfim2-z8o6uzZli=s64",
      "userId": "16674567149460871520"
     },
     "user_tz": 300
    },
    "id": "OOR6TMknPRps",
    "outputId": "92e0fff1-230f-4c62-b54e-8201afc4314d"
   },
   "outputs": [
    {
     "data": {
      "image/png": "[encoded data removed]",
      "text/plain": [
       "<Figure size 640x480 with 1 Axes>"
      ]
     },
     "metadata": {
      "tags": []
     },
     "output_type": "display_data"
    }
   ],
   "source": [
    "#first set of data\n",
    "x1 = np.array([0.0,1.0,2.0,3.0])\n",
    "y1 = np.array([1.0,3.0,4.0,5.0])\n",
    "\n",
    "#second set of data\n",
    "x2 = np.array([1.0,3.0,5.0,7.0])\n",
    "y2 = np.array([5.0,6.0,4.0,7.0])\n",
    "\n",
    "#First data to plot. We added label for for a legend too!\n",
    "plt.plot(x1,y1,label='green',color='green',marker='o',linestyle='None')\n",
    "\n",
    "#First data to plot. We added label for for a legend too!\n",
    "plt.plot(x2,y2,label='orange',color='orange',marker='o',linestyle='None')\n",
    "plt.xlabel('x')\n",
    "plt.ylabel('y')\n",
    "plt.title('y verus x')\n",
    "plt.legend()\n",
    "plt.grid()"
   ]
  },
  {
   "cell_type": "markdown",
   "metadata": {
    "id": "Zf5s7OilPRps"
   },
   "source": [
    "Lets look at some examples from the matplotlib [Examples](https://matplotlib.org/gallery/index.html) Gallery"
   ]
  },
  {
   "cell_type": "markdown",
   "metadata": {
    "id": "OQkfudlqPRpt"
   },
   "source": [
    "This method we are using to plot here works, but if you may notice most examples are a little different. The method used in the examples is the prefered method lets give it shot"
   ]
  },
  {
   "cell_type": "code",
   "execution_count": null,
   "metadata": {
    "colab": {
     "base_uri": "https://localhost:8080/",
     "height": 822
    },
    "executionInfo": {
     "elapsed": 3602,
     "status": "ok",
     "timestamp": 1611350621582,
     "user": {
      "displayName": "Cara Battersby",
      "photoUrl": "https://lh3.googleusercontent.com/a-/AOh14GjjbFXKCTXUgyh6J36IR0jiDmfim2-z8o6uzZli=s64",
      "userId": "16674567149460871520"
     },
     "user_tz": 300
    },
    "id": "LDl2SDhGPRpt",
    "outputId": "c31c1ae7-c951-4480-9df2-5829356ec9a5"
   },
   "outputs": [
    {
     "data": {
      "image/png": "[encoded data removed]",
      "text/plain": [
       "<Figure size 1280x960 with 1 Axes>"
      ]
     },
     "metadata": {
      "tags": []
     },
     "output_type": "display_data"
    }
   ],
   "source": [
    "#first set of data\n",
    "x1 = np.array([0.0,1.0,2.0,3.0])\n",
    "y1 = np.array([1.0,3.0,4.0,5.0])\n",
    "\n",
    "#second set of data\n",
    "x2 = np.array([1.0,3.0,5.0,7.0])\n",
    "y2 = np.array([5.0,6.0,4.0,7.0])\n",
    "\n",
    "#this new line explicity creates your figure canvas and the \"subplot\" that gets plotted on it.\n",
    "#this method allows you to easily create multiple plots on the same canvas & when use the plot()\n",
    "#function you explicitly tell it where to go\n",
    "fig,ax = plt.subplots(dpi=200) \n",
    "\n",
    "#First data to plot. We added label for for a legend too!\n",
    "#here instead of \"plt.plot()\" we now use \"ax.plot()\" this tells python we want it on the \n",
    "#sub plot ax, not some other random plot somewhere in our notebook\n",
    "ax.plot(x1,y1,label='green',color='green',marker='o',linestyle='None')\n",
    "\n",
    "#First data to plot. We added label for for a legend too!\n",
    "ax.plot(x2,y2,label='orange',color='orange',marker='o',linestyle='None')\n",
    "#The only other difference is now instead of \"plt.xlabel\" etc., we have to use \"ax.set_xlabel\"\n",
    "ax.set_xlabel('x')\n",
    "ax.set_ylabel('y')\n",
    "ax.set_title('y verus x')\n",
    "ax.legend()\n",
    "ax.grid()"
   ]
  },
  {
   "cell_type": "markdown",
   "metadata": {
    "id": "dwY5oVy9PRpx"
   },
   "source": [
    "### You can also make your plots look really fancy with different styles. \n",
    "\n",
    "To see what is available use this command \n",
    "    \n",
    "    print(plt.style.available)\n",
    "    \n",
    "There is a gallary [https://tonysyu.github.io/raw_content/matplotlib-style-gallery/gallery.html](https://tonysyu.github.io/raw_content/matplotlib-style-gallery/gallery.html)\n",
    "\n",
    "Set a style with\n",
    "\n",
    "    plt.style.use('fivethirtyeight')\n",
    "\n",
    "for instance to make things look like [fivethirtyeight.com](http://fivethirtyeight.com/)\n"
   ]
  },
  {
   "cell_type": "code",
   "execution_count": null,
   "metadata": {
    "colab": {
     "base_uri": "https://localhost:8080/"
    },
    "executionInfo": {
     "elapsed": 3595,
     "status": "ok",
     "timestamp": 1611350621583,
     "user": {
      "displayName": "Cara Battersby",
      "photoUrl": "https://lh3.googleusercontent.com/a-/AOh14GjjbFXKCTXUgyh6J36IR0jiDmfim2-z8o6uzZli=s64",
      "userId": "16674567149460871520"
     },
     "user_tz": 300
    },
    "id": "xTZ7AllSPRpx",
    "outputId": "830c7879-eeed-4d49-9e49-283f5449dae0"
   },
   "outputs": [
    {
     "name": "stdout",
     "output_type": "stream",
     "text": [
      "['Solarize_Light2', '_classic_test_patch', 'bmh', 'classic', 'dark_background', 'fast', 'fivethirtyeight', 'ggplot', 'grayscale', 'seaborn', 'seaborn-bright', 'seaborn-colorblind', 'seaborn-dark', 'seaborn-dark-palette', 'seaborn-darkgrid', 'seaborn-deep', 'seaborn-muted', 'seaborn-notebook', 'seaborn-paper', 'seaborn-pastel', 'seaborn-poster', 'seaborn-talk', 'seaborn-ticks', 'seaborn-white', 'seaborn-whitegrid', 'tableau-colorblind10']\n"
     ]
    }
   ],
   "source": [
    "print(plt.style.available)"
   ]
  },
  {
   "cell_type": "code",
   "execution_count": null,
   "metadata": {
    "colab": {
     "base_uri": "https://localhost:8080/",
     "height": 508
    },
    "executionInfo": {
     "elapsed": 3785,
     "status": "ok",
     "timestamp": 1611350621781,
     "user": {
      "displayName": "Cara Battersby",
      "photoUrl": "https://lh3.googleusercontent.com/a-/AOh14GjjbFXKCTXUgyh6J36IR0jiDmfim2-z8o6uzZli=s64",
      "userId": "16674567149460871520"
     },
     "user_tz": 300
    },
    "id": "ngqMZNHoPRpx",
    "outputId": "4975aa9d-3ba9-4f81-9dfb-41d5721e8908"
   },
   "outputs": [
    {
     "data": {
      "image/png": "[encoded data removed]",
      "text/plain": [
       "<Figure size 640x480 with 1 Axes>"
      ]
     },
     "metadata": {
      "tags": []
     },
     "output_type": "display_data"
    }
   ],
   "source": [
    "# change to the style of Website 538 \n",
    "\n",
    "with plt.style.context(('fivethirtyeight')):\n",
    "    x = [0.0,1.0,2.0,3.0]\n",
    "    y1 = [1.0,3.0,4.0,5.0]\n",
    "    y2 = [5.0,6.0,4.0,7.0]\n",
    "\n",
    "    plt.plot(x,y1,label='red',marker='o',linestyle='None')\n",
    "    plt.plot(x,y2,label='blue',marker='o',linestyle='None')\n",
    "    plt.xlabel('x')\n",
    "    plt.ylabel('y')\n",
    "    plt.title('x versus y')\n",
    "    plt.legend()"
   ]
  },
  {
   "cell_type": "code",
   "execution_count": null,
   "metadata": {
    "colab": {
     "base_uri": "https://localhost:8080/",
     "height": 472
    },
    "executionInfo": {
     "elapsed": 3777,
     "status": "ok",
     "timestamp": 1611350621782,
     "user": {
      "displayName": "Cara Battersby",
      "photoUrl": "https://lh3.googleusercontent.com/a-/AOh14GjjbFXKCTXUgyh6J36IR0jiDmfim2-z8o6uzZli=s64",
      "userId": "16674567149460871520"
     },
     "user_tz": 300
    },
    "id": "IjX-ommdPRpy",
    "outputId": "e81f31f1-1618-4718-a995-fc80a5e83324"
   },
   "outputs": [
    {
     "data": {
      "image/png": "[encoded data removed]",
      "text/plain": [
       "<Figure size 640x480 with 1 Axes>"
      ]
     },
     "metadata": {
      "tags": []
     },
     "output_type": "display_data"
    }
   ],
   "source": [
    "#I like this one \"seaborn-colorblind\"\n",
    "# (the colors are all distinguishable by people with most types of colorblindness.)\n",
    "# (accessibility is awesome.)\n",
    "with plt.style.context(('seaborn-colorblind')):\n",
    "    x = [0.0,1.0,2.0,3.0]\n",
    "    y1 = [1.0,3.0,4.0,5.0]\n",
    "    y2 = [5.0,6.0,4.0,7.0]\n",
    "\n",
    "    plt.plot(x,y1,label=\"green\",color='C2',marker='o',linestyle='None')\n",
    "    plt.plot(x,y2,label='purple',color='C4',marker='o',linestyle='None')\n",
    "    plt.xlabel('x')\n",
    "    plt.ylabel('y')\n",
    "    plt.title('x verus y')\n",
    "    plt.legend()"
   ]
  },
  {
   "cell_type": "code",
   "execution_count": null,
   "metadata": {
    "colab": {
     "base_uri": "https://localhost:8080/",
     "height": 478
    },
    "executionInfo": {
     "elapsed": 4020,
     "status": "ok",
     "timestamp": 1611350622033,
     "user": {
      "displayName": "Cara Battersby",
      "photoUrl": "https://lh3.googleusercontent.com/a-/AOh14GjjbFXKCTXUgyh6J36IR0jiDmfim2-z8o6uzZli=s64",
      "userId": "16674567149460871520"
     },
     "user_tz": 300
    },
    "id": "qhHkylVDPRpy",
    "outputId": "e67cd734-58ba-424b-a10d-ee1898ff2e62"
   },
   "outputs": [
    {
     "data": {
      "image/png": "[encoded data removed]",
      "text/plain": [
       "<Figure size 640x480 with 1 Axes>"
      ]
     },
     "metadata": {
      "tags": []
     },
     "output_type": "display_data"
    }
   ],
   "source": [
    "#how about like xkcd. though becareful because afterwards it will change all subsequent plots\n",
    "with plt.xkcd():\n",
    "    plt.xkcd()\n",
    "    x = [0.0,1.0,2.0,3.0]\n",
    "    y1 = [1.0,3.0,4.0,5.0]\n",
    "    y2 = [5.0,6.0,4.0,7.0]\n",
    "\n",
    "    plt.plot(x,y1,label='orange',)\n",
    "    plt.plot(x,y2,label='blue')\n",
    "    plt.xlabel('x')\n",
    "    plt.ylabel('y')\n",
    "    plt.title('x verus y')\n",
    "    plt.legend()\n",
    "    plt.grid()"
   ]
  },
  {
   "cell_type": "markdown",
   "metadata": {
    "id": "rqFVS6eYt3HB"
   },
   "source": [
    "---\n",
    "#**Problem 3 (2 pts)**\n",
    "###Create a new code box. Make your own list of x and y values (anything!). Plot x vs. y, and save the plot. Please make it somewhat interesting and pretty!\n",
    "---"
   ]
  },
  {
   "cell_type": "code",
   "execution_count": null,
   "metadata": {
    "id": "AP50XGryo9eT"
   },
   "outputs": [],
   "source": [
    "# Problem 3 code\n",
    "#Your code, and your plot"
   ]
  },
  {
   "cell_type": "markdown",
   "metadata": {
    "id": "7HY4ALWL1xaz"
   },
   "source": [
    "##Problem 3 Feedback for You!\n",
    "\n",
    "Please leave this space blank for Prof. Battersby to append feedback .\n",
    "\n",
    "'\n",
    "\n",
    "'\n",
    "\n",
    "'\n",
    "\n",
    "'\n",
    "\n",
    "\n",
    "End."
   ]
  },
  {
   "cell_type": "markdown",
   "metadata": {
    "id": "qSHnui4ZPRpt"
   },
   "source": [
    "---\n",
    "#**Problem 4 (5 pts)**\n",
    "###Now lets try it with real data! First something silly, wingspan vs. height.\n",
    "Download the Google Spreadsheet \"Wingspan\" in the Problem Set 1 folder as a comma separated value (csv) file.\n",
    "\n",
    "In google colab, you are working in the cloud, so cannot easily access locally stored data. You can either use the google.colab function \"files\" to upload / download files that you will be using in the notebook OR you can just click on the \"folder\" tab on the left-hand side of the screen and then you can upload, download, or otherwise deal with files there instead.\n",
    "\n",
    "Here is an example of how to upload a file named \"Wingspan.csv\" which I downloaded and saved locally. It should pop up with a file upload screen where you can select the correct file. Or just use the Files GUI on the left!\n",
    "\n"
   ]
  },
  {
   "cell_type": "code",
   "execution_count": null,
   "metadata": {
    "colab": {
     "base_uri": "https://localhost:8080/",
     "height": 72,
     "resources": {
      "http://localhost:8080/nbextensions/google.colab/files.js": {
       "data": "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",
       "headers": [
        [
         "content-type",
         "application/javascript"
        ]
       ],
       "ok": true,
       "status": 200,
       "status_text": ""
      }
     }
    },
    "executionInfo": {
     "elapsed": 37104,
     "status": "ok",
     "timestamp": 1611350655128,
     "user": {
      "displayName": "Cara Battersby",
      "photoUrl": "https://lh3.googleusercontent.com/a-/AOh14GjjbFXKCTXUgyh6J36IR0jiDmfim2-z8o6uzZli=s64",
      "userId": "16674567149460871520"
     },
     "user_tz": 300
    },
    "id": "ZHZy3UEzurpE",
    "outputId": "69440a03-7f18-459b-bc75-bb1749193eb2"
   },
   "outputs": [
    {
     "data": {
      "text/html": [
       "\n",
       "     <input type=\"file\" id=\"files-c3ba6bd6-3343-4405-bf1c-22222dbc79f4\" name=\"files[]\" multiple disabled\n",
       "        style=\"border:none\" />\n",
       "     <output id=\"result-c3ba6bd6-3343-4405-bf1c-22222dbc79f4\">\n",
       "      Upload widget is only available when the cell has been executed in the\n",
       "      current browser session. Please rerun this cell to enable.\n",
       "      </output>\n",
       "      <script src=\"/nbextensions/google.colab/files.js\"></script> "
      ],
      "text/plain": [
       "<IPython.core.display.HTML object>"
      ]
     },
     "metadata": {
      "tags": []
     },
     "output_type": "display_data"
    },
    {
     "name": "stdout",
     "output_type": "stream",
     "text": [
      "Saving Wingspan.csv to Wingspan (1).csv\n"
     ]
    }
   ],
   "source": [
    "#Upload the Wingspan file\n",
    "uploaded = files.upload()\n",
    "\n",
    "#If you click on the Folder Icon to the left, you can also upload and \n",
    "# deal with your files that way."
   ]
  },
  {
   "cell_type": "code",
   "execution_count": null,
   "metadata": {
    "colab": {
     "base_uri": "https://localhost:8080/"
    },
    "executionInfo": {
     "elapsed": 37103,
     "status": "ok",
     "timestamp": 1611350655130,
     "user": {
      "displayName": "Cara Battersby",
      "photoUrl": "https://lh3.googleusercontent.com/a-/AOh14GjjbFXKCTXUgyh6J36IR0jiDmfim2-z8o6uzZli=s64",
      "userId": "16674567149460871520"
     },
     "user_tz": 300
    },
    "id": "FVVmrvpswLUF",
    "outputId": "93fc9cf3-a99f-4cee-c253-79ec0188e5e7"
   },
   "outputs": [
    {
     "name": "stdout",
     "output_type": "stream",
     "text": [
      "Height in Shoes\n",
      "---------------\n",
      "           7.58\n",
      "           6.75\n",
      "            7.0\n",
      "           6.67\n",
      "           6.33\n",
      "           6.25\n",
      "            6.5\n",
      "           6.75\n",
      "           6.75\n",
      "           6.83\n",
      "            ...\n",
      "           6.67\n",
      "           6.83\n",
      "           6.58\n",
      "           6.17\n",
      "           6.08\n",
      "           6.42\n",
      "           6.75\n",
      "           7.08\n",
      "            6.5\n",
      "           6.17\n",
      "            6.5\n",
      "Length = 24 rows\n",
      "Wingspan\n",
      "--------\n",
      "     8.5\n",
      "    7.58\n",
      "    7.83\n",
      "     7.5\n",
      "    7.08\n",
      "     7.0\n",
      "    7.25\n",
      "     7.5\n",
      "    7.46\n",
      "    7.54\n",
      "     ...\n",
      "    7.33\n",
      "     7.5\n",
      "    7.25\n",
      "    6.83\n",
      "    6.75\n",
      "    7.08\n",
      "    7.42\n",
      "    7.75\n",
      "    7.17\n",
      "    6.83\n",
      "    7.17\n",
      "Length = 24 rows\n"
     ]
    }
   ],
   "source": [
    "#Now read in that file using the astropy ascii function (you already imported it above)\n",
    " \n",
    "data=ascii.read(\"Wingspan.csv\") #or whatever you named it.\n",
    "x_real =data.columns[1] #what column has your data you want on the x-axis? The 1st column is column \"0\"\n",
    "y_real =data.columns[2] #what column has your data you want on the y-axis? The 1st column is column \"0\"\n",
    "print(x_real) # This should be the height\n",
    "print(y_real) # this should be the wingspan"
   ]
  },
  {
   "cell_type": "code",
   "execution_count": null,
   "metadata": {
    "colab": {
     "base_uri": "https://localhost:8080/",
     "height": 472
    },
    "executionInfo": {
     "elapsed": 37321,
     "status": "ok",
     "timestamp": 1611350655350,
     "user": {
      "displayName": "Cara Battersby",
      "photoUrl": "https://lh3.googleusercontent.com/a-/AOh14GjjbFXKCTXUgyh6J36IR0jiDmfim2-z8o6uzZli=s64",
      "userId": "16674567149460871520"
     },
     "user_tz": 300
    },
    "id": "8A6nyp40PRpt",
    "outputId": "9936cdf5-77e6-4079-b7db-dd5c476d59cc"
   },
   "outputs": [
    {
     "data": {
      "image/png": "[encoded data removed]",
      "text/plain": [
       "<Figure size 640x480 with 1 Axes>"
      ]
     },
     "metadata": {
      "tags": []
     },
     "output_type": "display_data"
    }
   ],
   "source": [
    "#plot the data we imported\n",
    "plt.plot(x_real,y_real,'o')\n",
    "plt.xlabel('Height [feet]') # Always want to label the units!\n",
    "plt.ylabel('Wingspan [feet]') # Always want to label the units!\n",
    "plt.title('Wingpsan vs. Height for NBA Players')\n",
    "plt.grid()"
   ]
  },
  {
   "cell_type": "markdown",
   "metadata": {
    "id": "K7JR2dSDPRpu"
   },
   "source": [
    "**Now Lets fit this data (aka add trend lines)**"
   ]
  },
  {
   "cell_type": "code",
   "execution_count": null,
   "metadata": {
    "colab": {
     "base_uri": "https://localhost:8080/",
     "height": 472
    },
    "executionInfo": {
     "elapsed": 37503,
     "status": "ok",
     "timestamp": 1611350655534,
     "user": {
      "displayName": "Cara Battersby",
      "photoUrl": "https://lh3.googleusercontent.com/a-/AOh14GjjbFXKCTXUgyh6J36IR0jiDmfim2-z8o6uzZli=s64",
      "userId": "16674567149460871520"
     },
     "user_tz": 300
    },
    "id": "-s764uav1bqm",
    "outputId": "49237c3a-825e-4fd3-fd73-6019601bba8b"
   },
   "outputs": [
    {
     "data": {
      "image/png": "[encoded data removed]",
      "text/plain": [
       "<Figure size 640x480 with 1 Axes>"
      ]
     },
     "metadata": {
      "tags": []
     },
     "output_type": "display_data"
    }
   ],
   "source": [
    "#np is numpy as a reminder\n",
    "# np.polyfit is a very simple 1-D least squares polynomial fit.\n",
    "# In this case, we want a first-order polynomial (a line)\n",
    "# and we want to fit it to our data, x_real, y_real\n",
    "coef = np.polyfit(x_real,y_real,1)\n",
    "poly1d_fn = np.poly1d(coef) \n",
    "# poly1d_fn is now a function which takes in x and returns an estimate for y\n",
    "\n",
    "plt.plot(x_real,y_real, 'o', x_real, poly1d_fn(x_real))\n",
    "\n",
    "plt.xlabel('Height [feet]') # Always want to label the units!\n",
    "plt.ylabel('Wingspan [feet]') # Always want to label the units!\n",
    "plt.title('Wingpsan vs. Height for NBA Players')\n",
    "plt.grid()\n"
   ]
  },
  {
   "cell_type": "markdown",
   "metadata": {
    "id": "WXQAUpqehQ75"
   },
   "source": [
    "Since using polyfit is new for us, let's make sure we understand what it is doing and the fit is as we expect Now re-plot the data and the fit, but do it using y = mx + b, where you pull the slope and y-intercept, m and b, from the coef variable (m=coef[0], b=coef[1]). Replot the data and the fit, but using y_real = m*x_real+b (instead of x_real and poly1d_fn(x_real). \n"
   ]
  },
  {
   "cell_type": "code",
   "execution_count": null,
   "metadata": {
    "id": "ZAB4IGncyFWF"
   },
   "outputs": [],
   "source": [
    "# Problem 4 code\n",
    "#Your code, and your plot"
   ]
  },
  {
   "cell_type": "markdown",
   "metadata": {
    "id": "gWf8TSutiLOr"
   },
   "source": [
    "##**Problem 4 Answer:**\n",
    "\n",
    "(you must produce 3 plots above plus this answer:)\n",
    "\n",
    "The slope of NBA Players' Wingspans vs. Heights is:\n",
    "\n",
    "and the y-intercept is:  \n",
    "\n",
    "\n",
    "---\n",
    "\n"
   ]
  },
  {
   "cell_type": "markdown",
   "metadata": {
    "id": "jI_eOKov11eI"
   },
   "source": [
    "##Problem 4 Feedback for You!\n",
    "\n",
    "Please leave this space blank for Prof. Battersby to append feedback .\n",
    "\n",
    "'\n",
    "\n",
    "'\n",
    "\n",
    "'\n",
    "\n",
    "'\n",
    "\n",
    "\n",
    "End."
   ]
  },
  {
   "cell_type": "markdown",
   "metadata": {
    "id": "UxEBzHVNug4w"
   },
   "source": [
    "#**Problem 5a (6 pts)**: \n",
    "Using the data in our shared google sheet \"BasicHRData\" plot a simple Hertzsprung-Russell diagram. Remember that HR Diagrams have some unusual conventions. Please replicate these so that your HR diagram matches what you would see in your textbook, on the HR diagram wikipedia page for example, specifically an \"Observer's\" HR Diagram: e.g. (You don't need to add the spectral classes on the top x-axis.) \n",
    "<img src=https://lh3.googleusercontent.com/proxy/qZMXMgziL1kvHtE7sGAp719iwLqW_6mpimWJ8P50ByqxhWjazNyG4i3cstlYMoi4eiRDyeIz78N48Br6XseiLrHojZLQizg3DaRe0xkDnCbD8w width=\"500\">\n",
    "\n",
    "\n"
   ]
  },
  {
   "cell_type": "markdown",
   "metadata": {
    "id": "92k3VCm6zZgX"
   },
   "source": [
    "I'll help you get started reading in the file:"
   ]
  },
  {
   "cell_type": "code",
   "execution_count": null,
   "metadata": {
    "colab": {
     "base_uri": "https://localhost:8080/",
     "height": 72,
     "resources": {
      "http://localhost:8080/nbextensions/google.colab/files.js": {
       "data": "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",
       "headers": [
        [
         "content-type",
         "application/javascript"
        ]
       ],
       "ok": true,
       "status": 200,
       "status_text": ""
      }
     }
    },
    "executionInfo": {
     "elapsed": 50367,
     "status": "ok",
     "timestamp": 1611350668403,
     "user": {
      "displayName": "Cara Battersby",
      "photoUrl": "https://lh3.googleusercontent.com/a-/AOh14GjjbFXKCTXUgyh6J36IR0jiDmfim2-z8o6uzZli=s64",
      "userId": "16674567149460871520"
     },
     "user_tz": 300
    },
    "id": "lYGigQDFw_C-",
    "outputId": "0421af9c-5ffa-4190-f73f-353f2f842513"
   },
   "outputs": [
    {
     "data": {
      "text/html": [
       "\n",
       "     <input type=\"file\" id=\"files-69a48afe-d190-4c1d-bc15-56950404a14f\" name=\"files[]\" multiple disabled\n",
       "        style=\"border:none\" />\n",
       "     <output id=\"result-69a48afe-d190-4c1d-bc15-56950404a14f\">\n",
       "      Upload widget is only available when the cell has been executed in the\n",
       "      current browser session. Please rerun this cell to enable.\n",
       "      </output>\n",
       "      <script src=\"/nbextensions/google.colab/files.js\"></script> "
      ],
      "text/plain": [
       "<IPython.core.display.HTML object>"
      ]
     },
     "metadata": {
      "tags": []
     },
     "output_type": "display_data"
    },
    {
     "name": "stdout",
     "output_type": "stream",
     "text": [
      "Saving BasicHRData.csv to BasicHRData (1).csv\n"
     ]
    }
   ],
   "source": [
    "#As before to upload your file, should need to do this only once per session per file\n",
    "uploaded = files.upload()"
   ]
  },
  {
   "cell_type": "code",
   "execution_count": null,
   "metadata": {
    "id": "die3TYXKt5Rq"
   },
   "outputs": [],
   "source": [
    "#You could do:\n",
    "data = ascii.read('BasicHRData.csv')\n",
    "\n",
    "#But CSV files are annoying to work with. So, I'll suggest you switch to an\n",
    "# Astropy table (BECAUSE ASTROPY TABLES ARE THE BEST) format, via pandas, \n",
    "# but it's up to you! Here's how:\n",
    "import pandas\n",
    "df = pandas.read_csv('BasicHRData.csv')\n",
    "#print(df)\n",
    "\n",
    "from astropy.table import Table\n",
    "t = Table.from_pandas(df)\n",
    "#print(t)\n",
    "#Using astropy table, you can call a column using the text in the header.\n",
    "# So cool!\n",
    "t['Apparent Magnitude']\n",
    "\n",
    "#And if you want to save one to a variable, you could do:\n",
    "mag = t['Absolute Magnitude']"
   ]
  },
  {
   "cell_type": "code",
   "execution_count": null,
   "metadata": {
    "id": "6CDfoDJSrDUJ"
   },
   "outputs": [],
   "source": [
    "# Now go forth! Plot! Enjoy!\n",
    "\n",
    "#Your code and plot here, use as many boxes as you need.\n"
   ]
  },
  {
   "cell_type": "markdown",
   "metadata": {
    "id": "rxHv2aa7q8mP"
   },
   "source": [
    "#**Problem 5b (2 pts)**: \n",
    "Fit a simple line to the main sequence. You can manually or fancilly exclude any non-main sequence items. Plot this fitted line on top of your HR diagram and report the fit parameters below."
   ]
  },
  {
   "cell_type": "code",
   "execution_count": null,
   "metadata": {
    "id": "H3d8fm7-0eZh"
   },
   "outputs": [],
   "source": [
    "#Your code and plot here, use as many boxes as you need.\n"
   ]
  },
  {
   "cell_type": "markdown",
   "metadata": {
    "id": "EHbtszjtMwqT"
   },
   "source": [
    "#**Problem 5c (4 pts)**: \n",
    "Now annotate your HR diagram by labelling the main sequence, where on the main sequence high-mass stars live, where on the main sequqnce low-mass stars live, and the approximate location of red giants and white dwards"
   ]
  },
  {
   "cell_type": "code",
   "execution_count": null,
   "metadata": {
    "id": "pINuoLCiNFdk"
   },
   "outputs": [],
   "source": [
    "#Your code and plot here, use as many boxes as you need.\n"
   ]
  },
  {
   "cell_type": "markdown",
   "metadata": {
    "id": "WPWLY4hVstUE"
   },
   "source": [
    "##**Problem 5 Answer:**\n",
    "\n",
    "(You will produce three HR Diagrams from the provided data, one with your fit and one without and one with annotations, as well as filling in these answers.)\n",
    "\n",
    "The slope of the Main Sequence in the H-R diagram is:\n",
    "\n",
    "and the y-intercept is:  \n",
    "\n",
    "\n",
    "Why might this fit not be that useful for theorists?:\n",
    "\n",
    "\n",
    "\n",
    "---\n"
   ]
  },
  {
   "cell_type": "markdown",
   "metadata": {
    "id": "MAgtVVKP14FE"
   },
   "source": [
    "##Problem 5 Feedback for You!\n",
    "\n",
    "Please leave this space blank for Prof. Battersby to append feedback .\n",
    "\n",
    "'\n",
    "\n",
    "'\n",
    "\n",
    "'\n",
    "\n",
    "'\n",
    "\n",
    "\n",
    "End."
   ]
  },
  {
   "cell_type": "markdown",
   "metadata": {
    "id": "E_zp6-7CiIjI"
   },
   "source": [
    "#Feedback \n",
    "\n",
    "Do you have any feedback for Prof. Battersby on our first coding problem set? Please share here:"
   ]
  },
  {
   "cell_type": "markdown",
   "metadata": {
    "id": "dTyq2wzi03WI"
   },
   "source": [
    "#Final Grade and Feedback for You!\n",
    "\n",
    "Please leave this space blank for Prof. Battersby to append feedback to your assignment and your final grade.\n",
    "\n",
    "'\n",
    "\n",
    "'\n",
    "\n",
    "'\n",
    "\n",
    "'\n",
    "\n",
    "'\n",
    "\n",
    "'\n",
    "\n",
    "'\n",
    "\n",
    "'\n",
    "\n",
    "'\n",
    "\n",
    "'\n",
    "\n",
    "'\n",
    "\n",
    "'\n",
    "\n",
    "\n",
    "End.\n"
   ]
  },
  {
   "cell_type": "code",
   "execution_count": null,
   "metadata": {
    "id": "cArlTISj1Bec"
   },
   "outputs": [],
   "source": []
  }
 ],
 "metadata": {
  "anaconda-cloud": {},
  "colab": {
   "provenance": [
    {
     "file_id": "1uFguiWRsnN2u50oBXfcqIeW3EGsfO0kL",
     "timestamp": 1611086580834
    }
   ]
  },
  "kernelspec": {
   "display_name": "Python 3",
   "language": "python",
   "name": "python3"
  },
  "language_info": {
   "codemirror_mode": {
    "name": "ipython",
    "version": 3
   },
   "file_extension": ".py",
   "mimetype": "text/x-python",
   "name": "python",
   "nbconvert_exporter": "python",
   "pygments_lexer": "ipython3",
   "version": "3.9.6"
  }
 },
 "nbformat": 4,
 "nbformat_minor": 1
}
