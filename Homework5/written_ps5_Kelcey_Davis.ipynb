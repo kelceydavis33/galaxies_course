{
 "cells": [
  {
   "cell_type": "markdown",
   "id": "1b8a5bc1",
   "metadata": {},
   "source": [
    "# Problem set 5"
   ]
  },
  {
   "cell_type": "code",
   "execution_count": 1,
   "id": "4298f017",
   "metadata": {},
   "outputs": [],
   "source": [
    "import astropy.units as u\n",
    "import astropy.constants as c\n",
    "from astropy.coordinates import SkyCoord\n",
    "from astropy.time import Time\n",
    "import numpy as np\n",
    "import matplotlib.pyplot as plt\n",
    "import pandas as pd\n",
    "import glob\n",
    "%matplotlib inline"
   ]
  },
  {
   "cell_type": "code",
   "execution_count": 2,
   "id": "d2f9672d",
   "metadata": {},
   "outputs": [],
   "source": [
    "plt.rcParams['figure.figsize'] = (10, 10)\n",
    "plt.rc('axes', labelsize=14)\n",
    "plt.rc('axes', labelweight='bold')\n",
    "plt.rc('axes', titlesize=16)\n",
    "plt.rc('axes', titleweight='bold')\n",
    "plt.rc('font', family='sans-serif')"
   ]
  },
  {
   "cell_type": "markdown",
   "id": "873b6b5f",
   "metadata": {},
   "source": [
    "# Problem 1"
   ]
  },
  {
   "cell_type": "markdown",
   "id": "4cd1ca15",
   "metadata": {},
   "source": [
    "The Tully-Fisher relation can be expressed as:\n",
    "\n",
    "\n",
    "$M = -4.43 - 6.15 log \\Delta V$\n",
    "\n",
    "where ∆V is the velocity width of the rotational velocity prole of each galaxy in km/s, and M\n",
    "is the absolute magnitude of the galaxy. The gure below shows the velocity proles of two spiral\n",
    "galaxies, NGC1241 and NGC5248."
   ]
  },
  {
   "cell_type": "markdown",
   "id": "1ab1f6bb",
   "metadata": {},
   "source": [
    "(a) (3 pts) Assume that galaxies NGC 1241 and NGC 5248 have apparent magnitudes of m = 14\n",
    "and m = 12, respectively. Calculate the distances to these two galaxies."
   ]
  },
  {
   "cell_type": "markdown",
   "id": "429b86b6",
   "metadata": {},
   "source": [
    "**NGG 1241**\n",
    "\n",
    "m = 14\n",
    "\n",
    "$\\Delta V$ = 4200 - 3850 = 350 [km/s]"
   ]
  },
  {
   "cell_type": "markdown",
   "id": "efa188c4",
   "metadata": {},
   "source": [
    "The diestance modulus can be expressed as:\n",
    "\n",
    "$m - M = 5 log_{10} (d) - 5 $\n",
    "\n",
    "$M = -5 log_{10} (d) + 5 + m$\n",
    "\n",
    "$-5 log_{10} (d) + 5 + m = -4.43 - 6.15 log \\Delta V$\n",
    "\n",
    "$log_{10}(d) = \\frac{-1}{5}(-4.43 - 6.15 log \\Delta V - 5 - m)$\n",
    "\n",
    "$d = 10^{\\frac{-1}{5}(-4.43 - 6.15 log \\Delta V - 5 - m)}$"
   ]
  },
  {
   "cell_type": "code",
   "execution_count": 14,
   "id": "3473a821",
   "metadata": {},
   "outputs": [
    {
     "name": "stdout",
     "output_type": "stream",
     "text": [
      "The distance is 6.53e+07 [km].\n"
     ]
    }
   ],
   "source": [
    "V = 350\n",
    "m = 14\n",
    "d1241 = 10**((-1/5)* (-4.43 - 6.15*np.log10(V) - 5 - m))\n",
    "print(f'The distance is {d1241:.2e} [km].')"
   ]
  },
  {
   "cell_type": "markdown",
   "id": "7eb35f62",
   "metadata": {},
   "source": [
    "**NGC 5248**\n",
    "\n",
    "m = 12\n",
    "\n",
    "$\\Delta V$ = 1250 - 1050 = 200 [km/s]"
   ]
  },
  {
   "cell_type": "code",
   "execution_count": 15,
   "id": "45767e2c",
   "metadata": {},
   "outputs": [
    {
     "name": "stdout",
     "output_type": "stream",
     "text": [
      "The distance is 1.31e+07 [km].\n"
     ]
    }
   ],
   "source": [
    "V = 200\n",
    "m = 12\n",
    "d5248 = 10**((-1/5)* (-4.43 - 6.15*np.log10(V) - 5 - m))\n",
    "print(f'The distance is {d5248:.2e} [km].')"
   ]
  },
  {
   "cell_type": "markdown",
   "id": "3e99d4c7",
   "metadata": {},
   "source": [
    "b) From these and their recessional velocities, calculate the value of the Hubble constant.\n",
    "For simplicity, also assume that the galaxies are seen edge-on (inclination angle i = 90), so\n",
    "that the central velocity corresponds to the maximum rotational velocity."
   ]
  },
  {
   "cell_type": "markdown",
   "id": "91bb1c58",
   "metadata": {},
   "source": [
    "$v_r = H_0 d$\n",
    "\n",
    "$H_0 = \\frac{v_r}{d}$"
   ]
  },
  {
   "cell_type": "markdown",
   "id": "f1d00a8a",
   "metadata": {},
   "source": [
    "**NGC 1241**\n",
    "\n",
    "$v_r \\approx$ 4050\n",
    "\n"
   ]
  },
  {
   "cell_type": "code",
   "execution_count": 16,
   "id": "c307e7f7",
   "metadata": {},
   "outputs": [
    {
     "name": "stdout",
     "output_type": "stream",
     "text": [
      "The value of the hubble constant for NGC 1241 is  6.20e-05 [1/s]\n"
     ]
    }
   ],
   "source": [
    "H1241 = 4050/d1241\n",
    "print(f'The value of the hubble constant for NGC 1241 is  {H1241:.2e} [1/s]')"
   ]
  },
  {
   "cell_type": "markdown",
   "id": "299cd266",
   "metadata": {},
   "source": [
    "**NGC 5248**\n",
    "\n",
    "$v_r \\approx$ 1150"
   ]
  },
  {
   "cell_type": "code",
   "execution_count": 17,
   "id": "3e9a7014",
   "metadata": {},
   "outputs": [
    {
     "name": "stdout",
     "output_type": "stream",
     "text": [
      "The value of the hubble constant for NGC 5248 is  3.10e-04 [1/s]\n"
     ]
    }
   ],
   "source": [
    "H5248 = 4050/d5248\n",
    "print(f'The value of the hubble constant for NGC 5248 is  {H5248:.2e} [1/s]')"
   ]
  },
  {
   "cell_type": "markdown",
   "id": "f4950195",
   "metadata": {},
   "source": [
    "# Problem 2"
   ]
  },
  {
   "cell_type": "markdown",
   "id": "4726a66c",
   "metadata": {},
   "source": [
    "The Fundamental Plane relationship says that the velocity dispersion,\n",
    "σ, of an elliptical galaxy is related to its size r e and surface brightness I e by:\n",
    "\n",
    "$r_e \\alpha \\sigma ^{1.4} I_e^ {-0.85}$"
   ]
  },
  {
   "cell_type": "markdown",
   "id": "c6c1d1bd",
   "metadata": {},
   "source": [
    "a) Derive the Fundamental Plane relationship using arguments similar to those used to\n",
    "derive the Tully-Fisher relationship and the Faber-Jackson relationship in class. You should\n",
    "get an answer that is close, but not exactly the same as the equation above (i.e. the exponents\n",
    "on σ and I e will be slightly o).\n",
    "\n"
   ]
  },
  {
   "cell_type": "markdown",
   "id": "1999f8de",
   "metadata": {},
   "source": [
    "In calss, we started with:\n",
    "\n",
    "$F_g = F_c$\n",
    "\n",
    "$\\frac{m v^2}{r} = \\frac{GmM}{r^2}$\n",
    "\n",
    "$M = \\frac{v^2 R_{tot}}{G}$"
   ]
  },
  {
   "cell_type": "markdown",
   "id": "d481fcc2",
   "metadata": {},
   "source": [
    "And then we added two assumptions:\n",
    "\n",
    "1. ratio is some constant $\\frac{M}{L} = C_{ml}$\n",
    "\n",
    "2. Surface brightness is constant $\\frac{L}{R^2} = C_{sb}$"
   ]
  },
  {
   "cell_type": "markdown",
   "id": "f1b1f7b8",
   "metadata": {},
   "source": [
    "We will follow about this same logic, with a few changes.\n",
    "\n",
    "We can consider Luminosity as the integration of the surface brightness:\n",
    "\n",
    "$L = 2π ∫_0^r I(r) r dr$\n",
    "\n",
    "We will also re-consider our kinetic energy term so that we can include the velocity dispersion term.\n",
    "\n",
    "Typically, centripetal force is given by:\n",
    "\n",
    "$F_c = \\frac{m v^2}{r}$\n",
    "\n",
    "We can simply change this v for the velocity dispersion if we remember that we are working in three dimensions. We just need to multiply the term by 3.\n",
    "\n",
    "$F_c = \\frac{3 m \\sigma^2}{r}$\n",
    "\n",
    "With these differences, we can follow about the same logic as in class.\n",
    "\n",
    "$F_g = F_c$\n",
    "\n",
    "$ \\frac{3 m \\sigma^2}{r} = \\frac{GmM}{r^2}$\n",
    "\n"
   ]
  },
  {
   "cell_type": "markdown",
   "id": "64e5be41",
   "metadata": {},
   "source": [
    "$M = \\frac{3 \\sigma^2 R_{tot}}{G}$"
   ]
  },
  {
   "cell_type": "markdown",
   "id": "30740111",
   "metadata": {},
   "source": [
    "Just quickly solving the luminosity integral, we get:\n",
    "\n",
    "$L =  \\pi I(r) R^2$"
   ]
  },
  {
   "cell_type": "markdown",
   "id": "1ee5d22b",
   "metadata": {},
   "source": [
    "$\\frac{M}{L} = C_{ml} =  \\frac{3 \\sigma^2 R_{tot}}{G L} =  \\frac{3 \\sigma^2 R_{tot}}{G  \\pi I(r) R^2} = \\frac{3 \\sigma^2 }{G  \\pi I(r) R}$"
   ]
  },
  {
   "cell_type": "markdown",
   "id": "90c98a37",
   "metadata": {},
   "source": [
    "$R = \\frac{L}{M} \\frac{3 \\sigma^2 }{G  \\pi I(r) }$"
   ]
  },
  {
   "cell_type": "markdown",
   "id": "f7f69853",
   "metadata": {},
   "source": [
    "$\\frac{L}{R^2} = C_{sb}$\n",
    "\n",
    "$R^2 = \\frac{L}{C_{sb}}$\n",
    "\n",
    "$\\frac{L}{C_{sb}} = \\frac{L^2}{M^2} [\\frac{3 \\sigma^2 }{G  \\pi I(r) }]^2$"
   ]
  },
  {
   "cell_type": "markdown",
   "id": "0ebcce43",
   "metadata": {},
   "source": [
    "$\\frac{1}{C_{sb}} = \\frac{L}{M^2} 9 \\sigma^4 \\frac{1}{G^2 \\pi^2 I(r)^2}$"
   ]
  },
  {
   "cell_type": "markdown",
   "id": "3a4a00e9",
   "metadata": {},
   "source": [
    "$\\frac{1}{C_{sb}} = \\frac{\\pi I(r) R^2}{[\\frac{3 \\sigma^2 R_{tot}}{G}]^2} 9 \\sigma^4 \\frac{1}{G^2 \\pi^2 I(r)^2}$"
   ]
  },
  {
   "cell_type": "markdown",
   "id": "85e722f6",
   "metadata": {},
   "source": [
    "$\\frac{1}{C_{sb}} = \\frac{9 \\sigma^4 \\pi I(r) R^2}{G^2 \\pi^2 I(r)^2} \\frac{G^2}{9 \\sigma^4 R}$"
   ]
  },
  {
   "cell_type": "markdown",
   "id": "01f5fc66",
   "metadata": {},
   "source": [
    "$\\frac{1}{C_{sb}} = \\frac{9 \\sigma^4 R}{I(r) \\pi}$"
   ]
  },
  {
   "cell_type": "markdown",
   "id": "d51ccf71",
   "metadata": {},
   "source": [
    "Dropping the constants:\n",
    "\n",
    "$I(r)  \\approx \\sigma^4 R$"
   ]
  },
  {
   "cell_type": "markdown",
   "id": "9c46864d",
   "metadata": {},
   "source": [
    "\n",
    "\n",
    "b) The reason your answer for part (a) diers from the actual relationship is because\n",
    "the Mass-to-Light ratio for elliptical galaxies is not constant. Instead it varies with the mass\n",
    "of the galaxy. Determine how the M/L ratio must depend on mass to obtain the observed\n",
    "Fundamental Plane relationship. In other words, assuming M/L 9 M x , solve for x."
   ]
  },
  {
   "cell_type": "markdown",
   "id": "a8388967",
   "metadata": {},
   "source": [
    "$\\frac{M}{L} \\approx M^x$"
   ]
  },
  {
   "cell_type": "markdown",
   "id": "42c02866",
   "metadata": {},
   "source": [
    "$\\frac{M}{L} = M^x =  \\frac{3 \\sigma^2 R_{tot}}{G L} =  \\frac{3 \\sigma^2 R_{tot}}{G  \\pi I(r) R^2} = \\frac{3 \\sigma^2 }{G  \\pi I(r) R}$"
   ]
  },
  {
   "cell_type": "markdown",
   "id": "817f62e1",
   "metadata": {},
   "source": [
    "$R = \\frac{1}{M^x} \\frac{3 \\sigma^2 }{G  \\pi I(r) }$"
   ]
  },
  {
   "cell_type": "markdown",
   "id": "1abe92cd",
   "metadata": {},
   "source": [
    "$R^2 = \\frac{L}{C_{sb}}$\n",
    "\n",
    "$\\frac{L}{C_{sb}} = [\\frac{1}{M^x} \\frac{3 \\sigma^2 }{G  \\pi I(r) }]^2$"
   ]
  },
  {
   "cell_type": "markdown",
   "id": "0fbb0b0b",
   "metadata": {},
   "source": [
    "COME BACK TO THIS"
   ]
  },
  {
   "cell_type": "code",
   "execution_count": null,
   "id": "216dc856",
   "metadata": {},
   "outputs": [],
   "source": []
  },
  {
   "cell_type": "markdown",
   "id": "bb57d4e8",
   "metadata": {},
   "source": [
    "# Problem 3"
   ]
  },
  {
   "cell_type": "markdown",
   "id": "1746a423",
   "metadata": {},
   "source": [
    "For this problem, you will generate a model galaxy spectrum for\n",
    "two idealized cases. The rst is a burst of star formation which has just occurred (e.g., t=0, no\n",
    "stars have evolved o of the main sequence), while the second will be that same population, only\n",
    "viewed one billion years later.\n",
    "\n",
    "a. Assume that a gas cloud with a mass of 10 9 M d collapses instantaneously (yes, this\n",
    "is unphysical, but it’s an idealized case, so let’s go with it), and stars are formed with masses\n",
    "distributed according to a Salpeter initial mass function (power law index =  ́2.35), with\n",
    "a minimum mass of 0.08 M d and a maximum of 100 M d . Calculate the number of stars of\n",
    "each spectral type, using the following denitions: O=20-100 M d ; B=3-20 M d ; A=1.7-3 M d ;\n",
    "F=1.1-1.7 M d ; G=0.8-1.1 M d ; K=0.6-0.8 M d ; M=0.08-0.6 M d . Write these values down in\n",
    "tabular form and show all work.\n",
    "\n",
    "**GRADER: This problem is fully in the coding notebook that I turned in. No need to grade it here.**"
   ]
  },
  {
   "cell_type": "markdown",
   "id": "12c333d1",
   "metadata": {},
   "source": [
    "$M_{tot} = 10^9 M_{\\odot}$\n",
    "\n",
    "index = -2.35\n",
    "\n",
    "We start with the salpeter equation:\n",
    "\n",
    "$ \\xi (m)\\Delta m=\\xi _{0}\\left({\\frac {m}{M_{\\odot }}}\\right)^{-2.35}\\left({\\frac {\\Delta m}{M_{\\odot }}}\\right)$"
   ]
  },
  {
   "cell_type": "markdown",
   "id": "b6d64545",
   "metadata": {},
   "source": [
    "We first need to solve for the normalization constant.\n",
    "\n",
    "$M_{tot} = \\int_{0.08 M_{sun}}^{100 M_{sun}} \\xi _{0} \\frac{m^{-2.35}}{m} dm$\n"
   ]
  },
  {
   "cell_type": "markdown",
   "id": "10846d45",
   "metadata": {},
   "source": [
    "$M_{tot} = \\xi_0 \\frac{1}{M_\\odot}[\\frac{m^{-0.35}}{-0.35}]|_{0.08 M_\\odot}^{100 M_\\odot}$"
   ]
  },
  {
   "cell_type": "markdown",
   "id": "bdf489ac",
   "metadata": {},
   "source": [
    "$M_{tot} = \\xi_0 \\frac{1}{-0.35}[100 M_\\odot^{-0.35} - 0.08 M_\\odot^{-0.35}]$"
   ]
  },
  {
   "cell_type": "markdown",
   "id": "c8f376c9",
   "metadata": {},
   "source": [
    "$\\xi_0 = \\frac{M_{tot} }{ \\frac{1}{-0.35}[100 M_\\odot^{-0.35} - 0.08 M_\\odot^{-0.35}]}$"
   ]
  },
  {
   "cell_type": "code",
   "execution_count": 40,
   "id": "a5129e3a",
   "metadata": {},
   "outputs": [
    {
     "name": "stdout",
     "output_type": "stream",
     "text": [
      "The normalization constant is 1.26e+49.\n"
     ]
    }
   ],
   "source": [
    "msun = c.M_sun.value\n",
    "mtot = 1e9*msun\n",
    "\n",
    "#Value in kg\n",
    "xi0 = mtot/( (1/(-0.35))*( ((100*msun)**(-0.35)) - ((0.08*msun)**(-0.35))  ))\n",
    "\n",
    "print(f'The normalization constant is {xi0:.2e}.')"
   ]
  },
  {
   "cell_type": "code",
   "execution_count": 42,
   "id": "94463cb9",
   "metadata": {},
   "outputs": [],
   "source": [
    "def ngal(lower_m, upper_m):\n",
    "    \"\"\"\n",
    "    Takes a range of masses and computes the number of galaxies within the range.\n",
    "    \n",
    "    \"\"\"\n",
    "    \n",
    "    return xi0*( (1/(-0.35))*( ((upper_m*msun)**(-0.35)) - ((lower_m*msun)**(-0.35))  ))"
   ]
  },
  {
   "cell_type": "markdown",
   "id": "947af64e",
   "metadata": {},
   "source": [
    "O type"
   ]
  },
  {
   "cell_type": "code",
   "execution_count": 50,
   "id": "d49f21f5",
   "metadata": {},
   "outputs": [
    {
     "name": "stdout",
     "output_type": "stream",
     "text": [
      "There are 1.35e+38 O type stars.\n"
     ]
    }
   ],
   "source": [
    "no = ngal(20,100)\n",
    "print(f'There are {no:.2e} O type stars.')"
   ]
  },
  {
   "cell_type": "markdown",
   "id": "a5eeea97",
   "metadata": {},
   "source": [
    "B type"
   ]
  },
  {
   "cell_type": "code",
   "execution_count": 51,
   "id": "436bc5c5",
   "metadata": {},
   "outputs": [
    {
     "name": "stdout",
     "output_type": "stream",
     "text": [
      "There are 2.96e+38 B type stars.\n"
     ]
    }
   ],
   "source": [
    "nb = ngal(3,20)\n",
    "print(f'There are {nb:.2e} B type stars.')"
   ]
  },
  {
   "cell_type": "markdown",
   "id": "ea6bdfee",
   "metadata": {},
   "source": [
    "A type"
   ]
  },
  {
   "cell_type": "code",
   "execution_count": 55,
   "id": "090c60f7",
   "metadata": {},
   "outputs": [
    {
     "name": "stdout",
     "output_type": "stream",
     "text": [
      "There are 1.34e+38 A type stars.\n"
     ]
    }
   ],
   "source": [
    "na = ngal(1.7,3)\n",
    "print(f'There are {na:.2e} A type stars.')"
   ]
  },
  {
   "cell_type": "markdown",
   "id": "eaa57f62",
   "metadata": {},
   "source": [
    "F type"
   ]
  },
  {
   "cell_type": "code",
   "execution_count": 56,
   "id": "394407a5",
   "metadata": {},
   "outputs": [
    {
     "name": "stdout",
     "output_type": "stream",
     "text": [
      "There are 1.22e+38 F type stars.\n"
     ]
    }
   ],
   "source": [
    "nf = ngal(1.1,1.7)\n",
    "print(f'There are {nf:.2e} F type stars.')"
   ]
  },
  {
   "cell_type": "markdown",
   "id": "3c6e4d86",
   "metadata": {},
   "source": [
    "G type"
   ]
  },
  {
   "cell_type": "code",
   "execution_count": 57,
   "id": "2879780b",
   "metadata": {},
   "outputs": [
    {
     "name": "stdout",
     "output_type": "stream",
     "text": [
      "There are 1.02e+38 G type stars.\n"
     ]
    }
   ],
   "source": [
    "ng = ngal(0.8,1.1)\n",
    "print(f'There are {ng:.2e} G type stars.')"
   ]
  },
  {
   "cell_type": "markdown",
   "id": "00a3a123",
   "metadata": {},
   "source": [
    "K type "
   ]
  },
  {
   "cell_type": "code",
   "execution_count": 58,
   "id": "3eebaea5",
   "metadata": {},
   "outputs": [
    {
     "name": "stdout",
     "output_type": "stream",
     "text": [
      "There are 1.03e+38 K type stars.\n"
     ]
    }
   ],
   "source": [
    "nk = ngal(0.6,0.8)\n",
    "print(f'There are {nk:.2e} K type stars.')"
   ]
  },
  {
   "cell_type": "markdown",
   "id": "01d6c967",
   "metadata": {},
   "source": [
    "M type"
   ]
  },
  {
   "cell_type": "code",
   "execution_count": 59,
   "id": "768ce2d0",
   "metadata": {},
   "outputs": [
    {
     "name": "stdout",
     "output_type": "stream",
     "text": [
      "There are 1.10e+39 M type stars.\n"
     ]
    }
   ],
   "source": [
    "nm = ngal(0.08,0.6)\n",
    "print(f'There are {nm:.2e} M type stars.')"
   ]
  },
  {
   "cell_type": "code",
   "execution_count": 64,
   "id": "e2342900",
   "metadata": {},
   "outputs": [
    {
     "data": {
      "text/html": [
       "<div>\n",
       "<style scoped>\n",
       "    .dataframe tbody tr th:only-of-type {\n",
       "        vertical-align: middle;\n",
       "    }\n",
       "\n",
       "    .dataframe tbody tr th {\n",
       "        vertical-align: top;\n",
       "    }\n",
       "\n",
       "    .dataframe thead th {\n",
       "        text-align: right;\n",
       "    }\n",
       "</style>\n",
       "<table border=\"1\" class=\"dataframe\">\n",
       "  <thead>\n",
       "    <tr style=\"text-align: right;\">\n",
       "      <th></th>\n",
       "      <th>Types</th>\n",
       "      <th>Number</th>\n",
       "    </tr>\n",
       "  </thead>\n",
       "  <tbody>\n",
       "    <tr>\n",
       "      <th>0</th>\n",
       "      <td>O</td>\n",
       "      <td>1.351253e+38</td>\n",
       "    </tr>\n",
       "    <tr>\n",
       "      <th>1</th>\n",
       "      <td>B</td>\n",
       "      <td>2.957217e+38</td>\n",
       "    </tr>\n",
       "    <tr>\n",
       "      <th>2</th>\n",
       "      <td>A</td>\n",
       "      <td>1.340424e+38</td>\n",
       "    </tr>\n",
       "    <tr>\n",
       "      <th>3</th>\n",
       "      <td>F</td>\n",
       "      <td>1.223687e+38</td>\n",
       "    </tr>\n",
       "    <tr>\n",
       "      <th>4</th>\n",
       "      <td>G</td>\n",
       "      <td>1.020945e+38</td>\n",
       "    </tr>\n",
       "    <tr>\n",
       "      <th>5</th>\n",
       "      <td>K</td>\n",
       "      <td>1.025404e+38</td>\n",
       "    </tr>\n",
       "    <tr>\n",
       "      <th>6</th>\n",
       "      <td>M</td>\n",
       "      <td>1.096517e+39</td>\n",
       "    </tr>\n",
       "  </tbody>\n",
       "</table>\n",
       "</div>"
      ],
      "text/plain": [
       "  Types        Number\n",
       "0     O  1.351253e+38\n",
       "1     B  2.957217e+38\n",
       "2     A  1.340424e+38\n",
       "3     F  1.223687e+38\n",
       "4     G  1.020945e+38\n",
       "5     K  1.025404e+38\n",
       "6     M  1.096517e+39"
      ]
     },
     "execution_count": 64,
     "metadata": {},
     "output_type": "execute_result"
    }
   ],
   "source": [
    "nstars = pd.DataFrame({'Types': ['O', 'B', 'A', 'F', 'G', 'K', 'M'],\n",
    "                     'Number': [no,nb,na,nf,ng,nk,nm]})\n",
    "nstars"
   ]
  },
  {
   "cell_type": "markdown",
   "id": "e6a8a226",
   "metadata": {},
   "source": [
    "Continuing the rest of this in the coding notebook..."
   ]
  },
  {
   "cell_type": "code",
   "execution_count": null,
   "id": "80ac7e0d",
   "metadata": {},
   "outputs": [],
   "source": []
  },
  {
   "cell_type": "markdown",
   "id": "11bcc4b7",
   "metadata": {},
   "source": [
    "# Problem 4"
   ]
  },
  {
   "cell_type": "markdown",
   "id": "0fe2bbde",
   "metadata": {},
   "source": [
    "Active Galactic Nuclei. Galaxy interactions often result in gas being funneled to the\n",
    "center of a galaxy, which triggers a growth phase of the supermassive black hole. In this problem,\n",
    "you’ll calculate the typical timescale over which this phase would be visible as an AGN. Suppose\n",
    "an elliptical galaxy undergoes a merger and the central black hole begins to accrete matter at the\n",
    "Eddington rate. If the total gas mass, M gas , funneled to the black hole is 1% of the overall mass of\n",
    "the galaxy’s bulge, M bulge , estimate the maximum lifetime of the resulting growth phase.\n",
    "The measured stellar velocity dispersion of this elliptical galaxy is about 220 km/s. The publication\n",
    "McConnell & Ma 2013, ApJ, 764, 184M gives a comprehensive analysis of the scaling relationships\n",
    "between black holes and their host galaxies. The AGN luminosity is about 10 13 L d ."
   ]
  },
  {
   "cell_type": "markdown",
   "id": "ec3db317",
   "metadata": {},
   "source": [
    "$M_{gas} = 0.01 M_{buldge}$\n",
    "\n",
    "velocity dispersion:\n",
    "\n",
    "$\\sigma = 220 [km/s]$\n",
    "\n",
    "$L_{AGN} = 10^{13} L_\\odot$"
   ]
  },
  {
   "cell_type": "markdown",
   "id": "fabd50db",
   "metadata": {},
   "source": [
    "Scaling relation from the paper:\n",
    "\n",
    "$log_{10}M_* = \\alpha + \\beta log_{10}X$\n",
    "\n",
    "where\n",
    "\n",
    "$X = \\frac{\\sigma}{200 km/s}$\n",
    "\n",
    "According to the paper:\n",
    "\n",
    "Our full sample of 72 galaxies yields an intercept α =\n",
    "8.32 ± 0.05 and slope β = 5.64 ± 0.32. When upper limits are\n",
    "added, the sample of 164 galaxies yields α = 8.15 ± 0.05 and\n",
    "β = 5.58±0.30. The\n",
    "\n",
    "so we will use \n",
    "\n",
    "$\\alpha = 8.15$\n",
    "\n",
    "$\\beta =  5.64$"
   ]
  },
  {
   "cell_type": "markdown",
   "id": "06710cc2",
   "metadata": {},
   "source": [
    "Then, applying this to our values, we get:\n",
    "    \n",
    "$log{\\frac{M_{BH}}{M_\\odot}} = 8.15+ 5.64 log_{10}\\frac{200 km/s}{200 km/s}$"
   ]
  },
  {
   "cell_type": "markdown",
   "id": "6a061c95",
   "metadata": {},
   "source": [
    "This second term then disapears and we get:\n",
    "\n",
    "$M_{BH} = 10^{8.15 } M_\\odot$"
   ]
  },
  {
   "cell_type": "code",
   "execution_count": 82,
   "id": "a9acfafa",
   "metadata": {},
   "outputs": [
    {
     "name": "stdout",
     "output_type": "stream",
     "text": [
      "The mass of the black hole is 2.81e+38 kg, or 1.41e+08 solar masses.\n"
     ]
    }
   ],
   "source": [
    "alpha = 8.15\n",
    "beta = 5.64\n",
    "mbh = c.M_sun* 10**(alpha)\n",
    "print(f'The mass of the black hole is {mbh:.2e}, or {10**(8.15):.2e} solar masses.')"
   ]
  },
  {
   "cell_type": "markdown",
   "id": "cb21ac7b",
   "metadata": {},
   "source": [
    "(b) (3 pts) Using the appropriate scaling relationships given in McConnell & Ma, what is the\n",
    "estimated bulge mass of this Galaxy in units of M d ? Describe the scaling relationship that\n",
    "you chose and why."
   ]
  },
  {
   "cell_type": "markdown",
   "id": "e09768ab",
   "metadata": {},
   "source": [
    "$log[\\frac{M_{BH}}{M_\\odot}] = \\alpha + \\beta log[\\frac{M_{buldge}}{10^{11} M_{sun}}]$"
   ]
  },
  {
   "cell_type": "markdown",
   "id": "2fd5fbde",
   "metadata": {},
   "source": [
    "$ log[\\frac{M_{buldge}}{10^{11} M_{sun}}] = \\frac{1}{\\beta}[log[\\frac{M_{BH}}{M_\\odot}] - \\alpha]$\n",
    "\n",
    "$ M_{buldge} = 10^{11} M_{sun} 10^{\\frac{1}{\\beta}[log[\\frac{M_{BH}}{M_\\odot}] - \\alpha]}$"
   ]
  },
  {
   "cell_type": "code",
   "execution_count": 88,
   "id": "71f84d66",
   "metadata": {},
   "outputs": [
    {
     "name": "stdout",
     "output_type": "stream",
     "text": [
      "The mass of the buldge is 3.53e+40 kg or 1.77e+10: solar masses.\n"
     ]
    }
   ],
   "source": [
    "mbuldge = 1e11*c.M_sun*10**(np.log10((1/beta)* (mbh/c.M_sun)) - alpha)\n",
    "print(f'The mass of the buldge is {mbuldge:.2e} or {1e11*10**(np.log10((1/beta)* (mbh/c.M_sun)) - alpha):.2e}: solar masses.')"
   ]
  },
  {
   "cell_type": "markdown",
   "id": "1e2de941",
   "metadata": {},
   "source": [
    "(c) (1 pts) What is the total amount of gas mass funneled into the black hole in units of M d ?"
   ]
  },
  {
   "cell_type": "code",
   "execution_count": 102,
   "id": "80cf0a1d",
   "metadata": {},
   "outputs": [
    {
     "name": "stdout",
     "output_type": "stream",
     "text": [
      "The total ammount of gas is 1.77e+08 solar masses.\n"
     ]
    }
   ],
   "source": [
    "mgas = 0.01*mbuldge/c.M_sun\n",
    "print(f'The total ammount of gas is {mgas:.2e} solar masses.')"
   ]
  },
  {
   "cell_type": "markdown",
   "id": "d9d8ea92",
   "metadata": {},
   "source": [
    "(d) (2 pts) The Eddington accretion rate is given by: m\n",
    "9 “ c L 2 where L is the AGN luminosity, \n",
    "is the eciency (typically 0.1 is assumed), and c is the speed of light. What is the Eddington\n",
    "accretion rate (in solar masses per year) for this growing black hole?"
   ]
  },
  {
   "cell_type": "markdown",
   "id": "c87b588a",
   "metadata": {},
   "source": [
    "$\\dot m = \\frac{L}{\\epsilon c^2}$\n",
    "\n",
    "$\\epsilon = 0.1$\n",
    "\n",
    "and given\n",
    "\n",
    "$L_{AGN} = 10^{13} L_\\odot$\n",
    "\n",
    "$\\dot m = \\frac{10^{13} L_\\odot}{0.1 c^2}$"
   ]
  },
  {
   "cell_type": "code",
   "execution_count": 98,
   "id": "10cef325",
   "metadata": {},
   "outputs": [
    {
     "name": "stdout",
     "output_type": "stream",
     "text": [
      "The acretion rate is 4.26e+23 kg / s.\n"
     ]
    }
   ],
   "source": [
    "mdot = ((1e13*c.L_sun)/(0.1*(c.c**2))).decompose()\n",
    "print(f'The acretion rate is {mdot:.2e}.')"
   ]
  },
  {
   "cell_type": "markdown",
   "id": "4a1e68b5",
   "metadata": {},
   "source": [
    "(e) (2 pts) Assuming a constant accretion rate with time, how long will it take for all the available\n",
    "gas to be accreted? Give your answer in Myr."
   ]
  },
  {
   "cell_type": "code",
   "execution_count": 118,
   "id": "35c03006",
   "metadata": {},
   "outputs": [
    {
     "name": "stdout",
     "output_type": "stream",
     "text": [
      "It will take 2.62e+01 Myr for the available gas to be acreted.\n"
     ]
    }
   ],
   "source": [
    "t = ((mgas*u.Msun)/(mdot)).to(u.Myr)\n",
    "print(f'It will take {t:.2e} for the available gas to be acreted.')"
   ]
  },
  {
   "cell_type": "markdown",
   "id": "dbacff45",
   "metadata": {},
   "source": [
    "f (1 pts) How does this compare with the timescale for a typical merger, which is about 1 Gyr?\n",
    "Could this explain why only „ 10% of galaxies are observed to host an AGN at any given time?"
   ]
  },
  {
   "cell_type": "code",
   "execution_count": 115,
   "id": "0b0f6c6e",
   "metadata": {},
   "outputs": [
    {
     "name": "stdout",
     "output_type": "stream",
     "text": [
      "The ratio of this timescale to the timescale of a typical merger is 2.62e-02.\n"
     ]
    }
   ],
   "source": [
    "t_typical = 1e9*u.year\n",
    "\n",
    "ratio = (t/t_typical).decompose()\n",
    "\n",
    "print(f'The ratio of this timescale to the timescale of a typical merger is {ratio:.2e}.')"
   ]
  },
  {
   "cell_type": "markdown",
   "id": "e82e359a",
   "metadata": {},
   "source": [
    "Since this gives such a small vale, it tells us that the merger timescale is significantly longer thatn the acretion time here, and does explain why only about 10% of galaxies might host an AGN at any given time."
   ]
  },
  {
   "cell_type": "code",
   "execution_count": null,
   "id": "63f7a6cf",
   "metadata": {},
   "outputs": [],
   "source": []
  },
  {
   "cell_type": "code",
   "execution_count": null,
   "id": "ab54d53f",
   "metadata": {},
   "outputs": [],
   "source": []
  },
  {
   "cell_type": "code",
   "execution_count": null,
   "id": "66b82db4",
   "metadata": {},
   "outputs": [],
   "source": []
  },
  {
   "cell_type": "code",
   "execution_count": null,
   "id": "eb5214ca",
   "metadata": {},
   "outputs": [],
   "source": []
  }
 ],
 "metadata": {
  "kernelspec": {
   "display_name": "Python 3",
   "language": "python",
   "name": "python3"
  },
  "language_info": {
   "codemirror_mode": {
    "name": "ipython",
    "version": 3
   },
   "file_extension": ".py",
   "mimetype": "text/x-python",
   "name": "python",
   "nbconvert_exporter": "python",
   "pygments_lexer": "ipython3",
   "version": "3.9.6"
  }
 },
 "nbformat": 4,
 "nbformat_minor": 5
}
