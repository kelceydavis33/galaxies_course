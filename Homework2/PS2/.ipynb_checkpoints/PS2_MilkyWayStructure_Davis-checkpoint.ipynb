{
 "cells": [
  {
   "cell_type": "markdown",
   "metadata": {
    "id": "BQolwDmIBamp"
   },
   "source": [
    "<h1><center>$\\text{Problem Set 2: Milky Way Structure}$</center></h1>"
   ]
  },
  {
   "cell_type": "markdown",
   "metadata": {
    "id": "qjoyYGOwaY8B"
   },
   "source": [
    "Developed by Prof. Cara Battersby for the University of Connecticut PHYS4720/6720 Galaxies and the ISM Course. This workbook is adapted from a notebook on Milky Way Structure from Benne Holwerda at the University of Louisville for PHYS590. Some of the work from that repository was adapted from Vivienne Acquiviva, an Associate Professor in the Physics Department at the CUNY NYC College of Technology and at the CUNY Graduate Center.\n"
   ]
  },
  {
   "cell_type": "markdown",
   "metadata": {
    "id": "n9qEWtBzbqQF"
   },
   "source": [
    "---\n",
    "##Instructions:\n",
    "\n",
    "**BEFORE YOU BEGIN:**\n",
    "\n",
    "1.   Navigate to \"File\" --> \"Save a Copy in Drive\"\n",
    "2.   Rename file and put it somewhere you can find it again.\n",
    "\n",
    "***Important Note:*** It is *not* enough to just rename the filename at the top, please follow the instructions above.\n",
    "\n",
    "\n",
    "1. First, please save a copy of this notebook as instructed above.\n",
    "\n",
    "2. This notebook contains 3 problems for 22 points total.\n",
    "\n",
    "3. You may follow this notebook and submit your final product by sharing your completed colab notebook with me, or take the questions and do your own coding and submit a PDF of your plots and code, or TBD another method depending on feedback and suggestions!"
   ]
  },
  {
   "cell_type": "markdown",
   "metadata": {
    "id": "PRYHtlJnuKCz"
   },
   "source": [
    "**Your Name:** Kelcey Davis\n",
    "\n",
    "**Names of Students you worked with:**\n",
    "\n",
    "**What resources did you use for this problem set?:**\n",
    "\n",
    "**How long did this problem set take? Please estimate for both the coding and written problems:**"
   ]
  },
  {
   "cell_type": "markdown",
   "metadata": {
    "id": "TnK1qKkrBamv"
   },
   "source": [
    "## Problem 1 (5 pts) - Measuring Galactic Rotation based on our position within the Galaxy."
   ]
  },
  {
   "cell_type": "markdown",
   "metadata": {
    "id": "-ycb0KFgBamv"
   },
   "source": [
    "In class, we will derive that the orbital velocity as a function of Galactocentric Radius, V(R), is given by:\n",
    "\n",
    "$V (R) = V_{\\rm{max}} + V_0~sin(\\ell)$\n",
    "\n",
    "where $V_{\\rm{max}}$ is the maximum orbital velocity along the line-of-sight at Galactic longitude, $\\ell$, and $V_0$ is the circular velocity at the Sun's location (the Local Standard of Rest, LSR) at the Sun.\n",
    "\n",
    "This expression enables us to measure the overall rotation speed of the Galaxy by observing spectra across a range of Galactic longitudes and measuring the maximum radial velocity of gas in each. \n",
    "\n",
    "Cool!\n",
    "\n",
    "For the following, we will assume $R_\\odot = 8.5$ kpc and $V_\\odot = 210$ km/s for consistency, but note that currently accepted values are closer to $R_\\odot = 8.15$ kpc and $V_\\odot = 236$ km/s from Reid et al. (2019). \n",
    "\n",
    "We'll start with a series of measurements from the ESA-Haystack radio telescope (J. Koppen) from 24 March 2010, available here: https://portia.astrophysik.uni-kiel.de/~koeppen/Haystack/ \n",
    "\n"
   ]
  },
  {
   "cell_type": "code",
   "execution_count": 2,
   "metadata": {
    "id": "oBUEqJt0Bzjg"
   },
   "outputs": [],
   "source": [
    "#Some packages you'll probably want\n",
    "%matplotlib inline\n",
    "import numpy as np \n",
    "import matplotlib.pyplot as plt\n",
    "from astropy.io import ascii\n",
    "from astropy.io import fits\n",
    "from astropy.wcs import WCS\n",
    "from astropy.table import Table\n",
    "from astropy import units as u\n",
    "#from google.colab import files\n",
    "plt.style.use('default')\n",
    "\n",
    "from pylab import *"
   ]
  },
  {
   "cell_type": "code",
   "execution_count": 3,
   "metadata": {
    "id": "sydhcqFGBamw"
   },
   "outputs": [],
   "source": [
    "# this is the data for students to use. Do not delete.\n",
    "l = np.asarray([10.,20.,30.,40.,50.,60.,70.,80.,90.]) # in degrees\n",
    "Vmax = np.asarray([150.,138.,120.,94.,73.,52.,33.,23.,17.]) # in km/s\n",
    "\n",
    "Rsun = 8.5 #kpc\n",
    "Vsun = 210  #km/s\n"
   ]
  },
  {
   "cell_type": "markdown",
   "metadata": {
    "id": "s7nZ4KQ4bRqb"
   },
   "source": [
    "\n",
    "Using these data, plot Vmax and V(R) as a function of R (R is on the x-axis). As usual, be sure to label your plot axes, units, etc."
   ]
  },
  {
   "cell_type": "code",
   "execution_count": null,
   "metadata": {},
   "outputs": [],
   "source": [
    "plt.scatter()"
   ]
  },
  {
   "cell_type": "markdown",
   "metadata": {
    "id": "wJZqtZtjBamx"
   },
   "source": [
    "## Problem 2 (8 pts total) - Galaxy Rotation as a function of Radius\n",
    "\n",
    "We now read in a much larger data-set of Galactic rotation, also from ESA-Haystack radio telescope (J. Koppen) from 24 March 2010, available here: https://portia.astrophysik.uni-kiel.de/~koeppen/Haystack/. These data are in the problem set folder in the file entitled: 'GalaxyRT.csv' Compare the small and large datasets and answer the questions below."
   ]
  },
  {
   "cell_type": "code",
   "execution_count": null,
   "metadata": {
    "colab": {
     "base_uri": "https://localhost:8080/"
    },
    "executionInfo": {
     "elapsed": 271,
     "status": "ok",
     "timestamp": 1613169131797,
     "user": {
      "displayName": "Cara Battersby",
      "photoUrl": "https://lh3.googleusercontent.com/a-/AOh14GjjbFXKCTXUgyh6J36IR0jiDmfim2-z8o6uzZli=s64",
      "userId": "16674567149460871520"
     },
     "user_tz": 300
    },
    "id": "QLlYLMElBamx",
    "outputId": "d0c3fec7-fb35-4ea9-f6a6-3a1011938627"
   },
   "outputs": [
    {
     "name": "stdout",
     "output_type": "stream",
     "text": [
      "       radius            velocity     \n",
      "------------------- ------------------\n",
      " 0.1358719916626714 201.87944430450872\n",
      "0.08881992417087403 178.96136482532793\n",
      " 0.1127600622826157 173.22421576795645\n",
      "0.08793688628970298 169.62323923194668\n",
      "0.15374485152225104 218.28219759353624\n",
      "0.14731396943666564 193.42630446997734\n",
      "0.11402209463566138 186.57020790141635\n",
      "0.16542490323479608 212.34668965918115\n",
      " 0.1404378169423719 207.01236170583792\n",
      " 0.2016583138098964  233.0492530662068\n",
      "                ...                ...\n",
      " 16.977040602840315  257.5114801108291\n",
      "  16.96453955675786   254.764972583364\n",
      " 16.964158638456176  250.7367615430819\n",
      " 16.963777720154496 246.70855050279977\n",
      " 16.963015883551133 238.65212842223556\n",
      "  16.98708876591952 234.31874987890177\n",
      "  16.96227136141603 230.77880684350237\n",
      " 16.994383928545663 225.16372478735155\n",
      " 16.985739886392352  220.0543488791149\n",
      " 16.961024719701435    217.59557071167\n",
      " 16.993130690843163  211.9107360833931\n",
      "Length = 212 rows\n"
     ]
    }
   ],
   "source": [
    "t = Table.read('GalaxyRT.csv', format='ascii.csv')\n",
    "print(t)\n"
   ]
  },
  {
   "cell_type": "markdown",
   "metadata": {
    "id": "NzPzq_SGa5Xz"
   },
   "source": [
    "### Problem 2a (3 pts): \n",
    "\n",
    "Plot V(R) as a function of R (x-axis) for both the small dataset (numbers in first code box) and the large dataset in the GalaxyRT.csv file. Do the two measures agree?"
   ]
  },
  {
   "cell_type": "code",
   "execution_count": null,
   "metadata": {
    "id": "ZLNU5gYfBamy"
   },
   "outputs": [],
   "source": [
    "# Your code"
   ]
  },
  {
   "cell_type": "markdown",
   "metadata": {
    "id": "iBg4-RvlbouI"
   },
   "source": [
    "**Answer:** Your answer"
   ]
  },
  {
   "cell_type": "markdown",
   "metadata": {
    "id": "nJlVHpCFBamz"
   },
   "source": [
    "### Problem 2b (1 pts): \n",
    "\n",
    "What is the average* rotation velocity of the Milky Way?\n",
    "\n",
    "*Consider a few different measures of the \"average\""
   ]
  },
  {
   "cell_type": "code",
   "execution_count": null,
   "metadata": {
    "id": "f0pxAChyBamz"
   },
   "outputs": [],
   "source": [
    "# Your code"
   ]
  },
  {
   "cell_type": "markdown",
   "metadata": {
    "id": "jXqPwWM1nAyf"
   },
   "source": [
    "**Answer:** Your answer"
   ]
  },
  {
   "cell_type": "markdown",
   "metadata": {
    "id": "4V24se73Bam0"
   },
   "source": [
    "\n",
    "### Problem 2c (1 pt): \n",
    "\n",
    "How do you calculate an enclosed mass from these data? \n",
    "\n",
    "By comparing the gravitational and centripetal forces of a point mass with velocity V(R) at radius R, calculate the enclosed mass as a function of Galactocentric Radius. (This is an analytic expression and should not require coding.)\n",
    "\n",
    "\n",
    "\n",
    "\n",
    "\n",
    "\n"
   ]
  },
  {
   "cell_type": "markdown",
   "metadata": {
    "id": "MsqVz3y0r1iz"
   },
   "source": [
    "**Answer:** Your answer"
   ]
  },
  {
   "cell_type": "markdown",
   "metadata": {
    "id": "J-DYFQUTr-lj"
   },
   "source": [
    "### Problem 2d (3 pts): \n",
    "\n",
    "What is the implied enclosed *mass* of the Milky Way?\n",
    "\n",
    "Estimate an approximate implied enclosed mass of the Milky Way using these data. "
   ]
  },
  {
   "cell_type": "code",
   "execution_count": null,
   "metadata": {
    "id": "2g-2prm8Bam0"
   },
   "outputs": [],
   "source": [
    "# Your code"
   ]
  },
  {
   "cell_type": "markdown",
   "metadata": {
    "id": "NRm-dTgywsta"
   },
   "source": [
    "**Answer:** Your answer\n"
   ]
  },
  {
   "cell_type": "markdown",
   "metadata": {
    "id": "9YxG-ocaBam0"
   },
   "source": [
    "## Problem 3 (9 pts total) - Globular Clusters"
   ]
  },
  {
   "cell_type": "markdown",
   "metadata": {
    "id": "LzNJbVJWBam0"
   },
   "source": [
    "Next we explore where the Milky Way's Globular Clusters and HII regions are on the sky. The positions of the Milky Way's Globular Clusters are in the Galaxy_GC.csv file and the HII regions are in the glimpseHII.csv file. \n",
    "\n",
    "We use the Globular Cluster data from here:\n",
    "https://heasarc.gsfc.nasa.gov/w3browse/all/globclust.html\n",
    "from Harris+ (1996) and the HII region data from GLIMPSE (Benjamin et al. 2003). (Refer to the heasarc website for more details on the GC table and units.)"
   ]
  },
  {
   "cell_type": "code",
   "execution_count": null,
   "metadata": {
    "colab": {
     "base_uri": "https://localhost:8080/"
    },
    "executionInfo": {
     "elapsed": 290,
     "status": "ok",
     "timestamp": 1613169155983,
     "user": {
      "displayName": "Cara Battersby",
      "photoUrl": "https://lh3.googleusercontent.com/a-/AOh14GjjbFXKCTXUgyh6J36IR0jiDmfim2-z8o6uzZli=s64",
      "userId": "16674567149460871520"
     },
     "user_tz": 300
    },
    "id": "HuUEc61SBam0",
    "outputId": "6cdbcd48-c36a-48bc-914e-37b72a3904f2"
   },
   "outputs": [
    {
     "name": "stdout",
     "output_type": "stream",
     "text": [
      "    ID     Name  RA1 RA2  RA3  Delta19 ...   b    R_Sun  R_gc   X     Y     Z  \n",
      "--------- ------ --- --- ----- ------- ... ------ ----- ----- ----- ----- -----\n",
      "  NGC 104 47 Tuc   0  24  5.67     -72 ... -44.89   4.5   7.4   1.9  -2.6  -3.1\n",
      "  NGC 288     --   0  52 45.24     -26 ... -89.38   8.9  12.0  -0.1   0.0  -8.9\n",
      "  NGC 362     --   1   3 14.26     -70 ... -46.25   8.6   9.4   3.1  -5.1  -6.2\n",
      "Whiting 1     --   2   2  57.0      -3 ... -60.76  30.1  34.5 -13.9   4.7 -26.3\n",
      " NGC 1261     --   3  12 16.21     -55 ... -52.12  16.3  18.1   0.1 -10.0 -12.9\n",
      "    Pal 1     --   3  33 20.04      79 ...  19.03  11.1  17.2  -6.8   8.1   3.6\n",
      "     AM 1    E 1   3  55   2.3     -49 ... -48.47 123.3 124.6 -16.5 -80.1 -92.3\n",
      " Eridanus     --   4  24  44.5     -21 ... -41.33  90.1  95.0 -53.2 -41.7 -59.5\n",
      "    Pal 2     --   4  46  5.91      31 ...  -9.07  27.2  35.0 -26.4   4.4  -4.3\n",
      " NGC 1851     --   5  14  6.76     -40 ... -35.03  12.1  16.6  -4.2  -8.9  -6.9\n",
      "      ...    ... ... ...   ...     ... ...    ...   ...   ...   ...   ...   ...\n",
      " NGC 6838   M 71  19  53 46.49      18 ...  -4.56   4.0   6.7   2.2   3.4  -0.3\n",
      " NGC 6864   M 75  20   6  4.69     -21 ... -25.75  20.9  14.7  17.6   6.5  -9.1\n",
      " NGC 6934     --  20  34 11.37       7 ... -18.89  15.6  12.8   9.1  11.7  -5.1\n",
      " NGC 6981   M 72  20  53  27.7     -12 ... -32.68  17.0  12.9  11.7   8.3  -9.2\n",
      " NGC 7006     --  21   1 29.38      16 ... -19.41  41.2  38.5  17.2  34.8 -13.7\n",
      " NGC 7078   M 15  21  29 58.33      12 ... -27.31  10.4  10.4   3.9   8.3  -4.8\n",
      " NGC 7089    M 2  21  33 27.02       0 ... -35.77  11.5  10.4   5.6   7.5  -6.7\n",
      " NGC 7099   M 30  21  40 22.12     -23 ... -46.84   8.1   7.1   4.9   2.5  -5.9\n",
      "   Pal 12     --  21  46 38.84     -21 ... -47.68  19.0  15.8  11.0   6.5 -14.1\n",
      "   Pal 13     --  23   6 44.44      12 ...  -42.7  26.0  26.9   1.0  19.1 -17.6\n",
      " NGC 7492     --  23   8 26.63     -15 ... -63.48  26.3  25.3   7.0   9.4 -23.5\n",
      "Length = 157 rows\n"
     ]
    }
   ],
   "source": [
    "GC = Table.read('Galaxy_GC.csv', format='ascii.csv')\n",
    "print(GC)"
   ]
  },
  {
   "cell_type": "markdown",
   "metadata": {
    "id": "kRBOMTm5Bam1"
   },
   "source": [
    "### Problem 3a (2 pts): \n",
    "\n",
    "Plot the positions of the Milky Way Globular Clusters in Galactic coordinates (l,b). \n",
    "\n",
    "Be sure to include plot labels, units, and a legend.\n",
    "\n",
    "Bonus awesome points if you put the Galactic Center in the middle of the plot where it belongs and have the axes be equal (so that 1 deg in l is the same physical step on the plot as 1 deg in b)."
   ]
  },
  {
   "cell_type": "code",
   "execution_count": null,
   "metadata": {
    "id": "c02KtM6I_E3k"
   },
   "outputs": [],
   "source": [
    "# Your code"
   ]
  },
  {
   "cell_type": "markdown",
   "metadata": {
    "id": "IOXoIX13Bam2"
   },
   "source": [
    "### Problem 3b (2 pts): \n",
    "\n",
    "Now add HII regions of the Milky Way to the Globular Cluster plot in Galactic Coordinates\n",
    "\n",
    "Be sure to include plot labels, units, and a legend.\n",
    "\n",
    "Again, bonus awesome points if you put the Galactic Center in the middle of the plot where it belongs and have the axes be equal (so that 1 deg in l is the same physical step on the plot as 1 deg in b). \n",
    "\n"
   ]
  },
  {
   "cell_type": "code",
   "execution_count": null,
   "metadata": {
    "colab": {
     "base_uri": "https://localhost:8080/"
    },
    "executionInfo": {
     "elapsed": 227,
     "status": "ok",
     "timestamp": 1613170261590,
     "user": {
      "displayName": "Cara Battersby",
      "photoUrl": "https://lh3.googleusercontent.com/a-/AOh14GjjbFXKCTXUgyh6J36IR0jiDmfim2-z8o6uzZli=s64",
      "userId": "16674567149460871520"
     },
     "user_tz": 300
    },
    "id": "2Aub71rZBam2",
    "outputId": "3d082b2b-d650-4346-f279-fefde52c6cb5"
   },
   "outputs": [
    {
     "name": "stdout",
     "output_type": "stream",
     "text": [
      "      HII region        l    b   # of refs\n",
      "--------------------- ----- ---- ---------\n",
      " [L89b] 10.073-00.412  10.1 -0.4         1\n",
      "[LPH96] 010.068-0.176  10.1 -0.2         1\n",
      "   [WBH98] 18021-1950  10.1  0.8         2\n",
      "   [WC89] 010.10+0.74  10.1  0.7         2\n",
      "     GAL 010.10+00.74  10.1  0.7         3\n",
      "     GAL 010.15-00.34  10.1 -0.3        19\n",
      "  [WC89] 010.15-0.34B  10.1 -0.3         1\n",
      "   [WMG70] 010.2-00.3  10.1 -0.3         1\n",
      "   [WBH98] 18064-2020  10.2 -0.3         2\n",
      "       GAL 010.2-00.3  10.2 -0.3         5\n",
      "                  ...   ...  ...       ...\n",
      "   [WMG70] 348.7+00.3 348.7  0.3         0\n",
      "   [WBH98] 17136-3816 348.9 -0.2         2\n",
      "   [WBH98] 17130-3756 349.1  0.1         2\n",
      "     [C72] G349.1+0.1 349.1  0.1         1\n",
      "               SH 2-5 349.1 -0.8         1\n",
      " [CH87] 349.140+0.020 349.1  0.0         1\n",
      "               GUM 59 349.2 -0.6         0\n",
      "    GRS 349.80 -00.50 349.5 -0.8         2\n",
      "      IRAS 17147-3725 349.7  0.1         3\n",
      " [CH87] 349.840-0.537 349.8 -0.5         1\n",
      "    GRS 350.10 +00.10 350.0  0.2         0\n",
      "Length = 1194 rows\n"
     ]
    }
   ],
   "source": [
    "HII = Table.read('glimpseHII.csv', format='ascii.csv')\n",
    "print(HII)\n"
   ]
  },
  {
   "cell_type": "code",
   "execution_count": null,
   "metadata": {
    "id": "50IFzfif9KJa"
   },
   "outputs": [],
   "source": [
    "# Your code"
   ]
  },
  {
   "cell_type": "markdown",
   "metadata": {
    "id": "RKJTO-tmP2Vp"
   },
   "source": [
    "### Problem 3c (2 pts): \n",
    "\n",
    "Now make two plots: 1) plot the full Globular Cluster data in 3-D Euclidean space (x,y,z) (see below for simple example) and 2) zoom in on the Globular Cluster data in the inner 30 kpc of the Galactic Center in 3-D XYZ space again.\n",
    "\n",
    "\n",
    "\n",
    "```\n",
    "fig = plt.figure()\n",
    "ax = fig.add_subplot(111, projection='3d')\n",
    "ax.scatter(x,y,z, c='blue', marker='o', alpha=0.5)\n",
    "```\n",
    "\n"
   ]
  },
  {
   "cell_type": "code",
   "execution_count": null,
   "metadata": {
    "id": "ANvg5-QPQgsw"
   },
   "outputs": [],
   "source": [
    "# Your code"
   ]
  },
  {
   "cell_type": "markdown",
   "metadata": {
    "id": "The_XhQ-aVpT"
   },
   "source": [
    "### Problem 3d (2 pts): \n",
    "\n",
    "Now plot the full Globular Cluster data in the Galactocentric Radius and Z plane. Overplot on top of it the total star population as described in equation 2.35 from the Schneider textbook (chapter 2)."
   ]
  },
  {
   "cell_type": "code",
   "execution_count": null,
   "metadata": {
    "id": "11wsbgCxNrSj"
   },
   "outputs": [],
   "source": [
    "# Your code"
   ]
  },
  {
   "cell_type": "markdown",
   "metadata": {
    "id": "5lClJ8keR3xS"
   },
   "source": [
    "### Problem 3e (1pt): \n",
    "What are your impressions of seeing these data of globular clusters in our Galaxy in different ways?\n",
    "\n",
    "**Answer:** Your answer\n"
   ]
  },
  {
   "cell_type": "code",
   "execution_count": null,
   "metadata": {
    "id": "_RZtyvkocalz"
   },
   "outputs": [],
   "source": []
  }
 ],
 "metadata": {
  "colab": {
   "provenance": []
  },
  "kernelspec": {
   "display_name": "Python 3",
   "language": "python",
   "name": "python3"
  },
  "language_info": {
   "codemirror_mode": {
    "name": "ipython",
    "version": 3
   },
   "file_extension": ".py",
   "mimetype": "text/x-python",
   "name": "python",
   "nbconvert_exporter": "python",
   "pygments_lexer": "ipython3",
   "version": "3.9.6"
  }
 },
 "nbformat": 4,
 "nbformat_minor": 1
}
