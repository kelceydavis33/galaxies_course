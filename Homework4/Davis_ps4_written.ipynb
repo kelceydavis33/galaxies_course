{
 "cells": [
  {
   "cell_type": "markdown",
   "id": "f61d7387",
   "metadata": {},
   "source": [
    "# Homework 4 written portion\n",
    "\n",
    "Kelcey Davis\n",
    "\n",
    "Colaborators:\n",
    "\n",
    "Time to complete:"
   ]
  },
  {
   "cell_type": "code",
   "execution_count": 1,
   "id": "4298f017",
   "metadata": {},
   "outputs": [],
   "source": [
    "import astropy.units as u\n",
    "import astropy.constants as c\n",
    "from astropy.coordinates import SkyCoord\n",
    "from astropy.time import Time\n",
    "import numpy as np\n",
    "import matplotlib.pyplot as plt\n",
    "import pandas as pd\n",
    "import glob\n",
    "%matplotlib inline"
   ]
  },
  {
   "cell_type": "code",
   "execution_count": 2,
   "id": "d2f9672d",
   "metadata": {},
   "outputs": [],
   "source": [
    "plt.rcParams['figure.figsize'] = (10, 10)\n",
    "plt.rc('axes', labelsize=14)\n",
    "plt.rc('axes', labelweight='bold')\n",
    "plt.rc('axes', titlesize=16)\n",
    "plt.rc('axes', titleweight='bold')\n",
    "plt.rc('font', family='sans-serif')"
   ]
  },
  {
   "cell_type": "markdown",
   "id": "743ff451",
   "metadata": {},
   "source": [
    "# Problem 1\n",
    "\n",
    "\n",
    "Dynamic is our Galaxy. In this problem, we’ll explore how the components of the\n",
    "Milky Way rotate, and see how much dark matter is needed to match the observations.\n",
    "\n",
    "a. (4 pts) Consider the Galactic disk to have an a stellar mass surface density:\n",
    "\n",
    "$\\Sigma(r) = \\Sigma_0 e^{-r/h}$\n",
    "\n",
    "where Σ(rq) is the mass surface density (in units of Md kpc ́2), Σ0 is the central mass surface density, and h is the radial disk scale length (assume h=3.5 kpc for this problem).\n",
    "\n",
    "i) 3 pts Write down an expression for the total stellar mass in the disk as a function of radius:\n",
    "Mprq. This will involve an integral in 2-dimensional polar coordinates (since we’re looking at a\n",
    "mass surface density, we’ve effectively collapsed the galaxy in the z-direction, and so can disregard\n",
    "that here). You can solve numerically or use an integral table if you want, but please give the final\n",
    "analytic expression. As a reminder:\n",
    "\n",
    "ż ż dA “\n",
    "ż 2π\n",
    "0\n",
    "ż r\n",
    "0\n",
    "rdrdθ (2)\n",
    "ii) 1 pt Solve for the normalization Σ0 which gives the total disk mass of the Milky Way (assume\n",
    "this to be 6 ˆ 1010 Md and Rdisk “ 25 kpc). Answer in units of Md/kpc2"
   ]
  },
  {
   "cell_type": "markdown",
   "id": "7c14c103",
   "metadata": {},
   "source": [
    "**answer**\n",
    "\n",
    "i)\n",
    "\n",
    "$M(r) = ???$\n",
    "\n",
    "density(r) = mass(r)/volume(r) \n",
    "\n",
    "$M(r) = \\Sigma(r) V(r)$\n",
    "\n",
    "and by using a volume integral we inherently use the volume term, so we can just integrate the density."
   ]
  },
  {
   "cell_type": "markdown",
   "id": "9efc0eb1",
   "metadata": {},
   "source": [
    "\n",
    "$\\int \\int  \\Sigma_0 e^{-r/h} dA $\n",
    "\n",
    "$\\int_0^{2 \\pi} \\int_0^r \\Sigma_0 e^{-r/h} r dr d\\theta$"
   ]
  },
  {
   "cell_type": "markdown",
   "id": "23282aeb",
   "metadata": {},
   "source": [
    " $ M(r) = 2 \\pi \\Sigma_0 \\int_0^r  e^{-r/h} r dr$"
   ]
  },
  {
   "cell_type": "markdown",
   "id": "59ac7f3a",
   "metadata": {},
   "source": [
    "from wolfram alpha,\n",
    "\n",
    "$\\int_0^r  e^{-r/h} r dr = h(h - e^{-r/h}(h+r))$"
   ]
  },
  {
   "cell_type": "markdown",
   "id": "c577bb5b",
   "metadata": {},
   "source": [
    "$M(r) =  2 \\pi \\Sigma_0 h(h - e^{-r/h}(h+r))$"
   ]
  },
  {
   "cell_type": "markdown",
   "id": "0753b434",
   "metadata": {},
   "source": [
    "ii)\n",
    "\n",
    "let h = 3.5 kpc\n",
    "\n",
    "M(R) = 6e10 [Msun]\n",
    "\n",
    "R = 25 kpc\n",
    "\n",
    "$\\frac{M(r)}{2 \\pi h(h - e^{-r/h}(h+r))} =   \\Sigma_0$"
   ]
  },
  {
   "cell_type": "code",
   "execution_count": 14,
   "id": "be9b6168",
   "metadata": {},
   "outputs": [
    {
     "name": "stdout",
     "output_type": "stream",
     "text": [
      "The normalized  Σ0 is 7.85e+08 [M0/kpc^2]. \n"
     ]
    }
   ],
   "source": [
    "h = 3.5\n",
    "R = 25\n",
    "M = 6e10\n",
    "sig0 = M/(2*np.pi*h*(h-np.e**(-R/h)*(h+R)))\n",
    "print(f'The normalized  Σ0 is {sig0:.2e} [M0/kpc^2]. ')"
   ]
  },
  {
   "cell_type": "markdown",
   "id": "3c55c46f",
   "metadata": {},
   "source": [
    "b. Now we will explore what the rotation curve for such a disk looks like.\n",
    "\n",
    "i) 1 pt Assuming that all objects in the disk have purely circular orbits, derive an expression for\n",
    "the rotational velocity as a function of the distance from the center of the disk (e.g., the radius).\n",
    "Give the expression in terms of Mprq. Take this expression and plug in your expression from part\n",
    "a) for Mprq.\n"
   ]
  },
  {
   "cell_type": "markdown",
   "id": "568ea226",
   "metadata": {},
   "source": [
    "We can set the forces equal to each other to solve this problem.\n",
    "\n",
    "The force due to gravity is:\n",
    "\n",
    "$F = \\frac{GMm}{r^2} = \\frac{GM(r)M_*}{r^2}$\n",
    "\n",
    "where $M_*$ is the mass of the star."
   ]
  },
  {
   "cell_type": "markdown",
   "id": "63e3168c",
   "metadata": {},
   "source": [
    "This balances the centripetal force:\n",
    "\n",
    "$F = \\frac{m v^2}{r} = \\frac{M_* v^2}{r}$\n",
    "\n",
    "Setting these equal:\n",
    "\n",
    "$\\frac{GM(r)M_*}{r^2} = \\frac{M_* v^2}{r}$"
   ]
  },
  {
   "cell_type": "markdown",
   "id": "b849e2e4",
   "metadata": {},
   "source": [
    "$v = \\sqrt{\\frac{GM(r)}{r}}$"
   ]
  },
  {
   "cell_type": "markdown",
   "id": "88daa85a",
   "metadata": {},
   "source": [
    "$v = \\sqrt{\\frac{G}{r} 2 \\pi \\Sigma_0 h(h - e^{-r/h}(h+r))} $"
   ]
  },
  {
   "cell_type": "markdown",
   "id": "e5a4411e",
   "metadata": {},
   "source": [
    "ii) 1 pt What are the units of this expression? Derive the conversion factor you need to include to\n",
    "ensure that the units of velocity are in km/s, but leaving quantities in earlier defined units (e.g.,\n",
    "Md/kpc2\n",
    ", cgs units for G, r in kpc, etc). Show your work, and list your final equation for V prq\n",
    "[km/s].\n"
   ]
  },
  {
   "cell_type": "markdown",
   "id": "4e39d2fe",
   "metadata": {},
   "source": [
    "The units for our mass were $[M_0]$ (stellar mass), the units of radius were kpc.This becomes:"
   ]
  },
  {
   "cell_type": "code",
   "execution_count": 41,
   "id": "07632c79",
   "metadata": {},
   "outputs": [
    {
     "data": {
      "text/latex": [
       "$\\mathrm{\\frac{M_{\\odot}^{1/2}}{kpc^{1/2}}}$"
      ],
      "text/plain": [
       "Unit(\"solMass(1/2) / kpc(1/2)\")"
      ]
     },
     "execution_count": 41,
     "metadata": {},
     "output_type": "execute_result"
    }
   ],
   "source": [
    "unt = (u.M_sun/u.kpc)**(1/2)\n",
    "unt"
   ]
  },
  {
   "cell_type": "markdown",
   "id": "c263dbc4",
   "metadata": {},
   "source": [
    "Which decomposes to km/s."
   ]
  },
  {
   "cell_type": "markdown",
   "id": "8352ea41",
   "metadata": {},
   "source": [
    "just using dimensional analysis:\n",
    "\n",
    "$\\frac{M_0^{1/2}}{kpc^{1/2} } * (1.989e30 \\frac{kg}{M_0})^{1/2}* (3.086e21\\frac{kpc}{cm})^{1/2}$"
   ]
  },
  {
   "cell_type": "code",
   "execution_count": 71,
   "id": "087cf4fb",
   "metadata": {},
   "outputs": [
    {
     "name": "stdout",
     "output_type": "stream",
     "text": [
      "The scale factor is 7.8e+25\n"
     ]
    }
   ],
   "source": [
    "scale = (1.989e30**(1/2))*(3.086e21**(1/2))\n",
    "print(f'The scale factor is {scale:.1e}')"
   ]
  },
  {
   "cell_type": "markdown",
   "id": "3256b3a2",
   "metadata": {},
   "source": [
    "iii) 3 pts Plot the rotation velocity of your disk as a function of radius out to 50 kpc. You can do\n",
    "this in the google colab notebook I shared with you or on your own. If you do it colab, just share\n",
    "the completed notebook with me, if on your own, just create a PDF of your figures and code to\n",
    "share with me.\n"
   ]
  },
  {
   "cell_type": "markdown",
   "id": "9b2485ee",
   "metadata": {},
   "source": [
    "$v = \\sqrt{\\frac{G}{r} 2 \\pi \\Sigma_0 h(h - e^{-r/h}(h+r))} $"
   ]
  },
  {
   "cell_type": "code",
   "execution_count": 80,
   "id": "4563e8a0",
   "metadata": {},
   "outputs": [
    {
     "name": "stderr",
     "output_type": "stream",
     "text": [
      "/home/kelcey/anaconda3/envs/hera/lib/python3.9/site-packages/astropy/units/quantity.py:611: RuntimeWarning: divide by zero encountered in divide\n",
      "  result = super().__array_ufunc__(function, method, *arrays, **kwargs)\n",
      "/home/kelcey/anaconda3/envs/hera/lib/python3.9/site-packages/astropy/units/quantity.py:611: RuntimeWarning: invalid value encountered in multiply\n",
      "  result = super().__array_ufunc__(function, method, *arrays, **kwargs)\n"
     ]
    }
   ],
   "source": [
    "G = c.G.decompose(bases=u.cgs.bases)\n",
    "rvals = np.arange(0,50,.1)\n",
    "v = np.sqrt((G/rvals)*2*np.pi*sig0*h*(h-np.e**(-rvals/h)*(h+rvals)))"
   ]
  },
  {
   "cell_type": "code",
   "execution_count": 81,
   "id": "6f6575bb",
   "metadata": {},
   "outputs": [
    {
     "data": {
      "image/png": "[encoded data removed]",
      "text/plain": [
       "<Figure size 720x360 with 1 Axes>"
      ]
     },
     "metadata": {
      "needs_background": "light"
     },
     "output_type": "display_data"
    }
   ],
   "source": [
    "plt.rcParams['figure.figsize'] = (10, 5)\n",
    "plt.plot(rvals,v)\n",
    "plt.ylabel('Velocity [km/s]')\n",
    "plt.xlabel('Radius [kpc]')\n",
    "plt.title('Velocity as a function of radius');"
   ]
  },
  {
   "cell_type": "markdown",
   "id": "517fa1bf",
   "metadata": {},
   "source": [
    "iv) 1 pt What is the rotation velocity from your model of the disk at the Galactocentric radius (8\n",
    "kpc), and how does it compare to the Sun’s known rotational velocity of 220 km/s? How can we\n",
    "explain the difference?"
   ]
  },
  {
   "cell_type": "code",
   "execution_count": 87,
   "id": "1d799d97",
   "metadata": {},
   "outputs": [
    {
     "name": "stdout",
     "output_type": "stream",
     "text": [
      "We are off by about an order of magnitude. The velocity is 1.83e+01 [km/s].\n"
     ]
    }
   ],
   "source": [
    "rvals = 8\n",
    "v = np.sqrt((G/rvals)*2*np.pi*sig0*h*(h-np.e**(-rvals/h)*(h+rvals)))\n",
    "print(f'We are off by about an order of magnitude. The velocity is {v.value:.2e} [km/s].')"
   ]
  },
  {
   "cell_type": "markdown",
   "id": "c8b15f61",
   "metadata": {},
   "source": [
    "c. In part b, you derived that there must be some kind of “dark matter” which is\n",
    "permeating the Milky Way disk, and increasing the rotational velocities of stars over what\n",
    "they should be when only considering the mass of the disk (awesome job!). In this part of the\n",
    "problem, we will consider how much dark matter we need to include.\n",
    "\n",
    "i) 1 pt Write down an expression for the dark matter density ρprq in terms of the radius r and\n",
    "critical radius rc we used in PS3 (Question 2b). Write down the enclosed mass of dark matter at\n",
    "given radius r that you derived in PS3 (Question 2b).\n",
    "\n",
    "$\\rho(r) = \\frac{\\rho_0}{1+[\\frac{r}{a}]^2}$\n",
    "\n",
    "the enclosed mass of dark matter at a radius r is given by:\n",
    "\n",
    "$M_r = 4 \\pi \\rho_0 a^2 [r-atan^{-1}(\\frac{r}{a})]$\n",
    "\n",
    "and we derived:\n",
    "\n",
    "$M_{encl} = 4 \\pi \\rho_0 a^2[r - a tan^{-1}(\\frac{r}{a})]$\n"
   ]
  },
  {
   "cell_type": "markdown",
   "id": "ed86df44",
   "metadata": {},
   "source": [
    "ii) 1 pt Using the expression for V prq you derived in part b, derive an expression for the rotational\n",
    "velocity V prq for this dark matter halo mass distribution (for the halo only, ignore the disk for\n",
    "now). Be sure to check your units. This should still be in terms of ρ0 and rc."
   ]
  },
  {
   "cell_type": "markdown",
   "id": "d1f8edab",
   "metadata": {},
   "source": [
    "from b:\n",
    "    \n",
    "$v = \\sqrt{\\frac{G}{r} 2 \\pi \\Sigma_0 h(h - e^{-r/h}(h+r))} $\n",
    "\n"
   ]
  },
  {
   "cell_type": "markdown",
   "id": "c3e37072",
   "metadata": {},
   "source": [
    "$v = \\sqrt{\\frac{GM}{r}}$\n",
    "\n",
    "$v = \\sqrt{\\frac{G  4 \\pi \\rho_0 a^2 [r-atan^{-1}(\\frac{r}{a})]}{r}}$"
   ]
  },
  {
   "cell_type": "markdown",
   "id": "f6a65fe1",
   "metadata": {},
   "source": [
    "iii) 3 pts Now, I will give you that rc = 1.28 kpc and ρ0 = 7.1 ˆ108 Md kpc ́2\n",
    "\n",
    ". Plot the rotation\n",
    "\n",
    "velocity of your halo as a function of radius out to 50 kpc."
   ]
  },
  {
   "cell_type": "markdown",
   "id": "2159ba5a",
   "metadata": {},
   "source": [
    "d."
   ]
  },
  {
   "cell_type": "markdown",
   "id": "054a1acc",
   "metadata": {},
   "source": [
    "Now we can put both the disk and the halo together to explore the full rotation curve\n",
    "of our galaxy.\n",
    "\n",
    "i) 1 pt Use the definition for circular velocity (e.g., what we showed in question b part i) for each\n",
    "component to show that you can combine them as: v\n",
    "2\n",
    "tot “ v\n",
    "2\n",
    "disk ` v\n",
    "2\n",
    "halo.\n",
    "\n",
    "\n",
    "$v_{tot}^2 =  {\\frac{G}{r} 2 \\pi \\Sigma_0 h(h - e^{-r/h}(h+r))} + {\\frac{G  4 \\pi \\rho_0 a^2 [r-atan^{-1}(\\frac{r}{a})]}{r}}$"
   ]
  },
  {
   "cell_type": "code",
   "execution_count": 110,
   "id": "65bf35df",
   "metadata": {},
   "outputs": [
    {
     "name": "stderr",
     "output_type": "stream",
     "text": [
      "/home/kelcey/anaconda3/envs/hera/lib/python3.9/site-packages/astropy/units/quantity.py:611: RuntimeWarning: invalid value encountered in divide\n",
      "  result = super().__array_ufunc__(function, method, *arrays, **kwargs)\n"
     ]
    },
    {
     "data": {
      "image/png": "[encoded data removed]",
      "text/plain": [
       "<Figure size 720x360 with 1 Axes>"
      ]
     },
     "metadata": {
      "needs_background": "light"
     },
     "output_type": "display_data"
    }
   ],
   "source": [
    "G = c.G.decompose(bases=u.cgs.bases)\n",
    "rvals = np.arange(0,50,.1)\n",
    "p0 = 7.1e8\n",
    "a = 1\n",
    "v = np.sqrt((G*np.pi*p0*(a**2)*(rvals - a*np.arctan(rvals/a)))/(rvals))\n",
    "plt.rcParams['figure.figsize'] = (10, 5)\n",
    "plt.plot(rvals,v)\n",
    "plt.ylabel('Velocity [km/s]')\n",
    "plt.xlabel('Radius [kpc]')\n",
    "plt.title('Velocity as a function of radius for Dark Matter');"
   ]
  },
  {
   "cell_type": "markdown",
   "id": "a16ff64d",
   "metadata": {},
   "source": [
    "ii) 2 pts Combine your disk and halo rotation curves in this way to calculate the total rotational\n",
    "velocity, and plot the total versus radius, out to r=50 kpc. Please also overplot the curve for the\n",
    "individual components, in a different color or line style, and be sure to provide a legend to explain\n",
    "the curves.\n",
    "\n"
   ]
  },
  {
   "cell_type": "code",
   "execution_count": 101,
   "id": "7883a197",
   "metadata": {},
   "outputs": [
    {
     "name": "stderr",
     "output_type": "stream",
     "text": [
      "/home/kelcey/anaconda3/envs/hera/lib/python3.9/site-packages/astropy/units/quantity.py:611: RuntimeWarning: divide by zero encountered in divide\n",
      "  result = super().__array_ufunc__(function, method, *arrays, **kwargs)\n",
      "/home/kelcey/anaconda3/envs/hera/lib/python3.9/site-packages/astropy/units/quantity.py:611: RuntimeWarning: invalid value encountered in multiply\n",
      "  result = super().__array_ufunc__(function, method, *arrays, **kwargs)\n",
      "/home/kelcey/anaconda3/envs/hera/lib/python3.9/site-packages/astropy/units/quantity.py:611: RuntimeWarning: invalid value encountered in divide\n",
      "  result = super().__array_ufunc__(function, method, *arrays, **kwargs)\n"
     ]
    },
    {
     "data": {
      "image/png": "[encoded data removed]",
      "text/plain": [
       "<Figure size 720x360 with 1 Axes>"
      ]
     },
     "metadata": {
      "needs_background": "light"
     },
     "output_type": "display_data"
    }
   ],
   "source": [
    "G = c.G.decompose(bases=u.cgs.bases)\n",
    "rvals = np.arange(0,50,.1)\n",
    "v1 = ((G/rvals)*2*np.pi*sig0*h*(h-np.e**(-rvals/h)*(h+rvals)))\n",
    "\n",
    "p0 = 7.1e8\n",
    "a = 1\n",
    "v2 = ((G*np.pi*p0*(a**2)*(rvals - a*np.arctan(rvals/a)))/(rvals))\n",
    "\n",
    "v = np.sqrt(v1+v2)\n",
    "plt.rcParams['figure.figsize'] = (10, 5)\n",
    "plt.plot(rvals,v, label = 'Totoal V')\n",
    "plt.plot(rvals, np.sqrt(v1), label = 'Disk v')\n",
    "plt.plot(rvals, np.sqrt(v2), label = 'Dark matter v')\n",
    "plt.ylabel('Velocity [km/s]')\n",
    "plt.xlabel('Radius [kpc]')\n",
    "plt.title('Velocity as a function of radius for Dark Matter')\n",
    "plt.legend();"
   ]
  },
  {
   "cell_type": "markdown",
   "id": "8ff67200",
   "metadata": {},
   "source": [
    "iii) 1 pt What is the ratio of the velocity contributed by the dark matter halo to that by the stellar\n",
    "disk at the Galactocentric radius (R0 “8 kpc)?\n",
    "\n"
   ]
  },
  {
   "cell_type": "code",
   "execution_count": 109,
   "id": "620603cf",
   "metadata": {},
   "outputs": [
    {
     "name": "stdout",
     "output_type": "stream",
     "text": [
      "The ratio is 2.75.\n"
     ]
    }
   ],
   "source": [
    "G = c.G.decompose(bases=u.cgs.bases)\n",
    "rvals = 8\n",
    "v1 = ((G/rvals)*2*np.pi*sig0*h*(h-np.e**(-rvals/h)*(h+rvals)))\n",
    "\n",
    "p0 = 7.1e8\n",
    "a = 1\n",
    "v2 = ((G*np.pi*p0*(a**2)*(rvals - a*np.arctan(rvals/a)))/(rvals))\n",
    "print(f'The ratio is {round(v1.value/v2.value,2)}.')"
   ]
  },
  {
   "cell_type": "markdown",
   "id": "ca8bbfc5",
   "metadata": {},
   "source": [
    "iv) 1 pt Is the galaxy rotation curve ever dominated by the disk component? If so, where? To\n",
    "illustrate your answer, make another plot of the three rotation curves (disk, halo and total), with\n",
    "the x-axis plotted in log.\n",
    "\n",
    "Yes. It seems to be dominated closer to the center, and gives way to dark matter somewhere around r>25ish."
   ]
  },
  {
   "cell_type": "markdown",
   "id": "291b5310",
   "metadata": {},
   "source": [
    "(e) (1 pt) Using your expression from part c, calculate the total mass of the dark matter halo out\n",
    "to 50 kpc. What is the ratio of the stellar mass of the disk to the dark matter halo mass?"
   ]
  },
  {
   "cell_type": "markdown",
   "id": "4ce26782",
   "metadata": {},
   "source": [
    "$v = \\sqrt{\\frac{G  4 \\pi \\rho_0 a^2 [r-atan^{-1}(\\frac{r}{a})]}{r}}$"
   ]
  },
  {
   "cell_type": "markdown",
   "id": "a5f7043e",
   "metadata": {},
   "source": [
    "$M_r = 4 \\pi \\rho_0 a^2 [r-atan^{-1}(\\frac{r}{a})]$"
   ]
  },
  {
   "cell_type": "code",
   "execution_count": 115,
   "id": "fb3797f0",
   "metadata": {},
   "outputs": [
    {
     "name": "stdout",
     "output_type": "stream",
     "text": [
      "The total mass is 4.32e+11 kg.\n"
     ]
    }
   ],
   "source": [
    "p0 = 7.1e8\n",
    "a = 1\n",
    "r = 50\n",
    "m = 4*np.pi*p0*(a**2)*(r - a*np.arctan(r/a))\n",
    "print(f'The total mass is {m:.2e} kg.')"
   ]
  },
  {
   "cell_type": "code",
   "execution_count": 117,
   "id": "539a39ac",
   "metadata": {},
   "outputs": [
    {
     "name": "stdout",
     "output_type": "stream",
     "text": [
      "The ratio to stellar mass is 7.2.\n"
     ]
    }
   ],
   "source": [
    "# For stellar mass,\n",
    "ratio = m/6e10\n",
    "print(f'The ratio to stellar mass is {round(ratio,2)}.')"
   ]
  },
  {
   "cell_type": "markdown",
   "id": "b021c343",
   "metadata": {},
   "source": [
    "(f) (1 pt) We have ignored the bulge and the stellar halo in this problem, predominantly because\n",
    "the integrals are less trivial to solve. Where do you think the lack of these components matters\n",
    "the most?"
   ]
  },
  {
   "cell_type": "markdown",
   "id": "d8281a67",
   "metadata": {},
   "source": [
    "This matters most near the center of the galaxies and away from the galactic plane."
   ]
  },
  {
   "cell_type": "markdown",
   "id": "dc6733b1",
   "metadata": {},
   "source": [
    "# Probelm 2\n",
    "\n",
    "On coding section"
   ]
  },
  {
   "cell_type": "markdown",
   "id": "a693856d",
   "metadata": {},
   "source": [
    "# Problem 3 \n",
    "\n",
    "\n",
    "In class, we derived the Jean’s Mass for a forming protostar, by finding the critical mass\n",
    "where the gravitational potential of a spherical cloud is greater than its thermal energy. Please\n",
    "re-derive the Jean’s mass for the two cases described below. For each case, calculate a Jean’s\n",
    "mass in Md and compare with that using the standard assumptions (spherical cloud of uniform\n",
    "density balanced by isothermal gas pressure). Calculate the Jean’s mass in Md for a cloud with a\n",
    "temperature, T “ 10 K and gas number density, n “ 2 ˆ 105\n",
    "cm ́3\n",
    "(you will need to convert to a\n",
    "\n",
    "mass density). 1 Please give masses in Md.\n",
    "(a) (8 pts) a sphere with a density distribution given by nprq “ nf p\n",
    "r\n",
    "rf\n",
    "q\n",
    " ́p where p=1.8, rf “ 1000\n",
    "\n",
    "AU and nf “ 107\n",
    "cm ́3\n",
    ", dominated by thermal pressure (as in the standard case)."
   ]
  },
  {
   "cell_type": "markdown",
   "id": "220fca8b",
   "metadata": {},
   "source": [
    "**answer**\n",
    "\n",
    "a. \n",
    "\n",
    "$n(r) = n_f (\\frac{r}{r_f})^{-p}$\n",
    "\n",
    "n = 2e5 cm^-3 (convert)\n",
    "\n",
    "T = 10k\n",
    "\n",
    "p = 1.8\n",
    "\n",
    "$r_f$ = 1000 AU\n",
    "\n",
    "$n_f$ = 10^7cm^-3\n",
    "\n",
    "we have the internal energy from class:\n",
    "\n",
    "$E = \\frac{3}{2} N k_B T$\n",
    "\n",
    "We need to derive our own expression for U.\n",
    "\n",
    "we know \n",
    "\n",
    "$\\rho(r) = n(r) M(r)$"
   ]
  },
  {
   "cell_type": "markdown",
   "id": "816bb093",
   "metadata": {},
   "source": [
    "Previously, we could use:\n",
    "\n",
    "$U = \\frac{3}{5}\\frac{GM^2}{R}$\n",
    "\n",
    "but now M(r) is not uniform? I'll find it by integrating the density distribution function:\n",
    "\n",
    "$M(r) = 4π  \\int_0^r n(r)  r^2 dr$\n",
    "\n",
    "$M(r) = 4π  \\int_0^r n_f (\\frac{r}{r_f})^{-p}  r^2 dr$"
   ]
  },
  {
   "cell_type": "markdown",
   "id": "c65c10b7",
   "metadata": {},
   "source": [
    "$M(r) = 4π \\frac{n_f}{r_f^{-p}} \\int_0^r ({r})^{-p}  r^2 dr$\n",
    "\n",
    "$M(r) = 4π \\frac{n_f}{r_f^{-p}} \\int_0^r {r}^{2-p}  dr$"
   ]
  },
  {
   "cell_type": "markdown",
   "id": "3b1e82a9",
   "metadata": {},
   "source": [
    "calling on wolfram alpha to get us through this integral:\n",
    "\n",
    "$M(r) = 4π \\frac{n_f}{r_f^{-p}} \\frac{-r^{3-p}}{p-3}$"
   ]
  },
  {
   "cell_type": "markdown",
   "id": "310a2885",
   "metadata": {},
   "source": [
    "$U = \\frac{3}{5}\\frac{G}{R}[4π \\frac{n_f}{r_f^{-p}} \\frac{-r^{3-p}}{p-3}]^2$"
   ]
  },
  {
   "cell_type": "markdown",
   "id": "466b2ce5",
   "metadata": {},
   "source": [
    "$U > \\frac{3}{2} NkT$\n",
    "\n",
    "\n",
    "$\\frac{3}{5}\\frac{G}{R}[4π \\frac{n_f}{r_f^{-p}} \\frac{-r^{3-p}}{p-3}]^2 > \\frac{3}{2} kT \\frac{M}{\\mu m_H}$"
   ]
  },
  {
   "cell_type": "markdown",
   "id": "950a84af",
   "metadata": {},
   "source": [
    "$M < \\frac{3*2}{5*3}\\frac{G}{R}[4π \\frac{n_f}{r_f^{-p}} \\frac{-r^{3-p}}{p-3}]^2 \\frac{\\mu m_H}{kT}$"
   ]
  },
  {
   "cell_type": "markdown",
   "id": "906d5b5e",
   "metadata": {},
   "source": [
    "The critical point is at M = $M_{Jeans}$\n",
    "\n",
    "$M_J = \\frac{2}{5}\\frac{G}{R}[4π \\frac{n_f}{r_f^{-p}} \\frac{-r^{3-p}}{p-3}]^2 \\frac{\\mu m_H}{kT}$"
   ]
  },
  {
   "cell_type": "markdown",
   "id": "0ad80513",
   "metadata": {},
   "source": [
    "(4 pts) a sphere with uniform density (as in the standard case), however, the thermal pressure\n",
    "is negligible as the internal energy of the gas is dominated by turbulence. You can assume\n",
    "that the turbulent energy can be incorporated by replacing the sound speed of the gas with\n",
    "the velocity linewidth (assume σ „ 1 kms ́1\n",
    ").2\n",
    "\n",
    "$U = \\frac{-3}{5} \\frac{GM^2}{R}$\n",
    "\n",
    "$P = \\frac{\\rho k_B T}{\\mu m_H}$\n",
    "\n",
    "$c_s = \\sqrt{\\frac{k_B T}{\\mu m_H}}$\n",
    "\n",
    "$U > \\frac{3}{2} NkT$\n",
    "\n",
    "$ \\frac{-3}{5} \\frac{GM^2}{R} > \\frac{3}{2} NkT$\n"
   ]
  },
  {
   "cell_type": "markdown",
   "id": "4946764e",
   "metadata": {},
   "source": [
    "Again, the critical mass is given by:\n",
    "\n",
    "$M_J = \\sqrt{\\frac{-5 N k_B T R }{2G}}$"
   ]
  }
 ],
 "metadata": {
  "kernelspec": {
   "display_name": "Python 3",
   "language": "python",
   "name": "python3"
  },
  "language_info": {
   "codemirror_mode": {
    "name": "ipython",
    "version": 3
   },
   "file_extension": ".py",
   "mimetype": "text/x-python",
   "name": "python",
   "nbconvert_exporter": "python",
   "pygments_lexer": "ipython3",
   "version": "3.9.6"
  }
 },
 "nbformat": 4,
 "nbformat_minor": 5
}
